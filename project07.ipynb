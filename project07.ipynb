{
 "cells": [
  {
   "cell_type": "markdown",
   "id": "cf04d129",
   "metadata": {},
   "source": [
    "# 딕셔너리 응용"
   ]
  },
  {
   "cell_type": "markdown",
   "id": "eeab1ceb",
   "metadata": {},
   "source": [
    "## 순서가 필요없는 데이터 에서 씀"
   ]
  },
  {
   "cell_type": "code",
   "execution_count": 1,
   "id": "02ca2fd4",
   "metadata": {},
   "outputs": [
    {
     "data": {
      "text/plain": [
       "4"
      ]
     },
     "execution_count": 1,
     "metadata": {},
     "output_type": "execute_result"
    }
   ],
   "source": [
    "a = 1\n",
    "a.__add__(3)"
   ]
  },
  {
   "cell_type": "markdown",
   "id": "523bfd40",
   "metadata": {},
   "source": [
    "#### 해당 키가 없으면 추가"
   ]
  },
  {
   "cell_type": "code",
   "execution_count": 3,
   "id": "d4bdc845",
   "metadata": {},
   "outputs": [
    {
     "name": "stdout",
     "output_type": "stream",
     "text": [
      "{'a': 10, 'b': 20, 'c': 30, 'e': 40}\n"
     ]
    }
   ],
   "source": [
    "x = {'a':10, 'b':20, 'c':30}\n",
    "x.setdefault('e',40)\n",
    "print(x)"
   ]
  },
  {
   "cell_type": "code",
   "execution_count": 4,
   "id": "d4816f60",
   "metadata": {},
   "outputs": [
    {
     "name": "stdout",
     "output_type": "stream",
     "text": [
      "{'a': 10, 'b': 20, 'c': 30, 'e': 40, 'f': 50}\n"
     ]
    }
   ],
   "source": [
    "x['f'] =50\n",
    "print(x)"
   ]
  },
  {
   "cell_type": "code",
   "execution_count": 6,
   "id": "45e8685b",
   "metadata": {},
   "outputs": [
    {
     "name": "stdout",
     "output_type": "stream",
     "text": [
      "{'a': 90, 'b': 20, 'c': 30, 'e': 40, 'f': 50}\n"
     ]
    }
   ],
   "source": [
    "x.update(a=90)\n",
    "print(x)"
   ]
  },
  {
   "cell_type": "code",
   "execution_count": 7,
   "id": "47333403",
   "metadata": {},
   "outputs": [
    {
     "name": "stdout",
     "output_type": "stream",
     "text": [
      "{'a': 90, 'b': 21, 'c': 34, 'e': 40, 'f': 50}\n"
     ]
    }
   ],
   "source": [
    "x.update(b=21, c=34)\n",
    "print(x)"
   ]
  },
  {
   "cell_type": "code",
   "execution_count": 8,
   "id": "e6d362a7",
   "metadata": {},
   "outputs": [
    {
     "name": "stdout",
     "output_type": "stream",
     "text": [
      "{'a': 90, 'b': 21, 'c': 34, 'e': 40, 'f': 50, 1: 'apple'}\n"
     ]
    }
   ],
   "source": [
    "x.update({1:'apple'})       #문자열이 아닐때\n",
    "print(x)"
   ]
  },
  {
   "cell_type": "code",
   "execution_count": 10,
   "id": "a52cafe9",
   "metadata": {},
   "outputs": [
    {
     "name": "stdout",
     "output_type": "stream",
     "text": [
      "{'a': 90, 'b': 21, 'c': 34, 'e': 40, 'f': 50, 1: 'pear'}\n"
     ]
    }
   ],
   "source": [
    "x[1] = 'pear'   #키값임 인덱스 아님\n",
    "print(x) "
   ]
  },
  {
   "cell_type": "code",
   "execution_count": 11,
   "id": "9053027f",
   "metadata": {},
   "outputs": [
    {
     "data": {
      "text/plain": [
       "(1, 'apple')"
      ]
     },
     "execution_count": 11,
     "metadata": {},
     "output_type": "execute_result"
    }
   ],
   "source": [
    "a = {'a': 90, 'b': 21, 'c': 34, 'e': 40, 'f': 50, 1: 'apple'}\n",
    "a.popitem()           # 파이썬 3.5 이상 버전은 뒤에서 부터 삭제"
   ]
  },
  {
   "cell_type": "code",
   "execution_count": 12,
   "id": "f7114050",
   "metadata": {},
   "outputs": [
    {
     "data": {
      "text/plain": [
       "('f', 50)"
      ]
     },
     "execution_count": 12,
     "metadata": {},
     "output_type": "execute_result"
    }
   ],
   "source": [
    "a.popitem()"
   ]
  },
  {
   "cell_type": "code",
   "execution_count": 13,
   "id": "20ed18ab",
   "metadata": {},
   "outputs": [
    {
     "name": "stdout",
     "output_type": "stream",
     "text": [
      "{'a': 90, 'b': 21, 'c': 34, 'e': 40}\n"
     ]
    }
   ],
   "source": [
    "print(a)"
   ]
  },
  {
   "cell_type": "code",
   "execution_count": 14,
   "id": "25f4b3f1",
   "metadata": {},
   "outputs": [
    {
     "data": {
      "text/plain": [
       "90"
      ]
     },
     "execution_count": 14,
     "metadata": {},
     "output_type": "execute_result"
    }
   ],
   "source": [
    "a = {'a': 90, 'b': 21, 'c': 34, 'e': 40}\n",
    "a.get('a')           # .get() ->dict"
   ]
  },
  {
   "cell_type": "code",
   "execution_count": 15,
   "id": "0bc16036",
   "metadata": {},
   "outputs": [
    {
     "data": {
      "text/plain": [
       "90"
      ]
     },
     "execution_count": 15,
     "metadata": {},
     "output_type": "execute_result"
    }
   ],
   "source": [
    "a['a']"
   ]
  },
  {
   "cell_type": "code",
   "execution_count": 16,
   "id": "7c0e86de",
   "metadata": {},
   "outputs": [
    {
     "name": "stdout",
     "output_type": "stream",
     "text": [
      "a b c e "
     ]
    }
   ],
   "source": [
    "a = {'a': 90, 'b': 21, 'c': 34, 'e': 40}\n",
    "for i in a:           # 키만 받아옴\n",
    "    print(i, end=' ')"
   ]
  },
  {
   "cell_type": "code",
   "execution_count": 17,
   "id": "d88b6696",
   "metadata": {},
   "outputs": [
    {
     "name": "stdout",
     "output_type": "stream",
     "text": [
      "a : 90\n",
      "b : 21\n",
      "c : 34\n",
      "e : 40\n"
     ]
    }
   ],
   "source": [
    "for k, v in a.items():\n",
    "    print(k,v,sep=' : ')"
   ]
  },
  {
   "cell_type": "markdown",
   "id": "7b705c07",
   "metadata": {},
   "source": [
    "### 이중 딕셔너리"
   ]
  },
  {
   "cell_type": "code",
   "execution_count": 18,
   "id": "177876bd",
   "metadata": {},
   "outputs": [
    {
     "ename": "SyntaxError",
     "evalue": "invalid decimal literal (3696705686.py, line 4)",
     "output_type": "error",
     "traceback": [
      "\u001b[1;36m  Input \u001b[1;32mIn [18]\u001b[1;36m\u001b[0m\n\u001b[1;33m    'mass' : 3.3022E +23,\u001b[0m\n\u001b[1;37m                  ^\u001b[0m\n\u001b[1;31mSyntaxError\u001b[0m\u001b[1;31m:\u001b[0m invalid decimal literal\n"
     ]
    }
   ],
   "source": [
    "terrestrial_planet = {\n",
    "    'mercury' : {\n",
    "        'mean_radius' : 2439.7,\n",
    "        'mass' : 3.3022E +23,\n",
    "        'orbital_period' : 87.969,\n",
    "    },\n",
    "    'venus' : {\n",
    "        'mean_radius' : 6051.0,\n",
    "        'mass' : 4.8676E +24,\n",
    "        'orbital_period' : 224.70069,\n",
    "    }\n",
    "}\n",
    "print(terrestrial_planet['venus']['orbital_period'])"
   ]
  },
  {
   "cell_type": "markdown",
   "id": "ac1a4797",
   "metadata": {},
   "source": [
    "# set()"
   ]
  },
  {
   "cell_type": "markdown",
   "id": "5fc72ed7",
   "metadata": {},
   "source": [
    "### 안에 값은 중요치 않고 딕셔너리 덩어리의 관계"
   ]
  },
  {
   "cell_type": "markdown",
   "id": "050dfcb1",
   "metadata": {},
   "source": [
    "# 람다(lambda)"
   ]
  },
  {
   "cell_type": "markdown",
   "id": "4bba81d2",
   "metadata": {},
   "source": [
    "#### 변수생성 불가 조건식삽입 가능"
   ]
  },
  {
   "cell_type": "code",
   "execution_count": 19,
   "id": "6dfc0b59",
   "metadata": {},
   "outputs": [
    {
     "data": {
      "text/plain": [
       "11"
      ]
     },
     "execution_count": 19,
     "metadata": {},
     "output_type": "execute_result"
    }
   ],
   "source": [
    "def plus_ten(x):\n",
    "    return x+10\n",
    "\n",
    "plus_ten(1)"
   ]
  },
  {
   "cell_type": "code",
   "execution_count": 20,
   "id": "6b9742a1",
   "metadata": {},
   "outputs": [
    {
     "data": {
      "text/plain": [
       "<function __main__.<lambda>(x)>"
      ]
     },
     "execution_count": 20,
     "metadata": {},
     "output_type": "execute_result"
    }
   ],
   "source": [
    "lambda x : x+ 10      # 인자 : 리턴값"
   ]
  },
  {
   "cell_type": "code",
   "execution_count": 21,
   "id": "ebc0e92b",
   "metadata": {},
   "outputs": [
    {
     "data": {
      "text/plain": [
       "11"
      ]
     },
     "execution_count": 21,
     "metadata": {},
     "output_type": "execute_result"
    }
   ],
   "source": [
    "plus_ten = lambda x: x+10\n",
    "plus_ten(1)              # 익명 함수 -> 1회용"
   ]
  },
  {
   "cell_type": "code",
   "execution_count": 24,
   "id": "c3bf1051",
   "metadata": {},
   "outputs": [
    {
     "data": {
      "text/plain": [
       "11"
      ]
     },
     "execution_count": 24,
     "metadata": {},
     "output_type": "execute_result"
    }
   ],
   "source": [
    "(lambda x: x+10)(1)"
   ]
  },
  {
   "cell_type": "code",
   "execution_count": 25,
   "id": "d01eeba1",
   "metadata": {},
   "outputs": [
    {
     "data": {
      "text/plain": [
       "[11, 12, 13]"
      ]
     },
     "execution_count": 25,
     "metadata": {},
     "output_type": "execute_result"
    }
   ],
   "source": [
    "list(map(lambda x: x+10, [1,2,3]))"
   ]
  },
  {
   "cell_type": "markdown",
   "id": "18cfc429",
   "metadata": {},
   "source": [
    "### if를 쓰면 else는 무조건 잇어야 오류가 안생긴다"
   ]
  },
  {
   "cell_type": "code",
   "execution_count": 26,
   "id": "8d3b17a2",
   "metadata": {},
   "outputs": [
    {
     "data": {
      "text/plain": [
       "[1, 2, '3', 4, 5, '6', 7, 8, '9', 10]"
      ]
     },
     "execution_count": 26,
     "metadata": {},
     "output_type": "execute_result"
    }
   ],
   "source": [
    "a = list(range(1,11))          # if를 쓰면 else는 무조건 잇어야 오류가 안생긴다\n",
    "list(map(lambda x: str(x) if x % 3 ==0 else x,a))   "
   ]
  },
  {
   "cell_type": "markdown",
   "id": "9fb954c5",
   "metadata": {},
   "source": [
    "### lambda 에는 elif가 없다 if else else...."
   ]
  },
  {
   "cell_type": "code",
   "execution_count": null,
   "id": "5ae15006",
   "metadata": {},
   "outputs": [],
   "source": [
    "a = list([random.randint(1,100) for i in range(10)])\n",
    "print(a)\n",
    "list(filter(lambda x x:5 and x < 50, a))"
   ]
  },
  {
   "cell_type": "markdown",
   "id": "b7e822cc",
   "metadata": {},
   "source": [
    "# 리스트 컴프리헨션과 난수 함수를 이용하여 사용자가 입력한 횟수만큰 로또 번호를 출력하시오"
   ]
  },
  {
   "cell_type": "code",
   "execution_count": 32,
   "id": "c99a6514",
   "metadata": {},
   "outputs": [],
   "source": [
    "import random"
   ]
  },
  {
   "cell_type": "code",
   "execution_count": 38,
   "id": "19f7a8f1",
   "metadata": {},
   "outputs": [],
   "source": [
    "number =[]\n",
    "while len(number) < 6:\n",
    "    a = random.randint(1,46)\n",
    "    if a not in number:\n",
    "        number.append(a)"
   ]
  },
  {
   "cell_type": "code",
   "execution_count": 39,
   "id": "943a9675",
   "metadata": {},
   "outputs": [
    {
     "name": "stdout",
     "output_type": "stream",
     "text": [
      "[14, 28, 39, 41, 12, 23]\n"
     ]
    }
   ],
   "source": [
    "print(number)"
   ]
  },
  {
   "cell_type": "code",
   "execution_count": 40,
   "id": "28471877",
   "metadata": {},
   "outputs": [
    {
     "name": "stdout",
     "output_type": "stream",
     "text": [
      "로또 추첨 회수를 입력하세요4\n",
      "[15, 17, 25, 29, 30, 44]\n",
      "[6, 9, 14, 22, 28, 44]\n",
      "[10, 21, 24, 40, 43, 44]\n",
      "[3, 7, 10, 24, 35, 39]\n"
     ]
    }
   ],
   "source": [
    "num = int(input(\"로또 추첨 회수를 입력하세요\").strip())\n",
    "for _ in range(num):\n",
    "    print(sorted(random.sample(range(1,46), 6)))"
   ]
  },
  {
   "cell_type": "markdown",
   "id": "6f6e1161",
   "metadata": {},
   "source": [
    "# 로또 번호 1회 추첨하여 표본으로 삼고 이후 반복을 하면서 당첨 번호가 나올떄까지 횟수를 출력하시오"
   ]
  },
  {
   "cell_type": "code",
   "execution_count": 2,
   "id": "c0d4afb1",
   "metadata": {},
   "outputs": [
    {
     "name": "stdout",
     "output_type": "stream",
     "text": [
      "2063303 당청 안됨\n"
     ]
    }
   ],
   "source": [
    "from IPython.display import clear_output\n",
    "import random\n",
    "sample_lotto = sorted(random.sample(range(1,46), 6))\n",
    "print(f\"표본 {sample_lotto}\")\n",
    "count = 0\n",
    "while True:\n",
    "    count += 1\n",
    "    lotto = sorted(random.sample(range(1,46), 6))\n",
    "    if lotto == sample_lotto:\n",
    "        print(f\"{count} 회차 당첨\")\n",
    "        break\n",
    "    else:\n",
    "        clear_output(wait=True)\n",
    "        print(f\"{count} 당청 안됨\")"
   ]
  },
  {
   "cell_type": "code",
   "execution_count": null,
   "id": "25df61ae",
   "metadata": {},
   "outputs": [],
   "source": [
    "  "
   ]
  }
 ],
 "metadata": {
  "kernelspec": {
   "display_name": "Python 3 (ipykernel)",
   "language": "python",
   "name": "python3"
  },
  "language_info": {
   "codemirror_mode": {
    "name": "ipython",
    "version": 3
   },
   "file_extension": ".py",
   "mimetype": "text/x-python",
   "name": "python",
   "nbconvert_exporter": "python",
   "pygments_lexer": "ipython3",
   "version": "3.10.4"
  }
 },
 "nbformat": 4,
 "nbformat_minor": 5
}
