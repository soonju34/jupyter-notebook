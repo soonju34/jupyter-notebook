{
 "cells": [
  {
   "cell_type": "markdown",
   "metadata": {
    "pycharm": {
     "name": "#%% md\n"
    }
   },
   "source": [
    "### [실습] 이상한 나라의 엘리스\n",
    "\n",
    "[구텐베르크 프로젝트](https://www.gutenberg.org/browse/scores/top)에서 이상한 나라의 엘리스(Alice's Adventures in Wonderland by Lewis Carroll)를 다운받을 수 있습니다.\n",
    "\n",
    "**스텝1** \"Alice\"가 몇 번 나오는지 세어봅시다. 대소문자는 구분하지 않습니다."
   ]
  },
  {
   "cell_type": "code",
   "execution_count": 87,
   "metadata": {},
   "outputs": [
    {
     "name": "stdout",
     "output_type": "stream",
     "text": [
      "403\n"
     ]
    }
   ],
   "source": [
    "with open(\"Alice.txt\", 'r') as f:\n",
    "    read_data = f.read()\n",
    "    \n",
    "print(read_data.lower().count('alice'))"
   ]
  },
  {
   "cell_type": "code",
   "execution_count": 1,
   "metadata": {},
   "outputs": [
    {
     "name": "stdout",
     "output_type": "stream",
     "text": [
      "<class 'list'>\n",
      "403\n"
     ]
    }
   ],
   "source": [
    "with open(\"Alice.txt\", \"r\") as f:\n",
    "    read_data = f.read()\n",
    "\n",
    "splitted = read_data.split()\n",
    "print(type(splitted))\n",
    "count = 0\n",
    "for w in splitted:\n",
    "    if 'alice' in w.lower():\n",
    "        count += 1\n",
    "\n",
    "print(count)"
   ]
  },
  {
   "cell_type": "code",
   "execution_count": 2,
   "metadata": {},
   "outputs": [
    {
     "name": "stdout",
     "output_type": "stream",
     "text": [
      "403\n"
     ]
    }
   ],
   "source": [
    "with open(\"Alice.txt\", \"r\") as f:\n",
    "    read_data = f.read()\n",
    "\n",
    "splitted = read_data.split()\n",
    "\n",
    "count = 0\n",
    "print(len([w for w in splitted if 'alice' in w.lower()]))"
   ]
  },
  {
   "cell_type": "code",
   "execution_count": 3,
   "metadata": {
    "pycharm": {
     "name": "#%%\n"
    }
   },
   "outputs": [
    {
     "name": "stdout",
     "output_type": "stream",
     "text": [
      "403\n"
     ]
    }
   ],
   "source": [
    "# 정규식(regex)을 이용한 더 간단한 방법\n",
    "import re\n",
    "\n",
    "with open(\"Alice.txt\", \"r\") as f:\n",
    "    read_data = f.read()\n",
    "    \n",
    "res = len(re.findall('Alice', read_data, re.IGNORECASE))\n",
    "print(res)"
   ]
  },
  {
   "cell_type": "markdown",
   "metadata": {
    "pycharm": {
     "name": "#%% md\n"
    }
   },
   "source": [
    "**스텝2** 어떤 알파벳이 가장 많이 사용되었는지 세어봅시다. 대소문자를 구분하지 않습니다.\n",
    "> e\n",
    "{'e': 15490, 't': 12291, 'a': 9849, 'o': 9530, 'i': 8650, 'n': 8077, 'h': 7927, 's': 7281, 'r': 6666, 'd': 5485, 'l': 5223, 'u': 3998, 'c': 3033, 'w': 2976, 'g': 2954, 'y': 2606, 'm': 2464, 'f': 2384, 'p': 1978, 'b': 1758, 'k': 1298, 'v': 969, 'j': 236, 'q': 223, 'x': 181, 'z': 80}"
   ]
  },
  {
   "cell_type": "code",
   "execution_count": 98,
   "metadata": {
    "pycharm": {
     "name": "#%%\n"
    }
   },
   "outputs": [
    {
     "name": "stdout",
     "output_type": "stream",
     "text": [
      "{'t': 12291, 'h': 7927, 'e': 15490, ' ': 27431, 'p': 1978, 'r': 6666, 'o': 9530, 'j': 236, 'c': 3033, 'g': 2954, 'u': 3998, 'n': 8077, 'b': 1758, 'k': 1298, 'f': 2384, 'a': 9849, 'l': 5223, 'i': 8650, '’': 710, 's': 7281, 'd': 5485, 'v': 969, 'w': 2976, ',': 2571, 'y': 2606, '\\n': 3761, 'm': 2464, '.': 1222, '-': 222, ':': 249, '1': 67, '9': 9, '[': 5, '#': 1, ']': 5, '2': 10, '0': 21, '8': 10, '*': 86, '3': 12, 'q': 223, 'x': 181, '?': 467, '“': 1118, '”': 1114, '(': 73, ')': 73, '_': 440, ';': 193, '!': 452, 'z': 80, '‘': 46, '/': 11, '\"': 22, '7': 4, '4': 8, '5': 9, '6': 7, '%': 1, \"'\": 7, '$': 2}\n"
     ]
    }
   ],
   "source": [
    "with open(\"Alice.txt\", 'r') as f:\n",
    "    read_data = f.read()\n",
    "data = read_data.lower()\n",
    "dic = {}\n",
    "for chr in data:\n",
    "    if chr in dic:\n",
    "        dic[chr] += 1\n",
    "    else:\n",
    "        dic[chr] = 1\n",
    "print(dic)"
   ]
  },
  {
   "cell_type": "markdown",
   "metadata": {},
   "source": [
    "> Counter({'l': 3, 'o': 2, 'H': 1, 'e': 1, ' ': 1, 'W': 1, 'r': 1, 'd': 1, '!': 1})"
   ]
  },
  {
   "cell_type": "code",
   "execution_count": 36,
   "metadata": {
    "pycharm": {
     "name": "#%%\n"
    }
   },
   "outputs": [
    {
     "name": "stdout",
     "output_type": "stream",
     "text": [
      "Counter({'l': 3, 'o': 2, 'H': 1, 'e': 1, ' ': 1, 'W': 1, 'r': 1, 'd': 1, '!': 1})\n"
     ]
    }
   ],
   "source": [
    "# 모듈 함수 Counter()를 이용\n",
    "from collections import Counter\n",
    "my_str = \"Hello World!\"\n",
    "print(Counter(my_str))"
   ]
  },
  {
   "cell_type": "markdown",
   "metadata": {},
   "source": [
    "> e\n",
    "{'e': 15490, 't': 12291, 'a': 9849, 'o': 9530, 'i': 8650, 'n': 8077, 'h': 7927, 's': 7281, 'r': 6666, 'd': 5485, 'l': 5223, 'u': 3998, 'c': 3033, 'w': 2976, 'g': 2954, 'y': 2606, 'm': 2464, 'f': 2384, 'p': 1978, 'b': 1758, 'k': 1298, 'v': 969, 'j': 236, 'q': 223, 'x': 181, 'z': 80}"
   ]
  },
  {
   "cell_type": "code",
   "execution_count": 131,
   "metadata": {},
   "outputs": [
    {
     "name": "stdout",
     "output_type": "stream",
     "text": [
      "Counter({'e': 15490, 't': 12291, 'a': 9849, 'o': 9530, 'i': 8650, 'n': 8077, 'h': 7927, 's': 7281, 'r': 6666, 'd': 5485, 'l': 5223, 'u': 3998, 'c': 3033, 'w': 2976, 'g': 2954, 'y': 2606, 'm': 2464, 'f': 2384, 'p': 1978, 'b': 1758, 'k': 1298, 'v': 969, 'j': 236, 'q': 223, 'x': 181, 'z': 80})\n"
     ]
    }
   ],
   "source": [
    "from collections import Counter\n",
    "with open(\"Alice.txt\", 'r') as f:\n",
    "    read_data = f.read()\n",
    "data = read_data.lower()\n",
    "dic = {}\n",
    "for chr in data:\n",
    "    if chr in dic:\n",
    "        dic[chr] += 1\n",
    "    else:\n",
    "        dic[chr] = 1\n",
    "x = {key: value for key, value in dic.items() if key.isalpha() == True} \n",
    "print(Counter(x))"
   ]
  },
  {
   "cell_type": "code",
   "execution_count": 37,
   "metadata": {
    "pycharm": {
     "name": "#%%\n"
    }
   },
   "outputs": [
    {
     "data": {
      "text/plain": [
       "{'e': 15490,\n",
       " 't': 12291,\n",
       " 'a': 9849,\n",
       " 'o': 9530,\n",
       " 'i': 8650,\n",
       " 'n': 8077,\n",
       " 'h': 7927,\n",
       " 's': 7281,\n",
       " 'r': 6666,\n",
       " 'd': 5485,\n",
       " 'l': 5223,\n",
       " 'u': 3998,\n",
       " 'c': 3033,\n",
       " 'w': 2976,\n",
       " 'g': 2954,\n",
       " 'y': 2606,\n",
       " 'm': 2464,\n",
       " 'f': 2384,\n",
       " 'p': 1978,\n",
       " 'b': 1758,\n",
       " 'k': 1298,\n",
       " 'v': 969,\n",
       " 'j': 236,\n",
       " 'q': 223,\n",
       " 'x': 181,\n",
       " 'z': 80}"
      ]
     },
     "execution_count": 37,
     "metadata": {},
     "output_type": "execute_result"
    }
   ],
   "source": [
    "from collections import Counter\n",
    "# 딕셔너리 컴프리센션을 이용한 방법\n",
    "# 모듈 함수 Counter()와 .isalpha() 활용\n",
    "with open(\"Alice.txt\", 'r') as f:\n",
    "    read_data = f.read()\n",
    "\n",
    "if read_data.key == True:\n",
    "    \n",
    "    print(Counter(read_data))"
   ]
  }
 ],
 "metadata": {
  "interpreter": {
   "hash": "c9e3598667a9b4826dc0715db37fec6d4eb7b4cb364ec4d7624ecbefebdc40f5"
  },
  "kernelspec": {
   "display_name": "Python 3 (ipykernel)",
   "language": "python",
   "name": "python3"
  },
  "language_info": {
   "codemirror_mode": {
    "name": "ipython",
    "version": 3
   },
   "file_extension": ".py",
   "mimetype": "text/x-python",
   "name": "python",
   "nbconvert_exporter": "python",
   "pygments_lexer": "ipython3",
   "version": "3.10.4"
  }
 },
 "nbformat": 4,
 "nbformat_minor": 2
}
