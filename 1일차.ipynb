{
 "cells": [
  {
   "cell_type": "markdown",
   "id": "718602b5",
   "metadata": {},
   "source": [
    "### [문제1] Hi, I'm Hero! 을 출력하세요."
   ]
  },
  {
   "cell_type": "code",
   "execution_count": 17,
   "id": "2341a048",
   "metadata": {},
   "outputs": [
    {
     "name": "stdout",
     "output_type": "stream",
     "text": [
      "Hi, I'm Hero!\n"
     ]
    }
   ],
   "source": [
    "print('Hi, I\\'m Hero!')"
   ]
  },
  {
   "cell_type": "markdown",
   "id": "592a12e9",
   "metadata": {},
   "source": [
    "### [문제2] 원의 넓이 구하기\n",
    "\n",
    "반지름(radius)이 1.2인 원의 넓이(area)를 계산해봅시다.\n",
    "\n",
    "> $area = \\pi \\times radius^2$\n",
    "\n",
    "이때 $\\pi$는 3.141592라고 가정합시다."
   ]
  },
  {
   "cell_type": "code",
   "execution_count": 19,
   "id": "c3e34a8a",
   "metadata": {},
   "outputs": [
    {
     "name": "stdout",
     "output_type": "stream",
     "text": [
      "4.52389248\n"
     ]
    }
   ],
   "source": [
    "r = 1.2\n",
    "pi = 3.141592\n",
    "area = pi * r**2\n",
    "print(area)"
   ]
  },
  {
   "cell_type": "markdown",
   "id": "27852b4e",
   "metadata": {},
   "source": [
    "### [문제3] 스왑(swap)\n",
    "x = 10 이고 y = 20 일때 서로의 값을 바꾸세요.\n"
   ]
  },
  {
   "cell_type": "code",
   "execution_count": 2,
   "id": "8e31f119",
   "metadata": {},
   "outputs": [
    {
     "name": "stdout",
     "output_type": "stream",
     "text": [
      "10 20\n",
      "20 10\n"
     ]
    }
   ],
   "source": [
    "x = 10\n",
    "y = 20\n",
    "print(x, y)\n",
    "\n",
    "x, y = y, x\n",
    "\n",
    "print(x, y)"
   ]
  },
  {
   "cell_type": "raw",
   "id": "8788178b",
   "metadata": {},
   "source": [
    "### [문제4] 위 스왑(swap)문제에서 temp 변수를 추가해서 \n",
    "x = 10 이고 y = 20 일때 서로의 값을 바꾸세요."
   ]
  },
  {
   "cell_type": "code",
   "execution_count": 15,
   "id": "864e29a6",
   "metadata": {},
   "outputs": [
    {
     "name": "stdout",
     "output_type": "stream",
     "text": [
      "10 20\n",
      "20 10\n"
     ]
    }
   ],
   "source": [
    "x = 10\n",
    "y = 20\n",
    "print(x, y)\n",
    "\n",
    "temp = x\n",
    "x = y\n",
    "y =temp\n",
    "\n",
    "print(x, y)"
   ]
  },
  {
   "cell_type": "markdown",
   "id": "34fb385e",
   "metadata": {},
   "source": [
    "### [문제5] 1에서 100까지 정수가 들어있는 list 를 만드세요.  \n",
    "예) my_list = [1, 2, ..., 99, 100]"
   ]
  },
  {
   "cell_type": "code",
   "execution_count": 9,
   "id": "e58c39a2",
   "metadata": {},
   "outputs": [
    {
     "name": "stdout",
     "output_type": "stream",
     "text": [
      "[1, 2, 3, 4, 5, 6, 7, 8, 9, 10, 11, 12, 13, 14, 15, 16, 17, 18, 19, 20, 21, 22, 23, 24, 25, 26, 27, 28, 29, 30, 31, 32, 33, 34, 35, 36, 37, 38, 39, 40, 41, 42, 43, 44, 45, 46, 47, 48, 49, 50, 51, 52, 53, 54, 55, 56, 57, 58, 59, 60, 61, 62, 63, 64, 65, 66, 67, 68, 69, 70, 71, 72, 73, 74, 75, 76, 77, 78, 79, 80, 81, 82, 83, 84, 85, 86, 87, 88, 89, 90, 91, 92, 93, 94, 95, 96, 97, 98, 99, 100]\n"
     ]
    }
   ],
   "source": [
    "a = list(range(1, 101))\n",
    "print(a)"
   ]
  },
  {
   "cell_type": "markdown",
   "id": "1d02c4b6",
   "metadata": {},
   "source": [
    "### [문제6] 평균 점수 출력하기\n",
    "\n",
    "여러 학생들의 수학 점수를 사전(dict)에 저장해두었습니다. ```sum()``` 함수를 사용해서 평균 점수를 출력해보세요.  \n",
    "정답: ```59.8```"
   ]
  },
  {
   "cell_type": "code",
   "execution_count": 13,
   "id": "7afd64d4",
   "metadata": {},
   "outputs": [
    {
     "name": "stdout",
     "output_type": "stream",
     "text": [
      "59.8\n"
     ]
    }
   ],
   "source": [
    "math_scores = {\"둘리\": 20, \"희동이\":40, \"또치\":80, \"도우너\":60, \"고길동\":99}\n",
    "\n",
    "avg = sum(math_scores.values()) / len(math_scores)\n",
    "print(avg)"
   ]
  },
  {
   "cell_type": "code",
   "execution_count": null,
   "id": "32505bdd",
   "metadata": {},
   "outputs": [],
   "source": []
  }
 ],
 "metadata": {
  "kernelspec": {
   "display_name": "Python 3 (ipykernel)",
   "language": "python",
   "name": "python3"
  },
  "language_info": {
   "codemirror_mode": {
    "name": "ipython",
    "version": 3
   },
   "file_extension": ".py",
   "mimetype": "text/x-python",
   "name": "python",
   "nbconvert_exporter": "python",
   "pygments_lexer": "ipython3",
   "version": "3.10.4"
  }
 },
 "nbformat": 4,
 "nbformat_minor": 5
}
