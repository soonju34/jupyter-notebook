{
 "cells": [
  {
   "cell_type": "markdown",
   "metadata": {
    "pycharm": {
     "name": "#%% md\n"
    }
   },
   "source": [
    "### [FastAPI 소개](https://dingrr.com/blog/post/python-웹프레임워크-끝판왕-가리기-django-flask-fastapi-sanic)"
   ]
  },
  {
   "cell_type": "markdown",
   "metadata": {
    "pycharm": {
     "name": "#%% md\n"
    }
   },
   "source": [
    "### REST란\n",
    "#### REST의 정의\n",
    "“Representational State Transfer” 의 약자\n",
    "+ 자원을 이름(자원의 표현)으로 구분하여 해당 자원의 상태(정보)를 주고 받는 모든 것을 의미한다.\n",
    "\n",
    "+ 월드 와이드 웹(www)과 같은 분산 하이퍼미디어 시스템을 위한 소프트웨어 개발 아키텍처의 한 형식\n",
    "+ REST는 기본적으로 웹의 기존 기술과 HTTP 프로토콜을 그대로 활용하기 때문에 웹의 장점을 최대한 활용할 수 있는 아키텍처 스타일이다.\n",
    "+ REST는 네트워크 상에서 Client와 Server 사이의 통신 방식 중 하나이다.\n"
   ]
  },
  {
   "cell_type": "markdown",
   "metadata": {
    "pycharm": {
     "name": "#%% md\n"
    }
   },
   "source": [
    "#### REST의 구체적인 개념\n",
    "HTTP URI(Uniform Resource Identifier)를 통해 자원(Resource)을 명시<bt>\n",
    "HTTP Method(POST, GET, PUT, DELETE)를 통해 해당 자원에 대한 CRUD Operation을 적용하는 것을 의미한다.\n"
   ]
  },
  {
   "cell_type": "markdown",
   "metadata": {
    "pycharm": {
     "name": "#%% md\n"
    }
   },
   "source": [
    "#### REST의 장단점\n",
    "##### 장점\n",
    "+ HTTP 프로토콜의 인프라를 그대로 사용하므로 REST API 사용을 위한 별도의 인프라를 구출할 필요가 없다.\n",
    "+ HTTP 프로토콜의 표준을 최대한 활용하여 여러 추가적인 장점을 함께 가져갈 수 있게 해준다.\n",
    "+ HTTP 표준 프로토콜에 따르는 모든 플랫폼에서 사용이 가능하다.\n",
    "+ Hypermedia API의 기본을 충실히 지키면서 범용성을 보장한다.\n",
    "+ REST API 메시지가 의도하는 바를 명확하게 나타내므로 의도하는 바를 쉽게 파악할 수 있다.\n",
    "+ 여러가지 서비스 디자인에서 생길 수 있는 문제를 최소화한다.\n",
    "+ 서버와 클라이언트의 역할을 명확하게 분리한다.\n",
    "##### 단점\n",
    "+ 표준이 존재하지 않는다.\n",
    "+ 사용할 수 있는 메소드가 4가지 밖에 없다.\n",
    "+ HTTP Method 형태가 제한적이다.\n",
    "+ 브라우저를 통해 테스트할 일이 많은 서비스라면 쉽게 고칠 수 있는 URL보다 Header 값이 왠지 더 어렵게 느껴진다.\n",
    "+ 구형 브라우저가 아직 제대로 지원해주지 못하는 부분이 존재한다.\n",
    "+ PUT, DELETE를 사용하지 못하는 점\n",
    "+ pushState를 지원하지 않는 점"
   ]
  },
  {
   "cell_type": "markdown",
   "metadata": {
    "pycharm": {
     "name": "#%% md\n"
    }
   },
   "source": [
    "### [REST API란](https://youtu.be/ckSdPNKM2pY)\n",
    "#### API(Application Programming Interface)란\n",
    "+ 데이터와 기능의 집합을 제공하여 컴퓨터 프로그램간 상호작용을 촉진하며, 서로 정보를 교환가능 하도록 하는 것\n",
    "#### REST API의 정의\n",
    "+ REST 기반으로 서비스 API를 구현한 것\n",
    "+ 최근 OpenAPI(누구나 사용할 수 있도록 공개된 API: 구글 맵, 공공 데이터 등), 마이크로 서비스(하나의 큰 애플리케이션을 여러 개의 작은 애플리케이션으로 쪼개어 변경과 조합이 가능하도록 만든 아키텍처) 등을 제공하는 업체 대부분은 REST API를 제공한다.\n",
    "#### REST API의 특징\n",
    "+ 사내 시스템들도 REST 기반으로 시스템을 분산해 확장성과 재사용성을 높여 유지보수 및 운용을 편리하게 할 수 있다.\n",
    "+ REST는 HTTP 표준을 기반으로 구현하므로, HTTP를 지원하는 프로그램 언어로 클라이언트, 서버를 구현할 수 있다.\n",
    "+ 즉, REST API를 제작하면 델파이 클라이언트 뿐 아니라, 자바, C#, 웹 등을 이용해 클라이언트를 제작할 수 있다."
   ]
  },
  {
   "cell_type": "markdown",
   "metadata": {
    "pycharm": {
     "name": "#%% md\n"
    }
   },
   "source": [
    "### RESTful이란<br>\n",
    "\n",
    "#### RESTful은 일반적으로 REST라는 아키텍처를 구현하는 웹 서비스를 나타내기 위해 사용되는 용어이다.\n",
    "‘REST API’를 제공하는 웹 서비스를 ‘RESTful’하다고 할 수 있다.\n",
    "RESTful은 REST를 REST답게 쓰기 위한 방법으로, 누군가가 공식적으로 발표한 것이 아니다.\n",
    "즉, REST 원리를 따르는 시스템은 RESTful이란 용어로 지칭된다.<br>\n",
    "\n",
    "#### RESTful의 목적\n",
    "이해하기 쉽고 사용하기 쉬운 REST API를 만드는 것\n",
    "RESTful한 API를 구현하는 근본적인 목적이 성능 향상에 있는 것이 아니라 일관적인 컨벤션을 통한 API의 이해도 및 호환성을 높이는 것이 주 동기이니, 성능이 중요한 상황에서는 굳이 RESTful한 API를 구현할 필요는 없다.<br>\n",
    "\n",
    "#### RESTful 하지 못한 경우\n",
    "Ex1) CRUD 기능을 모두 POST로만 처리하는 API\n",
    "Ex2) route에 resource, id 외의 정보가 들어가는 경우(/students/updateName)"
   ]
  },
  {
   "cell_type": "code",
   "execution_count": 1,
   "metadata": {
    "pycharm": {
     "name": "#%%\n"
    }
   },
   "outputs": [
    {
     "name": "stdout",
     "output_type": "stream",
     "text": [
      "Collecting fastapi\n",
      "  Downloading fastapi-0.79.0-py3-none-any.whl (54 kB)\n",
      "Collecting pydantic!=1.7,!=1.7.1,!=1.7.2,!=1.7.3,!=1.8,!=1.8.1,<2.0.0,>=1.6.2\n",
      "  Downloading pydantic-1.9.1-cp310-cp310-win_amd64.whl (2.0 MB)\n",
      "Collecting starlette==0.19.1\n",
      "  Downloading starlette-0.19.1-py3-none-any.whl (63 kB)\n",
      "Collecting anyio<5,>=3.4.0\n",
      "  Downloading anyio-3.6.1-py3-none-any.whl (80 kB)\n",
      "Requirement already satisfied: idna>=2.8 in c:\\users\\user\\.conda\\envs\\py39\\lib\\site-packages (from anyio<5,>=3.4.0->starlette==0.19.1->fastapi) (3.3)\n",
      "Collecting sniffio>=1.1\n",
      "  Downloading sniffio-1.2.0-py3-none-any.whl (10 kB)\n",
      "Requirement already satisfied: typing-extensions>=3.7.4.3 in c:\\users\\user\\.conda\\envs\\py39\\lib\\site-packages (from pydantic!=1.7,!=1.7.1,!=1.7.2,!=1.7.3,!=1.8,!=1.8.1,<2.0.0,>=1.6.2->fastapi) (4.1.1)\n",
      "Installing collected packages: sniffio, anyio, starlette, pydantic, fastapi\n",
      "Successfully installed anyio-3.6.1 fastapi-0.79.0 pydantic-1.9.1 sniffio-1.2.0 starlette-0.19.1\n"
     ]
    }
   ],
   "source": [
    "!pip install fastapi"
   ]
  },
  {
   "cell_type": "code",
   "execution_count": 2,
   "metadata": {},
   "outputs": [
    {
     "name": "stdout",
     "output_type": "stream",
     "text": [
      "Collecting uvicorn[standard]\n",
      "  Downloading uvicorn-0.18.2-py3-none-any.whl (57 kB)\n",
      "Requirement already satisfied: click>=7.0 in c:\\users\\user\\.conda\\envs\\py39\\lib\\site-packages (from uvicorn[standard]) (8.1.3)\n",
      "Collecting h11>=0.8\n",
      "  Downloading h11-0.13.0-py3-none-any.whl (58 kB)\n",
      "Collecting watchfiles>=0.13\n",
      "  Downloading watchfiles-0.16.1-cp37-abi3-win_amd64.whl (258 kB)\n",
      "Collecting websockets>=10.0\n",
      "  Downloading websockets-10.3-cp310-cp310-win_amd64.whl (98 kB)\n",
      "Collecting httptools>=0.4.0\n",
      "  Downloading httptools-0.4.0-cp310-cp310-win_amd64.whl (143 kB)\n",
      "Collecting python-dotenv>=0.13\n",
      "  Downloading python_dotenv-0.20.0-py3-none-any.whl (17 kB)\n",
      "Requirement already satisfied: colorama>=0.4 in c:\\users\\user\\.conda\\envs\\py39\\lib\\site-packages (from uvicorn[standard]) (0.4.4)\n",
      "Collecting PyYAML>=5.1\n",
      "  Downloading PyYAML-6.0-cp310-cp310-win_amd64.whl (151 kB)\n",
      "Requirement already satisfied: anyio<4,>=3.0.0 in c:\\users\\user\\.conda\\envs\\py39\\lib\\site-packages (from watchfiles>=0.13->uvicorn[standard]) (3.6.1)\n",
      "Requirement already satisfied: sniffio>=1.1 in c:\\users\\user\\.conda\\envs\\py39\\lib\\site-packages (from anyio<4,>=3.0.0->watchfiles>=0.13->uvicorn[standard]) (1.2.0)\n",
      "Requirement already satisfied: idna>=2.8 in c:\\users\\user\\.conda\\envs\\py39\\lib\\site-packages (from anyio<4,>=3.0.0->watchfiles>=0.13->uvicorn[standard]) (3.3)\n",
      "Installing collected packages: h11, websockets, watchfiles, uvicorn, PyYAML, python-dotenv, httptools\n",
      "Successfully installed PyYAML-6.0 h11-0.13.0 httptools-0.4.0 python-dotenv-0.20.0 uvicorn-0.18.2 watchfiles-0.16.1 websockets-10.3\n"
     ]
    }
   ],
   "source": [
    "!pip install \"uvicorn[standard]\""
   ]
  },
  {
   "cell_type": "code",
   "execution_count": 3,
   "metadata": {},
   "outputs": [],
   "source": [
    "from typing import Union\n",
    "from fastapi import FastAPI\n",
    "\n",
    "app = FastAPI()\n",
    "\n",
    "@app.get(\"/\")\n",
    "def read_root():\n",
    "    return {\"Hello\": \"World\"}\n",
    "\n",
    "@app.get(\"/items/{item_id}\")\n",
    "def read_item(item_id: int, q: Union[str, None] = None):\n",
    "    return {\"item_id\": item_id, \"q\": q}"
   ]
  },
  {
   "cell_type": "code",
   "execution_count": 4,
   "metadata": {},
   "outputs": [],
   "source": [
    "from typing import Union\n",
    "from fastapi import FastAPI\n",
    "from pydantic import BaseModel\n",
    "\n",
    "app = FastAPI()\n",
    "\n",
    "class Item(BaseModel):\n",
    "    name: str\n",
    "    price: float\n",
    "    is_offer: Union[bool, None] = None\n",
    "\n",
    "@app.get(\"/\")\n",
    "def read_root():\n",
    "    return {\"Hello\": \"World\"}\n",
    "\n",
    "@app.get(\"/items/{item_id}\")\n",
    "def read_item(item_id: int, q: Union[str, None] = None):\n",
    "    return {\"item_id\": item_id, \"q\": q}\n",
    "\n",
    "@app.put(\"/items/{item_id}\")\n",
    "def update_item(item_id: int, item: Item):\n",
    "    return {\"item_name\": item.name, \"item_id\": item_id}"
   ]
  },
  {
   "cell_type": "code",
   "execution_count": null,
   "metadata": {},
   "outputs": [],
   "source": []
  }
 ],
 "metadata": {
  "kernelspec": {
   "display_name": "Python 3 (ipykernel)",
   "language": "python",
   "name": "python3"
  },
  "language_info": {
   "codemirror_mode": {
    "name": "ipython",
    "version": 3
   },
   "file_extension": ".py",
   "mimetype": "text/x-python",
   "name": "python",
   "nbconvert_exporter": "python",
   "pygments_lexer": "ipython3",
   "version": "3.10.4"
  }
 },
 "nbformat": 4,
 "nbformat_minor": 1
}
