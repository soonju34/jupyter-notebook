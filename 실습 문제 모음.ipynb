{
 "cells": [
  {
   "cell_type": "markdown",
   "id": "20b9e324",
   "metadata": {},
   "source": [
    "#### [문제1] 3, 6, 150, 230, 0, -1.3 중에 100보다 큰 숫자만 출력하시오.\n"
   ]
  },
  {
   "cell_type": "code",
   "execution_count": 9,
   "id": "932fb5b3",
   "metadata": {},
   "outputs": [
    {
     "name": "stdout",
     "output_type": "stream",
     "text": [
      "150\n",
      "230\n"
     ]
    }
   ],
   "source": [
    "my_list = [3, 6, 150, 230, 0, -1.3]\n",
    "for i in range(len(my_list)):\n",
    "    if my_list[i] > 100:\n",
    "        print(my_list[i])"
   ]
  },
  {
   "cell_type": "markdown",
   "id": "8132c180",
   "metadata": {},
   "source": [
    "#### [문제2] 1에서 100까지 더 하시오.\n"
   ]
  },
  {
   "cell_type": "code",
   "execution_count": 3,
   "id": "09746a37",
   "metadata": {},
   "outputs": [
    {
     "name": "stdout",
     "output_type": "stream",
     "text": [
      "5050\n"
     ]
    }
   ],
   "source": [
    "sum = 0\n",
    "for i in range(101):\n",
    "    sum += i\n",
    "print(sum)"
   ]
  },
  {
   "cell_type": "markdown",
   "id": "191234dc",
   "metadata": {},
   "source": [
    "#### [문제3] 소수 판별\n",
    "\n",
    "1 이상의 정수를 입력받아서 소수(prime number)인지 확인하는 프로그램을 만들어봅시다.<br>아래의 입출력 표를 참고해서 소수가 아닐 경우에는 나눌 수 있는 가장 작은 수도 같이 출력하세요.\n",
    "\n",
    "| 입력 | 출력 |\n",
    "|---|---|\n",
    "|1|1은 소수가 아닙니다.|\n",
    "|7|7은 소수입니다.|\n",
    "|10|10은 2로 나눌 수 있습니다.|\n",
    "|91|91은 7로 나눌 수 있습니다.|\n",
    "|103|103은 소수입니다.|\n",
    "\n",
    "**힌트**\n",
    "1. 1과 자기 자신으로만 나누어 떨어지는 숫자를 소수라고 합니다. 예를 들어서 6은 2 곱하기 3이기 때문에 소수가 아닙니다. 5나 7은 소수입니다. \n",
    "1. 입력받은 숫자가 1일 경우에는 별도의 ```if```문으로 처리해서 for문을 거치지 않게 하세요.\n",
    "1. 가장 단순한 방법은 하나씩 나눠보고 나머지가 0인지를 검사하는 것이겠지요. 예를 들어서 입력이 35라면 2로 나눠보고 3으로 나눠보고 ... 5로 나눴을 때 나머지가 0이니까 검사를 중단하면 됩니다.\n",
    "1. ```else```는 ```if```와도 사용될 수 있고 ```for```와도 사용될 수 있는데 **들여쓰기가 같은** ```for```나 ```if```와 함께 사용되는 것입니다. 줄 수가 가까운 쪽이 아닙니다."
   ]
  },
  {
   "cell_type": "code",
   "execution_count": 5,
   "id": "71d0da37",
   "metadata": {},
   "outputs": [
    {
     "name": "stdout",
     "output_type": "stream",
     "text": [
      "자연수를 입력해주세요:10\n"
     ]
    }
   ],
   "source": [
    "num = int(input(\"자연수를 입력해주세요:\"))\n",
    "answer = 0"
   ]
  },
  {
   "cell_type": "code",
   "execution_count": 6,
   "id": "804de3fe",
   "metadata": {},
   "outputs": [
    {
     "name": "stdout",
     "output_type": "stream",
     "text": [
      "10은 소수가 아닙니다.\n"
     ]
    }
   ],
   "source": [
    "for i in range(1, num+1):\n",
    "    if num % i == 0:\n",
    "        answer += 1\n",
    "\n",
    "if answer ==2:\n",
    "    print(f\"{num}은 소수입니다.\")\n",
    "else:\n",
    "    print(f\"{num}은 소수가 아닙니다.\")"
   ]
  },
  {
   "cell_type": "markdown",
   "id": "2f61679a",
   "metadata": {},
   "source": [
    "#### [문제4] 간단 계산기\n",
    "\n",
    "숫자, 연산자, 숫자를 순서대로 별도의 input() 함수로 입력받고 계산 결과를 출력하는 프로그램을 만들어 보세요.\n",
    "\n",
    "| 입력 | 출력 |\n",
    "|---|---|\n",
    "|1 + 10|1 + 10 = 11|\n",
    "|100 - 5|100 - 5 = 95|\n",
    "|3 * 5|3 * 5 = 15|\n",
    "|12 / 4|12 / 4 = 3.0|"
   ]
  },
  {
   "cell_type": "code",
   "execution_count": 13,
   "id": "68e724b8",
   "metadata": {},
   "outputs": [
    {
     "name": "stdout",
     "output_type": "stream",
     "text": [
      "첫 번째 숫자를 입력해주세요:12\n",
      "연산자를 입력해주세요:/\n",
      "두 번째 숫자를 입력해주세요:0\n"
     ]
    }
   ],
   "source": [
    "# input() 함수를 3번 사용합니다.\n",
    "first_number = int(input(\"첫 번째 숫자를 입력해주세요:\"))\n",
    "operator = input(\"연산자를 입력해주세요:\")\n",
    "second_number = int(input(\"두 번째 숫자를 입력해주세요:\"))"
   ]
  },
  {
   "cell_type": "code",
   "execution_count": 14,
   "id": "ff25cca5",
   "metadata": {},
   "outputs": [
    {
     "ename": "ZeroDivisionError",
     "evalue": "division by zero",
     "output_type": "error",
     "traceback": [
      "\u001b[1;31m---------------------------------------------------------------------------\u001b[0m",
      "\u001b[1;31mZeroDivisionError\u001b[0m                         Traceback (most recent call last)",
      "Input \u001b[1;32mIn [14]\u001b[0m, in \u001b[0;36m<cell line: 1>\u001b[1;34m()\u001b[0m\n\u001b[0;32m      6\u001b[0m     \u001b[38;5;28mprint\u001b[39m(\u001b[38;5;124mf\u001b[39m\u001b[38;5;124m\"\u001b[39m\u001b[38;5;132;01m{\u001b[39;00mfirst_number\u001b[38;5;132;01m}\u001b[39;00m\u001b[38;5;124m \u001b[39m\u001b[38;5;132;01m{\u001b[39;00moperator\u001b[38;5;132;01m}\u001b[39;00m\u001b[38;5;124m \u001b[39m\u001b[38;5;132;01m{\u001b[39;00msecond_number\u001b[38;5;132;01m}\u001b[39;00m\u001b[38;5;124m = \u001b[39m\u001b[38;5;132;01m{\u001b[39;00mfirst_number \u001b[38;5;241m*\u001b[39m second_number\u001b[38;5;132;01m}\u001b[39;00m\u001b[38;5;124m\"\u001b[39m)\n\u001b[0;32m      7\u001b[0m \u001b[38;5;28;01melif\u001b[39;00m operator \u001b[38;5;241m==\u001b[39m \u001b[38;5;124m'\u001b[39m\u001b[38;5;124m/\u001b[39m\u001b[38;5;124m'\u001b[39m:\n\u001b[1;32m----> 8\u001b[0m     \u001b[38;5;28mprint\u001b[39m(\u001b[38;5;124mf\u001b[39m\u001b[38;5;124m\"\u001b[39m\u001b[38;5;132;01m{\u001b[39;00mfirst_number\u001b[38;5;132;01m}\u001b[39;00m\u001b[38;5;124m \u001b[39m\u001b[38;5;132;01m{\u001b[39;00moperator\u001b[38;5;132;01m}\u001b[39;00m\u001b[38;5;124m \u001b[39m\u001b[38;5;132;01m{\u001b[39;00msecond_number\u001b[38;5;132;01m}\u001b[39;00m\u001b[38;5;124m = \u001b[39m\u001b[38;5;132;01m{\u001b[39;00mfirst_number \u001b[38;5;241m/\u001b[39m second_number\u001b[38;5;132;01m}\u001b[39;00m\u001b[38;5;124m\"\u001b[39m)\n\u001b[0;32m     10\u001b[0m \u001b[38;5;28;01mtry\u001b[39;00m:\n\u001b[0;32m     11\u001b[0m     first_number \u001b[38;5;241m=\u001b[39m \u001b[38;5;28mint\u001b[39m(\u001b[38;5;28minput\u001b[39m(\u001b[38;5;124m\"\u001b[39m\u001b[38;5;124m첫 번째 숫자를 입력해주세요:\u001b[39m\u001b[38;5;124m\"\u001b[39m))\n",
      "\u001b[1;31mZeroDivisionError\u001b[0m: division by zero"
     ]
    }
   ],
   "source": [
    "if operator == '+':\n",
    "    print(f\"{first_number} {operator} {second_number} = {first_number + second_number}\")\n",
    "elif operator == '-':\n",
    "    print(f\"{first_number} {operator} {second_number} = {first_number - second_number}\")\n",
    "elif operator == '*':\n",
    "    print(f\"{first_number} {operator} {second_number} = {first_number * second_number}\")\n",
    "elif operator == '/':\n",
    "    print(f\"{first_number} {operator} {second_number} = {first_number / second_number}\")\n",
    "    \n",
    "try:\n",
    "    first_number = int(input(\"첫 번째 숫자를 입력해주세요:\"))\n",
    "    operator = input(\"연산자를 입력해주세요:\")\n",
    "    second_number = int(input(\"두 번째 숫자를 입력해주세요:\"))\n",
    "    print(f\"{first_number} {operator} {second_number} = {first_number / second_number}\")\n",
    "except ZeroDivisionError:\n",
    "    print(\"다시 입력 부탁합니다\")"
   ]
  },
  {
   "cell_type": "markdown",
   "id": "a007bd65",
   "metadata": {},
   "source": [
    "#### [문제5] FizzBuzz\n",
    "\n",
    "1에서 20까지의 정수에 대해서 3의 배수이면 Fizz를, 5의 배수이면 Buzz를, 3의 배수이면서 5의 배수라면 FizzBuzz를 출력합니다.\n",
    "\n",
    "**실행 예시**\n",
    "\n",
    "```\n",
    "1 2 Fizz 4 Buzz Fizz 7 8 Fizz Buzz 11 Fizz 13 14 FizzBuzz 16 17 Fizz 19 Buzz\n",
    "```\n"
   ]
  },
  {
   "cell_type": "code",
   "execution_count": 24,
   "id": "8b3318b3",
   "metadata": {},
   "outputs": [
    {
     "name": "stdout",
     "output_type": "stream",
     "text": [
      "1\n",
      "2\n",
      "Fizz\n",
      "4\n",
      "Buzz\n",
      "Fizz\n",
      "7\n",
      "8\n",
      "Fizz\n",
      "Buzz\n",
      "11\n",
      "Fizz\n",
      "13\n",
      "14\n",
      "FizzBuzz\n",
      "16\n",
      "17\n",
      "Fizz\n",
      "19\n",
      "Buzz\n"
     ]
    }
   ],
   "source": [
    "for num in range(1, 21):\n",
    "    if num % 3 == 0 and num % 5 == 0:\n",
    "        print(\"FizzBuzz\")\n",
    "    elif num % 3 ==0:\n",
    "        print(\"Fizz\")\n",
    "    elif num % 5 ==0:\n",
    "        print(\"Buzz\")\n",
    "    else:\n",
    "        print(num)"
   ]
  },
  {
   "cell_type": "markdown",
   "id": "b8dd5d9e",
   "metadata": {},
   "source": [
    "#### 방법 2"
   ]
  },
  {
   "cell_type": "code",
   "execution_count": 16,
   "id": "7f58e1ef",
   "metadata": {},
   "outputs": [
    {
     "name": "stdout",
     "output_type": "stream",
     "text": [
      "1\n",
      "2\n",
      "fizz\n",
      "4\n",
      "buzz\n",
      "fizz\n",
      "7\n",
      "8\n",
      "fizz\n",
      "buzz\n",
      "11\n",
      "fizz\n",
      "13\n",
      "14\n",
      "fizzbuzz\n",
      "16\n",
      "17\n",
      "fizz\n",
      "19\n",
      "buzz\n"
     ]
    }
   ],
   "source": [
    "for i in range(1,21):\n",
    "    print('fizz' * (i%3 ==0) + 'buzz' * (i % 5 == 0) or i)"
   ]
  },
  {
   "cell_type": "code",
   "execution_count": null,
   "id": "23de5af9",
   "metadata": {},
   "outputs": [],
   "source": []
  }
 ],
 "metadata": {
  "kernelspec": {
   "display_name": "Python 3 (ipykernel)",
   "language": "python",
   "name": "python3"
  },
  "language_info": {
   "codemirror_mode": {
    "name": "ipython",
    "version": 3
   },
   "file_extension": ".py",
   "mimetype": "text/x-python",
   "name": "python",
   "nbconvert_exporter": "python",
   "pygments_lexer": "ipython3",
   "version": "3.10.4"
  }
 },
 "nbformat": 4,
 "nbformat_minor": 5
}
