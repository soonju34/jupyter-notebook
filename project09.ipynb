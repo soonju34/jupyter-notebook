{
 "cells": [
  {
   "cell_type": "markdown",
   "id": "909931d6",
   "metadata": {},
   "source": [
    "# 예외 처리"
   ]
  },
  {
   "cell_type": "code",
   "execution_count": 1,
   "id": "93e795c4",
   "metadata": {},
   "outputs": [
    {
     "name": "stdout",
     "output_type": "stream",
     "text": [
      "나눌 숫자를 입력하세요 : 0\n",
      "예외 처리가 발생햇씁니다\n"
     ]
    }
   ],
   "source": [
    "try:\n",
    "    x = int(input('나눌 숫자를 입력하세요 : '))\n",
    "    y = 10/x\n",
    "    print(y)\n",
    "except:\n",
    "    print('예외 처리가 발생햇씁니다')"
   ]
  },
  {
   "cell_type": "code",
   "execution_count": 3,
   "id": "6b98319d",
   "metadata": {},
   "outputs": [
    {
     "name": "stdout",
     "output_type": "stream",
     "text": [
      "2 0\n",
      "숫자를 0으로 나눌수 없습니다\n"
     ]
    }
   ],
   "source": [
    "y = [10,20,30]\n",
    "try:\n",
    "    index, x = map(int,input().split())\n",
    "    print(y[index] / x)\n",
    "except ZeroDivisionError:\n",
    "    print('숫자를 0으로 나눌수 없습니다')\n",
    "except IndexError:\n",
    "    print('잘못된 인덱스 입니다')"
   ]
  },
  {
   "cell_type": "code",
   "execution_count": 4,
   "id": "cbffb579",
   "metadata": {},
   "outputs": [
    {
     "name": "stdout",
     "output_type": "stream",
     "text": [
      "2 0\n",
      "숫자를 0으로 나눌수 없습니다  발생구문 :  division by zero\n"
     ]
    }
   ],
   "source": [
    "y = [10,20,30]\n",
    "try:\n",
    "    index, x = map(int,input().split())\n",
    "    print(y[index] / x)\n",
    "except ZeroDivisionError as e:\n",
    "    print('숫자를 0으로 나눌수 없습니다', ' 발생구문 : ', e)\n",
    "except IndexError as e:\n",
    "    print('잘못된 인덱스 입니다', '발생구문 : ',e)"
   ]
  },
  {
   "cell_type": "code",
   "execution_count": 6,
   "id": "6a2ac221",
   "metadata": {},
   "outputs": [
    {
     "name": "stdout",
     "output_type": "stream",
     "text": [
      "2 10\n",
      "3.0\n"
     ]
    }
   ],
   "source": [
    "y = [10,20,30]\n",
    "try:\n",
    "    index, x = map(int,input().split())\n",
    "except ZeroDivisionError as e:\n",
    "    print('숫자를 0으로 나눌수 없습니다', ' 발생구문 : ', e)\n",
    "except IndexError as e:\n",
    "    print('잘못된 인덱스 입니다', '발생구문 : ',e)\n",
    "else:\n",
    "    print(y[index] / x)y = [10,20,30]"
   ]
  },
  {
   "cell_type": "code",
   "execution_count": 9,
   "id": "edb92a5f",
   "metadata": {},
   "outputs": [
    {
     "name": "stdout",
     "output_type": "stream",
     "text": [
      "3 0\n",
      "코드 실행이 끝낫습니다\n"
     ]
    },
    {
     "ename": "IndexError",
     "evalue": "list index out of range",
     "output_type": "error",
     "traceback": [
      "\u001b[1;31m---------------------------------------------------------------------------\u001b[0m",
      "\u001b[1;31mIndexError\u001b[0m                                Traceback (most recent call last)",
      "Input \u001b[1;32mIn [9]\u001b[0m, in \u001b[0;36m<cell line: 2>\u001b[1;34m()\u001b[0m\n\u001b[0;32m      7\u001b[0m     \u001b[38;5;28mprint\u001b[39m(\u001b[38;5;124m'\u001b[39m\u001b[38;5;124m잘못된 인덱스 입니다\u001b[39m\u001b[38;5;124m'\u001b[39m, \u001b[38;5;124m'\u001b[39m\u001b[38;5;124m발생구문 : \u001b[39m\u001b[38;5;124m'\u001b[39m,e)\n\u001b[0;32m      8\u001b[0m \u001b[38;5;28;01melse\u001b[39;00m:\n\u001b[1;32m----> 9\u001b[0m     \u001b[38;5;28mprint\u001b[39m(\u001b[43my\u001b[49m\u001b[43m[\u001b[49m\u001b[43mindex\u001b[49m\u001b[43m]\u001b[49m \u001b[38;5;241m/\u001b[39m x)\n\u001b[0;32m     10\u001b[0m \u001b[38;5;28;01mfinally\u001b[39;00m:\n\u001b[0;32m     11\u001b[0m     \u001b[38;5;28mprint\u001b[39m(\u001b[38;5;124m'\u001b[39m\u001b[38;5;124m코드 실행이 끝낫습니다\u001b[39m\u001b[38;5;124m'\u001b[39m)\n",
      "\u001b[1;31mIndexError\u001b[0m: list index out of range"
     ]
    }
   ],
   "source": [
    "y = [10,20,30]\n",
    "try:\n",
    "    index, x = map(int,input().split())\n",
    "except ZeroDivisionError as e:\n",
    "    print('숫자를 0으로 나눌수 없습니다', ' 발생구문 : ', e)\n",
    "except IndexError as e:\n",
    "    print('잘못된 인덱스 입니다', '발생구문 : ',e)\n",
    "else:\n",
    "    print(y[index] / x)\n",
    "finally:\n",
    "    print('코드 실행이 끝낫습니다')          # 무조건 실행됨"
   ]
  },
  {
   "cell_type": "code",
   "execution_count": 10,
   "id": "e987f4c5",
   "metadata": {},
   "outputs": [
    {
     "name": "stdout",
     "output_type": "stream",
     "text": [
      "5\n",
      "예외가 발생햇습니다 3의 배수가 아닙니다\n"
     ]
    }
   ],
   "source": [
    "try:\n",
    "    x = int(input())\n",
    "    if x % 3 !=0:\n",
    "        raise Exception('3의 배수가 아닙니다')\n",
    "    print(x)\n",
    "except Exception as e:\n",
    "    print('예외가 발생햇습니다', e)"
   ]
  },
  {
   "cell_type": "code",
   "execution_count": 12,
   "id": "835e9fde",
   "metadata": {},
   "outputs": [
    {
     "name": "stdout",
     "output_type": "stream",
     "text": [
      "2\n",
      "thee_multiple 함수에서 예외가 발생햇스니다 3의 배수가 아닙니다\n",
      "스크립트 파일에서 예외 처리가 발생햇습니다 3의 배수가 아닙니다\n"
     ]
    }
   ],
   "source": [
    "def three_multiple():\n",
    "    try:\n",
    "        x = int(input())\n",
    "        if x % 3 !=0:\n",
    "            raise Exception('3의 배수가 아닙니다')\n",
    "        print(x)\n",
    "    except Exception as e:\n",
    "        print('thee_multiple 함수에서 예외가 발생햇스니다', e)\n",
    "        raise\n",
    "try:\n",
    "    three_multiple()\n",
    "except Exception as e:\n",
    "    print('스크립트 파일에서 예외 처리가 발생햇습니다', e)"
   ]
  },
  {
   "cell_type": "code",
   "execution_count": 15,
   "id": "a6f68b58",
   "metadata": {},
   "outputs": [
    {
     "name": "stdout",
     "output_type": "stream",
     "text": [
      "2\n",
      "예외가 발생햇스니다 3의 배수가 아닙니다\n"
     ]
    }
   ],
   "source": [
    "class NotThreeMultipleError(Exception):\n",
    "    def __init__(self):\n",
    "        super().__init__('3의 배수가 아닙니다')\n",
    "def three_multiple():\n",
    "    try:\n",
    "        x = int(input())\n",
    "        if x % 3 !=0:\n",
    "            raise NotThreeMultipleError\n",
    "        print(x)\n",
    "    except Exception as e:\n",
    "        print('예외가 발생햇스니다', e)\n",
    "three_multiple()"
   ]
  },
  {
   "cell_type": "code",
   "execution_count": null,
   "id": "09f61a46",
   "metadata": {},
   "outputs": [],
   "source": []
  }
 ],
 "metadata": {
  "kernelspec": {
   "display_name": "Python 3 (ipykernel)",
   "language": "python",
   "name": "python3"
  },
  "language_info": {
   "codemirror_mode": {
    "name": "ipython",
    "version": 3
   },
   "file_extension": ".py",
   "mimetype": "text/x-python",
   "name": "python",
   "nbconvert_exporter": "python",
   "pygments_lexer": "ipython3",
   "version": "3.10.4"
  }
 },
 "nbformat": 4,
 "nbformat_minor": 5
}
