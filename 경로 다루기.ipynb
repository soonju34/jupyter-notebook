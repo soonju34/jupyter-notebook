{
 "cells": [
  {
   "cell_type": "markdown",
   "id": "81deea12",
   "metadata": {},
   "source": [
    "운영체제에게 이런 이름의 파일이 이미 존재하는 지를 미리 물어볼 수도 있습니다. 없는 파일을 읽기 모드로 열려고 시도하는 것도 방지할 수 있지만 이미 있는 파일에 덮어쓰는 것도 방지할 수 있습니다.\n"
   ]
  },
  {
   "cell_type": "code",
   "execution_count": 1,
   "id": "04ea7280",
   "metadata": {},
   "outputs": [
    {
     "data": {
      "text/plain": [
       "False"
      ]
     },
     "execution_count": 1,
     "metadata": {},
     "output_type": "execute_result"
    }
   ],
   "source": [
    "import os\n",
    "\n",
    "os.path.isfile(\"file.txt\")\n",
    "\n",
    "# if를 이용해서 파일 존재 유무에 따라 흐름 제어"
   ]
  },
  {
   "cell_type": "markdown",
   "id": "32da65f1",
   "metadata": {},
   "source": [
    "실제로 사용될 소프트웨어를 개발할 때는 파일과 관련하여 발생할 수 있는 모든 오류를 대비 하는 것이 좋겠지만 여기서는 기본적인 파일 사용에 집중하기 위해 정상적인 파일 사용을 가정하고 오류나 예외 처리는 생략하겠습니다."
   ]
  },
  {
   "cell_type": "markdown",
   "id": "c24f6828",
   "metadata": {},
   "source": [
    "파이썬이 파일을 찾을 때는 현재 작업중인 디렉토리(current working directory)에서 찾기 시작합니다.  CWD는 ```getcwd()```로 확인할 수 있습니다.\n"
   ]
  },
  {
   "cell_type": "code",
   "execution_count": 3,
   "id": "497e8f93",
   "metadata": {},
   "outputs": [
    {
     "name": "stdout",
     "output_type": "stream",
     "text": [
      "C:\\Users\\user\n",
      "못찾음\n"
     ]
    }
   ],
   "source": [
    "import os\n",
    "\n",
    "print(os.getcwd())\n",
    "\n",
    "# 출력 예시\n",
    "# 윈도우: 'c:\\\\Users\\\\폴더명\\\\폴더명\\\\파일명.확장자'\n",
    "# 맥OS나 리눅스: '/Users/폴더명/폴더명/파일명.확장자'\n",
    "\n",
    "if os.path.isfile(\"myfile.txt\"):\n",
    "    myfile = open(\"myfile.txt\", \"rt\")\n",
    "else:\n",
    "    print(\"못찾음\")\n",
    "# 아래와 같이 경로를 모두 적어준 것과 동일\n",
    "# 경로 사이에 \\\\ 추가\n",
    "# myfile = open(\"c:\\\\Users\\\\폴더명\\\\폴더명\\\\폴더명\\\\파일명.확장자'\", \"rt\")"
   ]
  },
  {
   "cell_type": "code",
   "execution_count": 9,
   "id": "b9f1a08a",
   "metadata": {},
   "outputs": [
    {
     "name": "stdout",
     "output_type": "stream",
     "text": [
      "C:\\Users\\user\n"
     ]
    },
    {
     "ename": "FileNotFoundError",
     "evalue": "[Errno 2] No such file or directory: 'myfile2.txt'",
     "output_type": "error",
     "traceback": [
      "\u001b[1;31m---------------------------------------------------------------------------\u001b[0m",
      "\u001b[1;31mFileNotFoundError\u001b[0m                         Traceback (most recent call last)",
      "Input \u001b[1;32mIn [9]\u001b[0m, in \u001b[0;36m<cell line: 3>\u001b[1;34m()\u001b[0m\n\u001b[0;32m      1\u001b[0m \u001b[38;5;28;01mimport\u001b[39;00m \u001b[38;5;21;01mos\u001b[39;00m \n\u001b[0;32m      2\u001b[0m \u001b[38;5;28mprint\u001b[39m(os\u001b[38;5;241m.\u001b[39mgetcwd())\n\u001b[1;32m----> 3\u001b[0m myfile \u001b[38;5;241m=\u001b[39m \u001b[38;5;28;43mopen\u001b[39;49m\u001b[43m(\u001b[49m\u001b[38;5;124;43m\"\u001b[39;49m\u001b[38;5;124;43mmyfile2.txt\u001b[39;49m\u001b[38;5;124;43m\"\u001b[39;49m\u001b[43m,\u001b[49m\u001b[43m \u001b[49m\u001b[38;5;124;43m'\u001b[39;49m\u001b[38;5;124;43mrt\u001b[39;49m\u001b[38;5;124;43m'\u001b[39;49m\u001b[43m)\u001b[49m\n",
      "\u001b[1;31mFileNotFoundError\u001b[0m: [Errno 2] No such file or directory: 'myfile2.txt'"
     ]
    }
   ],
   "source": [
    "import os \n",
    "print(os.getcwd())\n",
    "myfile = open(\"myfile2.txt\", 'rt')"
   ]
  },
  {
   "cell_type": "markdown",
   "id": "463c03b8",
   "metadata": {},
   "source": [
    "## 실습문제\n",
    "\n",
    "찾고자 하는 파일이 없을때 나는 에러를 예외처리로 해결하기"
   ]
  },
  {
   "cell_type": "code",
   "execution_count": 12,
   "id": "a5945f61",
   "metadata": {},
   "outputs": [
    {
     "name": "stdout",
     "output_type": "stream",
     "text": [
      "C:\\Users\\user\n",
      "myfile2.txt 피일을 찾을수 없습니다\n"
     ]
    }
   ],
   "source": [
    "import os\n",
    "print(os.getcwd())\n",
    "try:\n",
    "    myfile = open(\"myfile2.txt\", 'rt')\n",
    "except FileNotFoundError:\n",
    "    print(\"myfile2.txt 피일을 찾을수 없습니다\")\n",
    "    \n"
   ]
  },
  {
   "cell_type": "code",
   "execution_count": null,
   "id": "d861f503",
   "metadata": {},
   "outputs": [],
   "source": []
  },
  {
   "cell_type": "code",
   "execution_count": null,
   "id": "4432fd1e",
   "metadata": {},
   "outputs": [],
   "source": []
  },
  {
   "cell_type": "markdown",
   "id": "0096c05c",
   "metadata": {},
   "source": [
    "참고로 경로를 합칠 때 문자열 더하기 보다는 ```join()``` 사용을 권장합니다. 운영체제에 따라서 \"\\\\\\\\\" 또는 \"/\"를 적절히 삽입해줍니다."
   ]
  },
  {
   "cell_type": "code",
   "execution_count": 4,
   "id": "930d2d96",
   "metadata": {
    "scrolled": true
   },
   "outputs": [
    {
     "name": "stdout",
     "output_type": "stream",
     "text": [
      "C:\\Users\\user\n"
     ]
    }
   ],
   "source": [
    "print(os.getcwd())"
   ]
  },
  {
   "cell_type": "code",
   "execution_count": 5,
   "id": "6f8aaa2e",
   "metadata": {
    "scrolled": true
   },
   "outputs": [
    {
     "name": "stdout",
     "output_type": "stream",
     "text": [
      "C:\\Users\\user\\myfile.txt\n"
     ]
    }
   ],
   "source": [
    "my_file_path = os.getcwd()+'\\\\'+ \"myfile.txt\"\n",
    "print(my_file_path)\n",
    "myfile = open(my_file_path, 'rt')"
   ]
  },
  {
   "cell_type": "code",
   "execution_count": null,
   "id": "153da08d",
   "metadata": {},
   "outputs": [],
   "source": []
  },
  {
   "cell_type": "code",
   "execution_count": 8,
   "id": "7aedd167",
   "metadata": {},
   "outputs": [
    {
     "name": "stdout",
     "output_type": "stream",
     "text": [
      "C:\\Users\\user\\myfile.txt\n"
     ]
    }
   ],
   "source": [
    "path_name = os.path.join(os.getcwd(), \"myfile.txt\")\n",
    "print(path_name)\n",
    "myfile = open(path_name, 'rt')\n",
    "\n",
    "# 출력 예시\n",
    "# 윈도우: 'c:\\\\Users\\\\폴더명\\\\폴더명\\\\myfile.txt'\n",
    "# 맥OS나 리눅스: '/Users/폴더명/폴더명/myfile.txt'"
   ]
  },
  {
   "cell_type": "code",
   "execution_count": null,
   "id": "1040e5d7",
   "metadata": {},
   "outputs": [],
   "source": []
  }
 ],
 "metadata": {
  "kernelspec": {
   "display_name": "Python 3 (ipykernel)",
   "language": "python",
   "name": "python3"
  },
  "language_info": {
   "codemirror_mode": {
    "name": "ipython",
    "version": 3
   },
   "file_extension": ".py",
   "mimetype": "text/x-python",
   "name": "python",
   "nbconvert_exporter": "python",
   "pygments_lexer": "ipython3",
   "version": "3.10.4"
  }
 },
 "nbformat": 4,
 "nbformat_minor": 5
}
