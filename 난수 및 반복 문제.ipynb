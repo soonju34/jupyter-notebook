{
 "cells": [
  {
   "cell_type": "markdown",
   "id": "b4ae7e4c",
   "metadata": {},
   "source": [
    "### [문제1] 주사위 2개 굴리기\n",
    "\n",
    "가상의 주사위를 2개 굴려서 합이 6이 될때까지 반복을 합니다."
   ]
  },
  {
   "cell_type": "code",
   "execution_count": 6,
   "id": "2341a048",
   "metadata": {},
   "outputs": [],
   "source": [
    "import random\n",
    "i = 0\n",
    "j = 0\n",
    "k = i+j\n",
    "while k == 6:\n",
    "    i = random.randint(1,7)\n",
    "    j = random.randint(1,7)\n",
    "    break\n",
    "    \n",
    "    print(i)\n",
    "    print(j)"
   ]
  },
  {
   "cell_type": "markdown",
   "id": "02d9eb31",
   "metadata": {},
   "source": [
    "### [문제2] 숫자 맞추기 게임\n",
    "\n",
    "컴퓨터가 1이상 100 이하의 난수를 하나 만든 후에 사용자에게 맞추도록 하는 게임 만들기\n",
    "\n",
    "컴퓨터가 만든 난수보다 작으면 '[사용자입력숫자] 보다 작습니다.'<br> 반대로 크면 '[사용자입력숫자] 보다 큽니다.' 라고 출력\n",
    "\n",
    "사용자가 맞출때까지 게임은 반복하고, 맞추면 시도 횟수를 출력하고 종료한다."
   ]
  },
  {
   "cell_type": "code",
   "execution_count": 1,
   "id": "c3e34a8a",
   "metadata": {},
   "outputs": [
    {
     "name": "stdout",
     "output_type": "stream",
     "text": [
      "88\n",
      "33\n",
      "사용자 입력숫자 보다 큽니다\n",
      "99\n",
      "사용자 입력숫자 보다 작습니다\n",
      "555\n",
      "사용자 입력숫자 보다 작습니다\n",
      "33\n",
      "사용자 입력숫자 보다 큽니다\n",
      "88\n",
      "ㅇㅇ 정답입니다. 시도 횟수:  5\n"
     ]
    }
   ],
   "source": [
    "import random\n",
    "\n",
    "num = random.randint(1, 100)\n",
    "try_count = 0\n",
    "print(num)\n",
    "\n",
    "while True:\n",
    "    user = int(input())\n",
    "    try_count += 1\n",
    "    if user > num:\n",
    "        print(\"사용자 입력숫자 보다 작습니다\")\n",
    "    elif user < num:\n",
    "        print(\"사용자 입력숫자 보다 큽니다\")\n",
    "    else:\n",
    "        print(\"ㅇㅇ 정답입니다. 시도 횟수: \", try_count)\n",
    "        break"
   ]
  },
  {
   "cell_type": "markdown",
   "id": "887df56e",
   "metadata": {},
   "source": [
    "### [문제3] [플로이드의 삼각형](https://ko.wikipedia.org/wiki/%ED%94%8C%EB%A1%9C%EC%9D%B4%EB%93%9C%EC%9D%98_%EC%82%BC%EA%B0%81%ED%98%95)\n",
    "\n",
    "별찍기와 유사한 문제입니다. 아래와 같이 숫자가 증가하는 삼각형을 출력해보세요.\n",
    "```\n",
    "1 \n",
    "2 3 \n",
    "4 5 6 \n",
    "7 8 9 10 \n",
    "11 12 13 14 15\n",
    "```\n",
    "\n",
    ">힌트 2중 for루프를 사용해서 문제 풀이"
   ]
  },
  {
   "cell_type": "code",
   "execution_count": 14,
   "id": "a1b9ea26",
   "metadata": {},
   "outputs": [
    {
     "name": "stdout",
     "output_type": "stream",
     "text": [
      "1 \n",
      "2 3 \n",
      "4 5 6 \n",
      "7 8 9 10 \n",
      "11 12 13 14 15 \n"
     ]
    }
   ],
   "source": [
    "i = 1\n",
    "k = 0\n",
    "for i in range(1,6):   #세로 처리\n",
    "    for j in range(1,6):   #가로처리\n",
    "        if j <= i:#세로방향 변수 i 만큼\n",
    "            k += 1\n",
    "            print(k, end=' ')\n",
    "    print()"
   ]
  },
  {
   "cell_type": "code",
   "execution_count": null,
   "id": "52891d33",
   "metadata": {},
   "outputs": [],
   "source": []
  }
 ],
 "metadata": {
  "kernelspec": {
   "display_name": "Python 3 (ipykernel)",
   "language": "python",
   "name": "python3"
  },
  "language_info": {
   "codemirror_mode": {
    "name": "ipython",
    "version": 3
   },
   "file_extension": ".py",
   "mimetype": "text/x-python",
   "name": "python",
   "nbconvert_exporter": "python",
   "pygments_lexer": "ipython3",
   "version": "3.10.4"
  }
 },
 "nbformat": 4,
 "nbformat_minor": 5
}
