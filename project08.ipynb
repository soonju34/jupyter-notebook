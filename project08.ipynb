{
 "cells": [
  {
   "cell_type": "markdown",
   "id": "2bc56104",
   "metadata": {},
   "source": [
    "# 변수 사용 범위 알아보기"
   ]
  },
  {
   "cell_type": "code",
   "execution_count": 1,
   "id": "b1c1d3c4",
   "metadata": {},
   "outputs": [],
   "source": [
    "def foo ():\n",
    "    x = 10\n",
    "    print(x)      # 지역변수           정의된 곳 안에서만 사용   -> 함수 안밖 변수는 다르다"
   ]
  },
  {
   "cell_type": "code",
   "execution_count": 2,
   "id": "c44169cc",
   "metadata": {},
   "outputs": [
    {
     "name": "stdout",
     "output_type": "stream",
     "text": [
      "10\n"
     ]
    }
   ],
   "source": [
    "foo()"
   ]
  },
  {
   "cell_type": "code",
   "execution_count": 3,
   "id": "5261ac08",
   "metadata": {},
   "outputs": [
    {
     "ename": "NameError",
     "evalue": "name 'x' is not defined",
     "output_type": "error",
     "traceback": [
      "\u001b[1;31m---------------------------------------------------------------------------\u001b[0m",
      "\u001b[1;31mNameError\u001b[0m                                 Traceback (most recent call last)",
      "Input \u001b[1;32mIn [3]\u001b[0m, in \u001b[0;36m<cell line: 1>\u001b[1;34m()\u001b[0m\n\u001b[1;32m----> 1\u001b[0m \u001b[38;5;28mprint\u001b[39m(\u001b[43mx\u001b[49m)\n",
      "\u001b[1;31mNameError\u001b[0m: name 'x' is not defined"
     ]
    }
   ],
   "source": [
    "print(x)"
   ]
  },
  {
   "cell_type": "code",
   "execution_count": 4,
   "id": "8157d9cf",
   "metadata": {},
   "outputs": [
    {
     "name": "stdout",
     "output_type": "stream",
     "text": [
      "20\n",
      "10\n"
     ]
    }
   ],
   "source": [
    "x = 10\n",
    "def foo():\n",
    "    x = 20\n",
    "    print(x)\n",
    "\n",
    "foo()\n",
    "print(x)"
   ]
  },
  {
   "cell_type": "code",
   "execution_count": 5,
   "id": "5a648c25",
   "metadata": {},
   "outputs": [],
   "source": [
    "x = 10\n",
    "def foo():\n",
    "    global x          # 함수내에서 밖 변수 변경 가능\n",
    "    x = 20\n",
    "    print(x)"
   ]
  },
  {
   "cell_type": "code",
   "execution_count": 6,
   "id": "7c212eb8",
   "metadata": {},
   "outputs": [
    {
     "name": "stdout",
     "output_type": "stream",
     "text": [
      "20\n"
     ]
    }
   ],
   "source": [
    "foo()"
   ]
  },
  {
   "cell_type": "code",
   "execution_count": 7,
   "id": "9f7d735e",
   "metadata": {},
   "outputs": [
    {
     "name": "stdout",
     "output_type": "stream",
     "text": [
      "20\n"
     ]
    }
   ],
   "source": [
    "print(x)"
   ]
  },
  {
   "cell_type": "code",
   "execution_count": 8,
   "id": "0fcaf0ba",
   "metadata": {},
   "outputs": [
    {
     "name": "stdout",
     "output_type": "stream",
     "text": [
      "20\n",
      "20\n"
     ]
    }
   ],
   "source": [
    "def foo():\n",
    "    global x          # 함수내에서 밖 변수 없을시 전역 변수 출력\n",
    "    x = 20\n",
    "    print(x)\n",
    "    \n",
    "foo()\n",
    "print(x)"
   ]
  },
  {
   "cell_type": "markdown",
   "id": "9a7c8cd0",
   "metadata": {},
   "source": [
    "# 함수안에 함수 가능"
   ]
  },
  {
   "cell_type": "code",
   "execution_count": 10,
   "id": "7f8fe577",
   "metadata": {},
   "outputs": [
    {
     "name": "stdout",
     "output_type": "stream",
     "text": [
      "helllo world\n"
     ]
    }
   ],
   "source": [
    "def print_hello():\n",
    "    hello = 'helllo world'\n",
    "\n",
    "    def print_message():\n",
    "        print(hello)\n",
    "    print_message()\n",
    "    \n",
    "print_hello()"
   ]
  },
  {
   "cell_type": "code",
   "execution_count": 11,
   "id": "3d7e6b0e",
   "metadata": {},
   "outputs": [
    {
     "name": "stdout",
     "output_type": "stream",
     "text": [
      "20\n"
     ]
    }
   ],
   "source": [
    "def A():\n",
    "    x = 10             # 지역변수\n",
    "    def B():\n",
    "        nonlocal x         # glabal이랑 비슷 \n",
    "        x =20           # 전역변수\n",
    "    B()\n",
    "    print(x)\n",
    "A()"
   ]
  },
  {
   "cell_type": "markdown",
   "id": "3a87445a",
   "metadata": {},
   "source": [
    "### 클로저"
   ]
  },
  {
   "cell_type": "code",
   "execution_count": 12,
   "id": "59c2094c",
   "metadata": {},
   "outputs": [
    {
     "name": "stdout",
     "output_type": "stream",
     "text": [
      "8 11\n"
     ]
    }
   ],
   "source": [
    "def calc():\n",
    "    a = 3\n",
    "    b = 5\n",
    "    def mul_add(x):\n",
    "        return a * x +b\n",
    "    return mul_add\n",
    "c = calc()\n",
    "print(c(1), c(2))"
   ]
  },
  {
   "cell_type": "markdown",
   "id": "b9363b92",
   "metadata": {},
   "source": [
    "##### lambda 로 클로저 만들기"
   ]
  },
  {
   "cell_type": "code",
   "execution_count": 13,
   "id": "cea2dbb8",
   "metadata": {},
   "outputs": [
    {
     "name": "stdout",
     "output_type": "stream",
     "text": [
      "8 11\n"
     ]
    }
   ],
   "source": [
    "def calc():\n",
    "    a = 3\n",
    "    b = 5\n",
    "    return lambda x: a* x+b\n",
    "c = calc()\n",
    "print(c(1), c(2))"
   ]
  },
  {
   "cell_type": "code",
   "execution_count": 14,
   "id": "ba9827b6",
   "metadata": {},
   "outputs": [
    {
     "name": "stdout",
     "output_type": "stream",
     "text": [
      "8\n",
      "19\n",
      "None None\n"
     ]
    }
   ],
   "source": [
    "def calc():\n",
    "    a = 3\n",
    "    b = 5\n",
    "    total = 0\n",
    "    def mul_add(x):\n",
    "        nonlocal total\n",
    "        total = total+ a * x + b\n",
    "        print(total)\n",
    "    return mul_add\n",
    "c = calc()\n",
    "print(c(1), c(2))"
   ]
  },
  {
   "cell_type": "markdown",
   "id": "a39ba9e6",
   "metadata": {},
   "source": [
    "# 클래스"
   ]
  },
  {
   "cell_type": "markdown",
   "id": "32430b8e",
   "metadata": {},
   "source": [
    "#### 객체를 표현하기 위한 문법임"
   ]
  },
  {
   "cell_type": "code",
   "execution_count": 21,
   "id": "dbf23067",
   "metadata": {},
   "outputs": [
    {
     "name": "stdout",
     "output_type": "stream",
     "text": [
      "안녕하세요\n"
     ]
    }
   ],
   "source": [
    "class Person:\n",
    "    def __init__(self):\n",
    "        self.hello = '안녕하세요'\n",
    "    def greeting(self):\n",
    "        print(self.hello)\n",
    "maria = Person()\n",
    "maria.greeting()"
   ]
  },
  {
   "cell_type": "code",
   "execution_count": 23,
   "id": "6d440d1f",
   "metadata": {},
   "outputs": [
    {
     "name": "stdout",
     "output_type": "stream",
     "text": [
      "안녕하세요 저는 마리아입니다\n"
     ]
    }
   ],
   "source": [
    "class Person:\n",
    "    def __init__(self, name, age, address):\n",
    "        self.hello = '안녕하세요'\n",
    "        self.name = name\n",
    "        self.age = age\n",
    "        self.address = address\n",
    "        \n",
    "    def greeting(self):\n",
    "        print('{0} 저는 {1}입니다'. format(self.hello, self.name))\n",
    "    \n",
    "maria = Person('마리아', 20, '서울시 서초구 반포동')\n",
    "maria.greeting()"
   ]
  },
  {
   "cell_type": "code",
   "execution_count": 26,
   "id": "b70c85ad",
   "metadata": {},
   "outputs": [
    {
     "name": "stdout",
     "output_type": "stream",
     "text": [
      "이제 7000원 남았네요\n"
     ]
    }
   ],
   "source": [
    "class Person:\n",
    "    def __init__(self, name, age, address, wallet):\n",
    "        self.name = name\n",
    "        self.age = age\n",
    "        self.address = address\n",
    "        self.__wallet = wallet               # 비공개 속성으로 만듦\n",
    "        \n",
    "    def pay(self, amount):\n",
    "        self.__wallet -= amount\n",
    "        print('이제 {0}원 남았네요'.format(self.__wallet))\n",
    "maria = Person('마리아', 20, '서울시 서초구 반포동', 10000)      \n",
    "maria.pay(3000)"
   ]
  },
  {
   "cell_type": "markdown",
   "id": "f5ba7afc",
   "metadata": {},
   "source": [
    "### 정적 메소드"
   ]
  },
  {
   "cell_type": "code",
   "execution_count": 28,
   "id": "f5d3416e",
   "metadata": {},
   "outputs": [
    {
     "name": "stdout",
     "output_type": "stream",
     "text": [
      "30\n",
      "30\n"
     ]
    }
   ],
   "source": [
    "class Calc:\n",
    "    @staticmethod\n",
    "    def add(a,b):\n",
    "        print(a+b)\n",
    "    @staticmethod\n",
    "    def mul(a,b):\n",
    "        print(a+b)\n",
    "\n",
    "Calc.add(10,20)\n",
    "Calc.mul(10,20)"
   ]
  },
  {
   "cell_type": "code",
   "execution_count": 30,
   "id": "5ff6cb87",
   "metadata": {},
   "outputs": [
    {
     "name": "stdout",
     "output_type": "stream",
     "text": [
      "Student __init__\n",
      "Person__init__\n",
      "파이썬 코딩 도장\n",
      "안녕하세요\n"
     ]
    }
   ],
   "source": [
    "class Person:\n",
    "    def __init__(self):\n",
    "        print('Person__init__')\n",
    "        self.hello = '안녕하세요'\n",
    "class Student(Person):\n",
    "    def __init__(self):\n",
    "        print('Student __init__')\n",
    "        super().__init__()     # super()로 기반 클래스의 __init__ 호출\n",
    "        self.school = '파이썬 코딩 도장'\n",
    "        \n",
    "james = Student()\n",
    "print(james.school)\n",
    "print(james.hello)"
   ]
  },
  {
   "cell_type": "markdown",
   "id": "faf16c8a",
   "metadata": {},
   "source": [
    "# 두점사이 구하기"
   ]
  },
  {
   "cell_type": "code",
   "execution_count": 31,
   "id": "bf288154",
   "metadata": {},
   "outputs": [],
   "source": [
    "class point2D:\n",
    "    def __init__(self, x,y):\n",
    "        self.x = x\n",
    "        self.y = y"
   ]
  },
  {
   "cell_type": "code",
   "execution_count": 32,
   "id": "6a8853f2",
   "metadata": {},
   "outputs": [
    {
     "name": "stdout",
     "output_type": "stream",
     "text": [
      "p1: 30 20\n",
      "p2: 60 50\n"
     ]
    }
   ],
   "source": [
    " class point2D:\n",
    "    def __init__(self, x,y):\n",
    "        self.x = x\n",
    "        self.y = y\n",
    "        \n",
    "p1 = point2D(x=30, y=20)\n",
    "p2 = point2D(x=60, y=50)\n",
    "\n",
    "print('p1: {} {}'.format(p1.x, p1.y))\n",
    "print('p2: {} {}'.format(p2.x, p2.y))"
   ]
  },
  {
   "cell_type": "code",
   "execution_count": 46,
   "id": "682af870",
   "metadata": {
    "scrolled": true
   },
   "outputs": [
    {
     "ename": "NameError",
     "evalue": "name 'y' is not defined",
     "output_type": "error",
     "traceback": [
      "\u001b[1;31m---------------------------------------------------------------------------\u001b[0m",
      "\u001b[1;31mNameError\u001b[0m                                 Traceback (most recent call last)",
      "Input \u001b[1;32mIn [46]\u001b[0m, in \u001b[0;36m<cell line: 8>\u001b[1;34m()\u001b[0m\n\u001b[0;32m      5\u001b[0m         \u001b[38;5;28mself\u001b[39m\u001b[38;5;241m.\u001b[39mx \u001b[38;5;241m=\u001b[39m x\n\u001b[0;32m      6\u001b[0m         \u001b[38;5;28mself\u001b[39m\u001b[38;5;241m.\u001b[39my \u001b[38;5;241m=\u001b[39m y\n\u001b[1;32m----> 8\u001b[0m p1 \u001b[38;5;241m=\u001b[39m point2D(\u001b[38;5;28;01mlambda\u001b[39;00m x,y : x,\u001b[43my\u001b[49m)\n\u001b[0;32m      9\u001b[0m p2 \u001b[38;5;241m=\u001b[39m point2D(\u001b[38;5;28;01mlambda\u001b[39;00m x,y : x,y)\n\u001b[0;32m     11\u001b[0m \u001b[38;5;28mprint\u001b[39m(\u001b[38;5;124m'\u001b[39m\u001b[38;5;124mp1: \u001b[39m\u001b[38;5;132;01m{}\u001b[39;00m\u001b[38;5;124m \u001b[39m\u001b[38;5;132;01m{}\u001b[39;00m\u001b[38;5;124m'\u001b[39m\u001b[38;5;241m.\u001b[39mformat(p1\u001b[38;5;241m.\u001b[39mx, p1\u001b[38;5;241m.\u001b[39my))\n",
      "\u001b[1;31mNameError\u001b[0m: name 'y' is not defined"
     ]
    }
   ],
   "source": [
    "import math\n",
    "class point2D:\n",
    "    def __init__(self, x,y):\n",
    "        self.x = x\n",
    "        self.y = y\n",
    "        \n",
    "p1 = point2D(lambda x,y : x,y)\n",
    "p2 = point2D(lambda x,y : x,y)\n",
    "\n",
    "print('p1: {} {}'.format(p1.x, p1.y))\n",
    "print('p2: {} {}'.format(p2.x, p2.y))\n",
    "\n",
    "a = p2.x- p1.x\n",
    "b = p2.y - p1.y\n",
    "\n",
    "c = math.sqrt((a**2) + (b**2))\n",
    "print(c)"
   ]
  },
  {
   "cell_type": "code",
   "execution_count": 45,
   "id": "79467826",
   "metadata": {},
   "outputs": [
    {
     "ename": "TypeError",
     "evalue": "'int' object is not iterable",
     "output_type": "error",
     "traceback": [
      "\u001b[1;31m---------------------------------------------------------------------------\u001b[0m",
      "\u001b[1;31mTypeError\u001b[0m                                 Traceback (most recent call last)",
      "Input \u001b[1;32mIn [45]\u001b[0m, in \u001b[0;36m<cell line: 2>\u001b[1;34m()\u001b[0m\n\u001b[0;32m      1\u001b[0m \u001b[38;5;28;01mimport\u001b[39;00m \u001b[38;5;21;01mmath\u001b[39;00m\n\u001b[1;32m----> 2\u001b[0m \u001b[38;5;28;01mfor\u001b[39;00m _ \u001b[38;5;129;01min\u001b[39;00m \u001b[38;5;241m2\u001b[39m:\n\u001b[0;32m      3\u001b[0m     x, y \u001b[38;5;241m=\u001b[39m \u001b[38;5;28mmap\u001b[39m(\u001b[38;5;28mint\u001b[39m, \u001b[38;5;28minput\u001b[39m())\n\u001b[0;32m      4\u001b[0m \u001b[38;5;28;01mclass\u001b[39;00m \u001b[38;5;21;01mpoint2D\u001b[39;00m:\n",
      "\u001b[1;31mTypeError\u001b[0m: 'int' object is not iterable"
     ]
    }
   ],
   "source": [
    "import math\n",
    "\n",
    "x, y = map(int, input())\n",
    "class point2D:\n",
    "    def __init__(self, x,y):\n",
    "        self.x = x\n",
    "        self.y = y\n",
    "        \n",
    "p1 = point2D(x,y)\n",
    "p2 = point2D(x,y)\n",
    "\n",
    "print('p1: {} {}'.format(p1.x, p1.y))\n",
    "print('p2: {} {}'.format(p2.x, p2.y))\n",
    "\n",
    "a = p2.x- p1.x\n",
    "b = p2.y - p1.y\n",
    "\n",
    "c = math.sqrt((a**2) + (b**2))\n",
    "print(c)"
   ]
  },
  {
   "cell_type": "code",
   "execution_count": 35,
   "id": "e42513f0",
   "metadata": {},
   "outputs": [
    {
     "name": "stdout",
     "output_type": "stream",
     "text": [
      "p1: 30 20\n",
      "p2: 60 50\n",
      "42.42640687119285\n"
     ]
    }
   ],
   "source": [
    "import math\n",
    "class point2D:\n",
    "    def __init__(self, x,y):\n",
    "        self.x = x\n",
    "        self.y = y\n",
    "        \n",
    "p1 = point2D(x=30, y=20)\n",
    "p2 = point2D(x=60, y=50)\n",
    "\n",
    "print('p1: {} {}'.format(p1.x, p1.y))\n",
    "print('p2: {} {}'.format(p2.x, p2.y))\n",
    "\n",
    "a = p2.x- p1.x\n",
    "b = p2.y - p1.y\n",
    "\n",
    "c = math.sqrt((a**2) + (b**2))\n",
    "print(c)"
   ]
  },
  {
   "cell_type": "code",
   "execution_count": 39,
   "id": "933dda41",
   "metadata": {},
   "outputs": [
    {
     "name": "stdout",
     "output_type": "stream",
     "text": [
      "p1: 30 20 10\n",
      "p2: 60 50 70\n",
      "73.48469228349535\n"
     ]
    }
   ],
   "source": [
    "import math\n",
    "class point3D:\n",
    "    def __init__(self, x,y,z):\n",
    "        self.x = x\n",
    "        self.y = y\n",
    "        self.z = z\n",
    "        \n",
    "p1 = point3D(x=30, y=20, z= 10)\n",
    "p2 = point3D(x=60, y=50, z= 70)\n",
    "\n",
    "print('p1: {} {} {}'.format(p1.x, p1.y, p1.z))\n",
    "print('p2: {} {} {}'.format(p2.x, p2.y, p2.z))\n",
    "\n",
    "a = p2.x- p1.x\n",
    "b = p2.y - p1.y\n",
    "c = p2.z - p1.z\n",
    "\n",
    "d = math.sqrt((a**2) + (b**2) + (c**2))\n",
    "print(d)"
   ]
  },
  {
   "cell_type": "code",
   "execution_count": null,
   "id": "3ac44212",
   "metadata": {},
   "outputs": [],
   "source": []
  }
 ],
 "metadata": {
  "kernelspec": {
   "display_name": "Python 3 (ipykernel)",
   "language": "python",
   "name": "python3"
  },
  "language_info": {
   "codemirror_mode": {
    "name": "ipython",
    "version": 3
   },
   "file_extension": ".py",
   "mimetype": "text/x-python",
   "name": "python",
   "nbconvert_exporter": "python",
   "pygments_lexer": "ipython3",
   "version": "3.10.4"
  }
 },
 "nbformat": 4,
 "nbformat_minor": 5
}
