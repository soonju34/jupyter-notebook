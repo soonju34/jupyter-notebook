{
 "cells": [
  {
   "cell_type": "markdown",
   "id": "110cbf5d",
   "metadata": {},
   "source": [
    "# 전화 등록"
   ]
  },
  {
   "cell_type": "code",
   "execution_count": 1,
   "id": "23074b22",
   "metadata": {},
   "outputs": [
    {
     "name": "stdout",
     "output_type": "stream",
     "text": [
      "(1) 찾기, (2) 추가/변경, (3) 삭제, (4) 모두 보기, (5) 종료 : 2\n",
      "이름을 입력하세요 : 장꾸미\n",
      "전화번호 입력해주세요 : 15984266\n",
      "이메일을 입력해주세요 : jns@naver.com\n",
      "장꾸미  15984266 jns@naver.com\n",
      "(1) 찾기, (2) 추가/변경, (3) 삭제, (4) 모두 보기, (5) 종료 : 2\n",
      "이름을 입력하세요 : 이쭈\n",
      "전화번호 입력해주세요 : 88725715\n",
      "이메일을 입력해주세요 : lsj@naver.com\n",
      "이쭈  88725715 lsj@naver.com\n",
      "(1) 찾기, (2) 추가/변경, (3) 삭제, (4) 모두 보기, (5) 종료 : 1\n",
      "이름을 입력해주세요 : 장꾸미\n",
      "장꾸미  88725715 lsj@naver.com\n",
      "(1) 찾기, (2) 추가/변경, (3) 삭제, (4) 모두 보기, (5) 종료 : 3\n",
      "이름을 입력해주세요 : 4\n",
      "장꾸미 삭제완료\n",
      "(1) 찾기, (2) 추가/변경, (3) 삭제, (4) 모두 보기, (5) 종료 : 4\n",
      "이쭈 : ('88725715', 'lsj@naver.com')\n",
      "(1) 찾기, (2) 추가/변경, (3) 삭제, (4) 모두 보기, (5) 종료 : 5\n",
      "종료합니다\n"
     ]
    }
   ],
   "source": [
    "import pandas as pd\n",
    "member = {}\n",
    "while True:\n",
    "    menu = input('(1) 찾기, (2) 추가/변경, (3) 삭제, (4) 모두 보기, (5) 종료 : ')\n",
    "    if menu == '2':\n",
    "        name = input(\"이름을 입력하세요 : \")\n",
    "        phone = input(\"전화번호 입력해주세요 : \")\n",
    "        email = input(\"이메일을 입력해주세요 : \")\n",
    "        member[name] = phone, email\n",
    "        print(f'{name} ', phone, email )\n",
    "        \n",
    "    elif menu == '1':\n",
    "        name = input(\"이름을 입력해주세요 : \")\n",
    "        print(f'{name} ', phone, email)\n",
    "    \n",
    "    elif menu == '3':\n",
    "        neme = input(\"이름을 입력해주세요 : \")\n",
    "        del member[name]\n",
    "        print(f'{name} 삭제완료')\n",
    "    \n",
    "    elif menu =='4':\n",
    "        for k,v in member.items():\n",
    "            print(f'{k} : {v}')\n",
    "                \n",
    "    elif menu == '5':\n",
    "        print(\"종료합니다\")\n",
    "        break"
   ]
  },
  {
   "cell_type": "code",
   "execution_count": 2,
   "id": "d9d1f8d6",
   "metadata": {},
   "outputs": [],
   "source": [
    "df = pd.DataFrame(member)"
   ]
  },
  {
   "cell_type": "code",
   "execution_count": 3,
   "id": "97440aa2",
   "metadata": {},
   "outputs": [
    {
     "data": {
      "text/html": [
       "<div>\n",
       "<style scoped>\n",
       "    .dataframe tbody tr th:only-of-type {\n",
       "        vertical-align: middle;\n",
       "    }\n",
       "\n",
       "    .dataframe tbody tr th {\n",
       "        vertical-align: top;\n",
       "    }\n",
       "\n",
       "    .dataframe thead th {\n",
       "        text-align: right;\n",
       "    }\n",
       "</style>\n",
       "<table border=\"1\" class=\"dataframe\">\n",
       "  <thead>\n",
       "    <tr style=\"text-align: right;\">\n",
       "      <th></th>\n",
       "      <th>이쭈</th>\n",
       "    </tr>\n",
       "  </thead>\n",
       "  <tbody>\n",
       "    <tr>\n",
       "      <th>0</th>\n",
       "      <td>88725715</td>\n",
       "    </tr>\n",
       "    <tr>\n",
       "      <th>1</th>\n",
       "      <td>lsj@naver.com</td>\n",
       "    </tr>\n",
       "  </tbody>\n",
       "</table>\n",
       "</div>"
      ],
      "text/plain": [
       "              이쭈\n",
       "0       88725715\n",
       "1  lsj@naver.com"
      ]
     },
     "execution_count": 3,
     "metadata": {},
     "output_type": "execute_result"
    }
   ],
   "source": [
    "df"
   ]
  },
  {
   "cell_type": "code",
   "execution_count": 4,
   "id": "a1ced62c",
   "metadata": {},
   "outputs": [],
   "source": [
    "df.to_csv(\"phone_num.csv\", index = False)"
   ]
  },
  {
   "cell_type": "code",
   "execution_count": null,
   "id": "c3f71a7e",
   "metadata": {},
   "outputs": [],
   "source": []
  }
 ],
 "metadata": {
  "kernelspec": {
   "display_name": "Python 3 (ipykernel)",
   "language": "python",
   "name": "python3"
  },
  "language_info": {
   "codemirror_mode": {
    "name": "ipython",
    "version": 3
   },
   "file_extension": ".py",
   "mimetype": "text/x-python",
   "name": "python",
   "nbconvert_exporter": "python",
   "pygments_lexer": "ipython3",
   "version": "3.10.4"
  }
 },
 "nbformat": 4,
 "nbformat_minor": 5
}
