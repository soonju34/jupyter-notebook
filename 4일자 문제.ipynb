{
 "cells": [
  {
   "cell_type": "markdown",
   "id": "51ad99f8",
   "metadata": {},
   "source": [
    "### [문제1] BMI 계산기\n",
    "\n",
    "키와 몸무게를 입력받아서 BMI 수치와 비만 정도를 알려주는 프로그램을 만들어봅시다.<br>\n",
    "BMI는 아래 식을 이용해서 계산할 수 있습니다. 주의 사항은 키를 입력받을 때는<br>\n",
    "cm 단위로 입력받은 후에 다시 미터 단위로 변환해서 계산에 사용해야 합니다.<br>\n",
    "\n",
    "$BMI = 몸무게 / (키 * 키)$\n",
    "\n",
    "문제를 단순화 하기 위하여 BMI 25 이상은 비만, 18.5 미만은 저체중, 그 외에는 정상으로 판별해봅시다. \n",
    "\n",
    "|입력|출력|\n",
    "|---|---|\n",
    "|키178몸무게80|BMI 수치는 25.25 입니다. 비만|\n",
    "|키164몸무게48|BMI 수치는 17.85 입니다. 저체중|\n",
    "|키170몸무게60|BMI 수치는 20.76 입니다. 정상|\n",
    "\n",
    "BMI는 소수점 아래 2자리만 출력하세요."
   ]
  },
  {
   "cell_type": "code",
   "execution_count": 15,
   "id": "4d02b5a3",
   "metadata": {},
   "outputs": [
    {
     "name": "stdout",
     "output_type": "stream",
     "text": [
      "80\n",
      "1.78\n",
      "bmi 수치는 25.25 입니다. 비만\n"
     ]
    }
   ],
   "source": [
    "# cm로 입력받고 다시 미터로 변환하기 위해 0.01을 곱합니다.\n",
    "# bmi 출력이 소수점 아래로 너무 길어서 .2f를 사용해서 줄이세요. 출력 예){bmi:.2f}\n",
    "\n",
    "w = int(input())\n",
    "h = float(input())\n",
    "bm = w / (h*h)\n",
    "if bm > 25:\n",
    "    print(f\"bmi 수치는 {bm:.2f} 입니다. 비만\")\n",
    "elif bm < 18.5:\n",
    "    print(f\"bmi 수치는 {bm:.2f} 입니다. 저체중\")\n",
    "else:\n",
    "    print(f\"bmi 수치는 {bm:.2f} 입니다. 정상\")"
   ]
  },
  {
   "cell_type": "markdown",
   "id": "f2316050",
   "metadata": {},
   "source": [
    "### [문제2] 369 게임\n",
    "\n",
    "1에서 20까지의 정수에 대해서 끝자리 숫자가 3이나 6이나 9라면 \"짝\"을 출력하고 그렇지 않다면 그 숫자를 출력합니다.\n",
    "\n",
    "```\n",
    "1 2 짝 4 5 짝 7 8 짝 10 11 12 짝 14 15 짝 17 18 짝 20\n",
    "```"
   ]
  },
  {
   "cell_type": "code",
   "execution_count": 4,
   "id": "c3e34a8a",
   "metadata": {},
   "outputs": [
    {
     "name": "stdout",
     "output_type": "stream",
     "text": [
      "1 2 짝 4 5 짝 7 8 짝 10 11 12 짝 14 15 짝 17 18 짝 20 "
     ]
    }
   ],
   "source": [
    "for i in range(1,21):\n",
    "    if (i % 10 == 3):\n",
    "        print(\"짝\" , end=' ')\n",
    "    elif (i % 10 == 6):\n",
    "        print(\"짝\", end=' ')\n",
    "    elif(i % 10 == 9):\n",
    "        print(\"짝\", end = ' ')\n",
    "    else:\n",
    "        print(i, end= ' ')"
   ]
  },
  {
   "cell_type": "code",
   "execution_count": 46,
   "id": "085fa85c",
   "metadata": {},
   "outputs": [
    {
     "name": "stdout",
     "output_type": "stream",
     "text": [
      "1 2 짝 4 5 짝 7 8 짝 10 11 12 짝 14 15 짝 17 18 짝 20 "
     ]
    }
   ],
   "source": [
    "for i in range(1,21):\n",
    "    if i % 10 in (3,6,9):\n",
    "        print(\"짝\", end = ' ')\n",
    "    else:\n",
    "        print(i, end=' ')"
   ]
  },
  {
   "cell_type": "code",
   "execution_count": 43,
   "id": "dfb4b444",
   "metadata": {},
   "outputs": [
    {
     "name": "stdout",
     "output_type": "stream",
     "text": [
      "1 2 짝 4 5 짝 7 8 짝 10 11 12 짝 14 15 짝 17 18 짝 20 21 22 짝 24 25 짝 27 28 짝 짝 짝 짝 짝짝 짝 짝 짝짝 짝 짝 짝짝 40 "
     ]
    }
   ],
   "source": [
    " for i in range(1,41):\n",
    "    count =0\n",
    "    for j in str(i):\n",
    "        if j== '3' or j=='6' or j=='9':\n",
    "            count += 1\n",
    "    if count > 0:\n",
    "        i = \"짝\" * count\n",
    "    print(i, end=' ')"
   ]
  },
  {
   "cell_type": "markdown",
   "id": "05d36363",
   "metadata": {},
   "source": [
    "### [문제3]복잡한 리스트에서 값 읽어오기\n",
    "\n",
    "3.14를 출력하도록 아래 빈칸을 채워보세요.\n",
    "\n",
    "```\n",
    "print(my_list[___])\n",
    "```\n"
   ]
  },
  {
   "cell_type": "code",
   "execution_count": 35,
   "id": "a1b9ea26",
   "metadata": {},
   "outputs": [
    {
     "name": "stdout",
     "output_type": "stream",
     "text": [
      "3.14\n"
     ]
    }
   ],
   "source": [
    "my_list = [1, [3+4, 777, [\"Hi\", {\"중력\":9.8, (\"파이\", \"숫자\"):3.14, \"파이\":\"애플\"}]]]\n",
    "\n",
    "#print(my_list[??])\n",
    "\n",
    "print(my_list[1][2][1][(\"파이\", \"숫자\")])"
   ]
  },
  {
   "cell_type": "markdown",
   "id": "2dc62011",
   "metadata": {},
   "source": [
    "### [문제4] 구구단 출력\n",
    "\n",
    "원하는 2이상 9이하의 정수에 대해 아래와 같이 곱셈표를 출력하는 프로그램을 만들어 보세요.\n",
    "예시는 3단입니다.\n",
    "```\n",
    "3 x 1 = 3\n",
    "3 x 2 = 6\n",
    "3 x 3 = 9\n",
    "3 x 4 = 12\n",
    "3 x 5 = 15\n",
    "3 x 6 = 18\n",
    "3 x 7 = 21\n",
    "3 x 8 = 24\n",
    "3 x 9 = 27\n",
    "```"
   ]
  },
  {
   "cell_type": "code",
   "execution_count": 25,
   "id": "4eb26e5a",
   "metadata": {},
   "outputs": [
    {
     "name": "stdout",
     "output_type": "stream",
     "text": [
      "3 x 1 = 3\n",
      "3 x 2 = 6\n",
      "3 x 3 = 9\n",
      "3 x 4 = 12\n",
      "3 x 5 = 15\n",
      "3 x 6 = 18\n",
      "3 x 7 = 21\n",
      "3 x 8 = 24\n",
      "3 x 9 = 27\n"
     ]
    }
   ],
   "source": [
    "num = 3 #작성할 구구단\n",
    "\n",
    "for i in  range(1,10):\n",
    "    print(num, \"x\", i, \"=\", num*i)"
   ]
  },
  {
   "cell_type": "markdown",
   "id": "0b55998d",
   "metadata": {},
   "source": [
    "### [문제5] 구구단 출력 2\n",
    "중첩 반복문을 사용하여 \n",
    "2단부터 9단까지 아래와 같이 모두 출력하도록 만들어보세요. \n",
    "```\n",
    " 2 x 1 =   2\t 3 x 1 =   3\t 4 x 1 =   4\t 5 x 1 =   5\t 6 x 1 =   6\t 7 x 1 =   7\t 8 x 1 =   8\t 9 x 1 =   9\t\n",
    " 2 x 2 =   4\t 3 x 2 =   6\t 4 x 2 =   8\t 5 x 2 =  10\t 6 x 2 =  12\t 7 x 2 =  14\t 8 x 2 =  16\t 9 x 2 =  18\t\n",
    " 2 x 3 =   6\t 3 x 3 =   9\t 4 x 3 =  12\t 5 x 3 =  15\t 6 x 3 =  18\t 7 x 3 =  21\t 8 x 3 =  24\t 9 x 3 =  27\t\n",
    " 2 x 4 =   8\t 3 x 4 =  12\t 4 x 4 =  16\t 5 x 4 =  20\t 6 x 4 =  24\t 7 x 4 =  28\t 8 x 4 =  32\t 9 x 4 =  36\t\n",
    " 2 x 5 =  10\t 3 x 5 =  15\t 4 x 5 =  20\t 5 x 5 =  25\t 6 x 5 =  30\t 7 x 5 =  35\t 8 x 5 =  40\t 9 x 5 =  45\t\n",
    " 2 x 6 =  12\t 3 x 6 =  18\t 4 x 6 =  24\t 5 x 6 =  30\t 6 x 6 =  36\t 7 x 6 =  42\t 8 x 6 =  48\t 9 x 6 =  54\t\n",
    " 2 x 7 =  14\t 3 x 7 =  21\t 4 x 7 =  28\t 5 x 7 =  35\t 6 x 7 =  42\t 7 x 7 =  49\t 8 x 7 =  56\t 9 x 7 =  63\t\n",
    " 2 x 8 =  16\t 3 x 8 =  24\t 4 x 8 =  32\t 5 x 8 =  40\t 6 x 8 =  48\t 7 x 8 =  56\t 8 x 8 =  64\t 9 x 8 =  72\t\n",
    " 2 x 9 =  18\t 3 x 9 =  27\t 4 x 9 =  36\t 5 x 9 =  45\t 6 x 9 =  54\t 7 x 9 =  63\t 8 x 9 =  72\t 9 x 9 =  81\n",
    "```"
   ]
  },
  {
   "cell_type": "code",
   "execution_count": 24,
   "id": "4da3ded7",
   "metadata": {},
   "outputs": [
    {
     "name": "stdout",
     "output_type": "stream",
     "text": [
      "2 X 1 = 2\n",
      "2 X 2 = 4\n",
      "2 X 3 = 6\n",
      "2 X 4 = 8\n",
      "2 X 5 = 10\n",
      "2 X 6 = 12\n",
      "2 X 7 = 14\n",
      "2 X 8 = 16\n",
      "2 X 9 = 18\n",
      "3 X 1 = 3\n",
      "3 X 2 = 6\n",
      "3 X 3 = 9\n",
      "3 X 4 = 12\n",
      "3 X 5 = 15\n",
      "3 X 6 = 18\n",
      "3 X 7 = 21\n",
      "3 X 8 = 24\n",
      "3 X 9 = 27\n",
      "4 X 1 = 4\n",
      "4 X 2 = 8\n",
      "4 X 3 = 12\n",
      "4 X 4 = 16\n",
      "4 X 5 = 20\n",
      "4 X 6 = 24\n",
      "4 X 7 = 28\n",
      "4 X 8 = 32\n",
      "4 X 9 = 36\n",
      "5 X 1 = 5\n",
      "5 X 2 = 10\n",
      "5 X 3 = 15\n",
      "5 X 4 = 20\n",
      "5 X 5 = 25\n",
      "5 X 6 = 30\n",
      "5 X 7 = 35\n",
      "5 X 8 = 40\n",
      "5 X 9 = 45\n",
      "6 X 1 = 6\n",
      "6 X 2 = 12\n",
      "6 X 3 = 18\n",
      "6 X 4 = 24\n",
      "6 X 5 = 30\n",
      "6 X 6 = 36\n",
      "6 X 7 = 42\n",
      "6 X 8 = 48\n",
      "6 X 9 = 54\n",
      "7 X 1 = 7\n",
      "7 X 2 = 14\n",
      "7 X 3 = 21\n",
      "7 X 4 = 28\n",
      "7 X 5 = 35\n",
      "7 X 6 = 42\n",
      "7 X 7 = 49\n",
      "7 X 8 = 56\n",
      "7 X 9 = 63\n",
      "8 X 1 = 8\n",
      "8 X 2 = 16\n",
      "8 X 3 = 24\n",
      "8 X 4 = 32\n",
      "8 X 5 = 40\n",
      "8 X 6 = 48\n",
      "8 X 7 = 56\n",
      "8 X 8 = 64\n",
      "8 X 9 = 72\n",
      "9 X 1 = 9\n",
      "9 X 2 = 18\n",
      "9 X 3 = 27\n",
      "9 X 4 = 36\n",
      "9 X 5 = 45\n",
      "9 X 6 = 54\n",
      "9 X 7 = 63\n",
      "9 X 8 = 72\n",
      "9 X 9 = 81\n"
     ]
    }
   ],
   "source": [
    "for x in range(2,10):\n",
    "    for y in range(1,10):\n",
    "        print(x, \"X\", y, \"=\", x*y)"
   ]
  },
  {
   "cell_type": "code",
   "execution_count": null,
   "id": "9459116e",
   "metadata": {},
   "outputs": [],
   "source": []
  }
 ],
 "metadata": {
  "kernelspec": {
   "display_name": "Python 3 (ipykernel)",
   "language": "python",
   "name": "python3"
  },
  "language_info": {
   "codemirror_mode": {
    "name": "ipython",
    "version": 3
   },
   "file_extension": ".py",
   "mimetype": "text/x-python",
   "name": "python",
   "nbconvert_exporter": "python",
   "pygments_lexer": "ipython3",
   "version": "3.10.4"
  }
 },
 "nbformat": 4,
 "nbformat_minor": 5
}
