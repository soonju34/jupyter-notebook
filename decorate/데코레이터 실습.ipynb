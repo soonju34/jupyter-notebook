{
 "cells": [
  {
   "cell_type": "markdown",
   "metadata": {
    "pycharm": {
     "name": "#%% md\n"
    }
   },
   "source": [
    "# 데코레이터(Decorator)\n",
    "\n",
    "함수나 클래스를 변경하지 않고 기능을 추가할 수 있습니다."
   ]
  },
  {
   "cell_type": "code",
   "execution_count": 1,
   "metadata": {
    "pycharm": {
     "name": "#%%\n"
    }
   },
   "outputs": [],
   "source": [
    "# 예) 함수 실행 전과 후에 메시지 출력 (함수 수정)\n",
    "\n",
    "def my_func():\n",
    "    print(\"함수 실행!\")\n",
    "\n",
    "def my_func_modified():\n",
    "    print(\"실행 전\")\n",
    "\n",
    "    print(\"함수 실행!\") # 원래 실행할 내용\n",
    "\n",
    "    print(\"실행 전\")"
   ]
  },
  {
   "cell_type": "code",
   "execution_count": 2,
   "metadata": {
    "pycharm": {
     "name": "#%%\n"
    }
   },
   "outputs": [
    {
     "name": "stdout",
     "output_type": "stream",
     "text": [
      "실행 전\n",
      "함수1 실행!\n",
      "실행 후\n",
      "실행 전\n",
      "함수2 실행!\n",
      "실행 후\n"
     ]
    }
   ],
   "source": [
    "# 예) 함수 실행 전과 후에 메시지 출력 (데코레이터)\n",
    "def my_decorator(func_to_wrap):\n",
    "    def my_wrapper():\n",
    "        print(\"실행 전\")\n",
    "        func_to_wrap()\n",
    "        print(\"실행 후\")\n",
    "    return my_wrapper\n",
    "\n",
    "@my_decorator\n",
    "def my_func1():\n",
    "    print(\"함수1 실행!\")\n",
    "\n",
    "@my_decorator\n",
    "def my_func2():\n",
    "    print(\"함수2 실행!\")\n",
    "\n",
    "my_func1()\n",
    "my_func2()"
   ]
  },
  {
   "cell_type": "markdown",
   "metadata": {
    "pycharm": {
     "name": "#%% md\n"
    }
   },
   "source": [
    "파이썬의 함수는 일급 객체(first-class objects)이기 때문에 유연하게 사용할 수 있습니다.\n",
    "- 함수에게 인수로 전달 가능\n",
    "- 반환으로 전달 가능\n",
    "- 변수에 바인딩 가능, 컨테이너로 저장 가능 등"
   ]
  },
  {
   "cell_type": "code",
   "execution_count": 3,
   "metadata": {
    "pycharm": {
     "name": "#%%\n"
    }
   },
   "outputs": [
    {
     "name": "stdout",
     "output_type": "stream",
     "text": [
      "딸기가 좋아\n",
      "딸기가 싫어\n"
     ]
    }
   ],
   "source": [
    "# 함수를 인수로 전달\n",
    "def my_func1(a):\n",
    "    print(f\"{a}가 좋아\")\n",
    "\n",
    "def my_func2(a):\n",
    "    print(f\"{a}가 싫어\")\n",
    "\n",
    "def func_runner(func_to_run):\n",
    "    func_to_run(\"딸기\")\n",
    "\n",
    "func_runner(my_func1)\n",
    "func_runner(my_func2)"
   ]
  },
  {
   "cell_type": "code",
   "execution_count": 1,
   "metadata": {
    "pycharm": {
     "name": "#%%\n"
    }
   },
   "outputs": [
    {
     "name": "stdout",
     "output_type": "stream",
     "text": [
      "outer_func()에서 출력\n",
      "first_inner_func()에서 출력\n",
      "second_inner_func()에서 출력\n"
     ]
    }
   ],
   "source": [
    "# 함수 안에서 함수 정의\n",
    "def outer_func():\n",
    "    print(\"outer_func()에서 출력\")\n",
    "\n",
    "    def first_inner_func():\n",
    "        print(\"first_inner_func()에서 출력\")\n",
    "\n",
    "    def second_inner_func():\n",
    "        print(\"second_inner_func()에서 출력\")\n",
    "\n",
    "    first_inner_func() # 함수 안에서 정의된 함수 실행\n",
    "    second_inner_func() # 함수 안에서 정의된 함수 실행\n",
    "\n",
    "outer_func()"
   ]
  },
  {
   "cell_type": "code",
   "execution_count": 2,
   "metadata": {
    "pycharm": {
     "name": "#%%\n"
    }
   },
   "outputs": [
    {
     "name": "stdout",
     "output_type": "stream",
     "text": [
      "outer_func()에서 출력\n",
      "<function outer_func.<locals>.inner_func at 0x000002296B5F0040>\n",
      "first_inner_func()에서 출력\n"
     ]
    }
   ],
   "source": [
    "# 함수 안에서 정의한 함수를 반환해서 사용\n",
    "def outer_func():\n",
    "    print(\"outer_func()에서 출력\")\n",
    "\n",
    "    def inner_func():\n",
    "        print(\"first_inner_func()에서 출력\")\n",
    "\n",
    "    return inner_func\n",
    "\n",
    "f = outer_func()\n",
    "print(f) # <function outer_func.<locals>.inner_func at ~~>\n",
    "f()\n",
    "\n",
    "# outer_func()() # 괄호 두 번으로도 실행 가능"
   ]
  },
  {
   "cell_type": "code",
   "execution_count": 3,
   "metadata": {
    "pycharm": {
     "name": "#%%\n"
    }
   },
   "outputs": [
    {
     "name": "stdout",
     "output_type": "stream",
     "text": [
      "짝수 입니다.\n",
      "홀수 입니다.\n"
     ]
    }
   ],
   "source": [
    "# 조건에 따라 다른 함수를 만들었다가 나중에 사용\n",
    "\n",
    "def func_maker(num):\n",
    "\n",
    "    def print_even():\n",
    "        return \"짝수 입니다.\"\n",
    "\n",
    "    def print_odd():\n",
    "        return \"홀수 입니다.\"\n",
    "\n",
    "    if num % 2 == 0:\n",
    "        return print_even\n",
    "    else:\n",
    "        return print_odd\n",
    "\n",
    "test1 = func_maker(2)\n",
    "test2 = func_maker(3)\n",
    "\n",
    "print(test1())\n",
    "print(test2())"
   ]
  },
  {
   "cell_type": "code",
   "execution_count": 4,
   "metadata": {
    "pycharm": {
     "name": "#%%\n"
    }
   },
   "outputs": [
    {
     "name": "stdout",
     "output_type": "stream",
     "text": [
      "my_func 실행 전\n",
      "함수 실행!\n",
      "my_func 실행 후\n"
     ]
    }
   ],
   "source": [
    "# 함수 실행 전후에 메시지를 출력\n",
    "\n",
    "def my_decorator(func_to_wrap):\n",
    "\n",
    "    def my_wrapper():\n",
    "        print(f\"{func_to_wrap.__name__} 실행 전\")\n",
    "        \n",
    "        func_to_wrap()\n",
    "        \n",
    "        print(f\"{func_to_wrap.__name__} 실행 후\")\n",
    "\n",
    "    return my_wrapper\n",
    "\n",
    "def my_func():\n",
    "    print(\"함수 실행!\")\n",
    "\n",
    "my_func = my_decorator(my_func) # @my_decorator가 내부적으로 하는 일\n",
    "\n",
    "my_func()"
   ]
  },
  {
   "cell_type": "code",
   "execution_count": 5,
   "metadata": {
    "pycharm": {
     "name": "#%%\n"
    }
   },
   "outputs": [
    {
     "name": "stdout",
     "output_type": "stream",
     "text": [
      "함수 이름 변경 전: 2376918054944\n",
      "my_wrapper의 id 2376918304656\n",
      "함수 이름 변경 후: 2376918304656\n",
      "my_func 실행 전\n",
      "함수 실행!\n",
      "my_func 실행 후\n"
     ]
    }
   ],
   "source": [
    "# 함수 실행 전후에 메시지를 출력 (id출력해서 확인)\n",
    "\n",
    "def my_decorator(func_to_wrap):\n",
    "\n",
    "    def my_wrapper():\n",
    "        print(f\"{func_to_wrap.__name__} 실행 전\")\n",
    "\n",
    "        func_to_wrap()\n",
    "\n",
    "        print(f\"{func_to_wrap.__name__} 실행 후\")\n",
    "\n",
    "    print(\"my_wrapper의 id\", id(my_wrapper))\n",
    "\n",
    "    return my_wrapper\n",
    "\n",
    "def my_func():\n",
    "    print(\"함수 실행!\")\n",
    "\n",
    "print(\"함수 이름 변경 전:\", id(my_func))\n",
    "\n",
    "# 함수의 원래 이름에 바인딩\n",
    "my_func = my_decorator(my_func)\n",
    "\n",
    "print(\"함수 이름 변경 후:\", id(my_func))\n",
    "\n",
    "my_func()"
   ]
  },
  {
   "cell_type": "markdown",
   "metadata": {
    "pycharm": {
     "name": "#%% md\n"
    }
   },
   "source": [
    "데코레이터 문법을 이용해서 더 간단한 형태로 구현할 수 있습니다.\n"
   ]
  },
  {
   "cell_type": "code",
   "execution_count": 6,
   "metadata": {
    "pycharm": {
     "name": "#%%\n"
    }
   },
   "outputs": [
    {
     "name": "stdout",
     "output_type": "stream",
     "text": [
      "func_to_wrap 2376918056816\n",
      "my_wrapper 2376918306672\n",
      "my_func 2376918306672\n",
      "my_func 실행 전\n",
      "함수 실행!\n",
      "my_func 실행 후\n"
     ]
    }
   ],
   "source": [
    "\n",
    "def my_decorator(func_to_wrap):\n",
    "\n",
    "    def my_wrapper():\n",
    "        print(f\"{func_to_wrap.__name__} 실행 전\") # func_to_wrap.__name__ 은 함수의 이름\n",
    "\n",
    "        func_to_wrap() # 함수 실행\n",
    "\n",
    "        print(f\"{func_to_wrap.__name__} 실행 후\")\n",
    "\n",
    "    print(\"func_to_wrap\", id(func_to_wrap))\n",
    "    print(\"my_wrapper\", id(my_wrapper))\n",
    "\n",
    "    return my_wrapper\n",
    "\n",
    "@my_decorator\n",
    "def my_func():\n",
    "    print(\"함수 실행!\")\n",
    "\n",
    "# my_func = my_decorator(my_func) # @my_decorator가 내부적으로 실행\n",
    "\n",
    "print(\"my_func\", id(my_func))\n",
    "\n",
    "my_func()"
   ]
  },
  {
   "cell_type": "code",
   "execution_count": 7,
   "metadata": {
    "pycharm": {
     "name": "#%%\n"
    }
   },
   "outputs": [
    {
     "name": "stdout",
     "output_type": "stream",
     "text": [
      "my_func 실행 전\n",
      "함수 실행! 안녕하세요?\n",
      "my_func 실행 후\n"
     ]
    }
   ],
   "source": [
    "# 매개변수가 있는 함수에 데코레이터 적용\n",
    "\n",
    "def my_decorator(func_to_wrap):\n",
    "\n",
    "    def my_wrapper(message):\n",
    "        print(f\"{func_to_wrap.__name__} 실행 전\")\n",
    "        func_to_wrap(message)\n",
    "        print(f\"{func_to_wrap.__name__} 실행 후\")\n",
    "\n",
    "    return my_wrapper\n",
    "\n",
    "@my_decorator\n",
    "def my_func(message):\n",
    "    print(\"함수 실행!\", message)\n",
    "\n",
    "my_func(\"안녕하세요?\")"
   ]
  },
  {
   "cell_type": "code",
   "execution_count": 8,
   "metadata": {
    "pycharm": {
     "name": "#%%\n"
    }
   },
   "outputs": [
    {
     "name": "stdout",
     "output_type": "stream",
     "text": [
      "my_func1 실행 전\n",
      "함수 실행! 헬로!\n",
      "my_func1 실행 후\n",
      "my_func2 실행 전\n",
      "함수 실행! 안녕? 반가워\n",
      "my_func2 실행 후\n"
     ]
    }
   ],
   "source": [
    "# 가변 인수를 사용하면 데코레이터를 보다 일반적인 함수에 대해 사용할 수 있습니다.\n",
    "def my_decorator(func_to_wrap):\n",
    "\n",
    "    def my_wrapper(*args, **kwargs):\n",
    "        print(f\"{func_to_wrap.__name__} 실행 전\")\n",
    "        func_to_wrap(*args, **kwargs)\n",
    "        print(f\"{func_to_wrap.__name__} 실행 후\")\n",
    "\n",
    "    return my_wrapper\n",
    "\n",
    "@my_decorator\n",
    "def my_func1(message1):\n",
    "    print(\"함수 실행!\", message1)\n",
    "\n",
    "@my_decorator\n",
    "def my_func2(message1, message2):\n",
    "    print(\"함수 실행!\", message1, message2)\n",
    "\n",
    "my_func1(\"헬로!\")\n",
    "my_func2(\"안녕?\", message2 = \"반가워\")"
   ]
  },
  {
   "cell_type": "code",
   "execution_count": 9,
   "metadata": {
    "pycharm": {
     "name": "#%%\n"
    }
   },
   "outputs": [
    {
     "name": "stdout",
     "output_type": "stream",
     "text": [
      "1 더하기 2는 3입니다.\n"
     ]
    }
   ],
   "source": [
    "# 반환값이 있는 경우\n",
    "\n",
    "def my_decorator(func_to_wrap):\n",
    "\n",
    "    def my_wrapper(a, b):\n",
    "        return f\"{a} 더하기 {b}는 {func_to_wrap(a, b)}입니다.\" # 반환\n",
    "\n",
    "    return my_wrapper\n",
    "\n",
    "@my_decorator\n",
    "def my_add(a, b):\n",
    "    return a + b\n",
    "\n",
    "print(my_add(1, 2))"
   ]
  },
  {
   "cell_type": "markdown",
   "metadata": {
    "pycharm": {
     "name": "#%% md\n"
    }
   },
   "source": [
    "## [실습] 실행 시간을 출력해주는 데코레이터"
   ]
  },
  {
   "cell_type": "code",
   "execution_count": 10,
   "metadata": {
    "pycharm": {
     "name": "#%%\n"
    }
   },
   "outputs": [
    {
     "name": "stdout",
     "output_type": "stream",
     "text": [
      "경과시간 :  1.5102073999999988\n"
     ]
    }
   ],
   "source": [
    "# 문제\n",
    "\n",
    "import time\n",
    "\n",
    "def my_timer(func_to_wrap):\n",
    "    def elapsed_timer():\n",
    "        start_time = time.perf_counter()\n",
    "        func_to_wrap()\n",
    "        print(\"경과시간 : \",time.perf_counter() - start_time)\n",
    "    return elapsed_timer\n",
    "\n",
    "@my_timer\n",
    "def my_func():\n",
    "    time.sleep(1.5) # 시간 소모\n",
    "\n",
    "my_func()"
   ]
  },
  {
   "cell_type": "markdown",
   "metadata": {
    "pycharm": {
     "name": "#%% md\n"
    }
   },
   "source": [
    "## [실습] 데코레이터에 인수 전달\n"
   ]
  },
  {
   "cell_type": "code",
   "execution_count": 11,
   "metadata": {
    "pycharm": {
     "name": "#%%\n"
    }
   },
   "outputs": [
    {
     "name": "stdout",
     "output_type": "stream",
     "text": [
      "함수 실행!\n",
      "함수 실행!\n",
      "함수 실행!\n",
      "함수 실행!\n",
      "함수 실행!\n"
     ]
    }
   ],
   "source": [
    "# 문제\n",
    "def repeat(cnt):\n",
    "    def actual_func(wrap_func):\n",
    "        def wrapper():\n",
    "            for i in range(cnt):\n",
    "                wrap_func()\n",
    "        return wrapper\n",
    "    return actual_func\n",
    "\n",
    "\n",
    "@repeat(3)\n",
    "def my_func():\n",
    "    print(\"함수 실행!\")\n",
    "\n",
    "my_func()\n",
    "\n",
    "@repeat(2)\n",
    "def my_func():\n",
    "    print(\"함수 실행!\")\n",
    "\n",
    "my_func()"
   ]
  },
  {
   "cell_type": "markdown",
   "metadata": {
    "pycharm": {
     "name": "#%% md\n"
    }
   },
   "source": [
    "데코레이터의 부작용"
   ]
  },
  {
   "cell_type": "code",
   "execution_count": 12,
   "metadata": {
    "pycharm": {
     "name": "#%%\n"
    }
   },
   "outputs": [
    {
     "name": "stdout",
     "output_type": "stream",
     "text": [
      "Help on function my_wrapper in module __main__:\n",
      "\n",
      "my_wrapper()\n",
      "    my_wrapper()에 대한 설명\n",
      "\n"
     ]
    }
   ],
   "source": [
    "# 데코레이터 적용으로 정체성을 잃어버림\n",
    "\n",
    "def my_decorator(func_to_wrap):\n",
    "    def my_wrapper():\n",
    "        \"\"\"my_wrapper()에 대한 설명\"\"\"\n",
    "        print(\"실행 전\")\n",
    "        func_to_wrap()\n",
    "        print(\"실행 후\")\n",
    "    return my_wrapper\n",
    "\n",
    "@my_decorator\n",
    "def my_func():\n",
    "    \"\"\"my_func()에 대한 설명\"\"\"\n",
    "    print(\"함수 실행!\")\n",
    "\n",
    "# print(my_func.__name__) # my_wrapper ??\n",
    "# print(my_func) # <function my_decorator.<locals>.my_wrapper at ~~>\n",
    "help(my_func)"
   ]
  },
  {
   "cell_type": "code",
   "execution_count": 13,
   "metadata": {
    "pycharm": {
     "name": "#%%\n"
    }
   },
   "outputs": [
    {
     "name": "stdout",
     "output_type": "stream",
     "text": [
      "my_func\n",
      "<function my_func at 0x000002296B5F05E0>\n",
      "Help on function my_func in module __main__:\n",
      "\n",
      "my_func()\n",
      "    my_func()에 대한 설명\n",
      "\n"
     ]
    }
   ],
   "source": [
    "# 원래 정체성 유지\n",
    "\n",
    "import functools\n",
    "\n",
    "def my_decorator(func_to_wrap):\n",
    "\n",
    "    @functools.wraps(func_to_wrap) # <-- \n",
    "    def my_wrapper():\n",
    "        \"\"\"my_wrapper()에 대한 설명\"\"\"\n",
    "        print(\"실행 전\")\n",
    "        func_to_wrap()\n",
    "        print(\"실행 후\")\n",
    "\n",
    "    return my_wrapper\n",
    "\n",
    "@my_decorator\n",
    "def my_func():\n",
    "    \"\"\"my_func()에 대한 설명\"\"\"\n",
    "    print(\"함수 실행!\")\n",
    "\n",
    "print(my_func.__name__) # my_func\n",
    "print(my_func) # <function my_func at ~~>\n",
    "\n",
    "help(my_func)"
   ]
  },
  {
   "cell_type": "markdown",
   "metadata": {
    "pycharm": {
     "name": "#%% md\n"
    }
   },
   "source": [
    "데코레이터를 여러 개 적용할 수도 있습니다."
   ]
  },
  {
   "cell_type": "code",
   "execution_count": 14,
   "metadata": {
    "pycharm": {
     "name": "#%%\n"
    }
   },
   "outputs": [
    {
     "name": "stdout",
     "output_type": "stream",
     "text": [
      "deco2 만들기\n",
      "deco1 만들기\n",
      "deco1 실행 전\n",
      "deco2 실행 전\n",
      "함수 실행!\n",
      "deco2 실행 후\n",
      "deco1 실행 후\n"
     ]
    }
   ],
   "source": [
    "def deco1(func_to_wrap):\n",
    "    print(\"deco1 만들기\")\n",
    "    def my_wrapper():\n",
    "        print(\"deco1 실행 전\")\n",
    "        func_to_wrap()\n",
    "        print(\"deco1 실행 후\")\n",
    "    return my_wrapper\n",
    "\n",
    "def deco2(func_to_wrap):\n",
    "    print(\"deco2 만들기\")\n",
    "    def my_wrapper():\n",
    "        print(\"deco2 실행 전\")\n",
    "        func_to_wrap()\n",
    "        print(\"deco2 실행 후\")\n",
    "    return my_wrapper\n",
    "\n",
    "@deco1\n",
    "@deco2\n",
    "def my_func():\n",
    "    print(\"함수 실행!\")\n",
    "\n",
    "my_func()"
   ]
  },
  {
   "cell_type": "markdown",
   "metadata": {
    "pycharm": {
     "name": "#%% md\n"
    }
   },
   "source": [
    "### [실습] 데코레이터로 함수 등록하기"
   ]
  },
  {
   "cell_type": "code",
   "execution_count": 15,
   "metadata": {
    "pycharm": {
     "name": "#%%\n"
    }
   },
   "outputs": [
    {
     "name": "stdout",
     "output_type": "stream",
     "text": [
      "사과는 맛있어\n",
      "바나나는 길어\n",
      "딸기가 좋아\n",
      "노란 오렌지\n"
     ]
    }
   ],
   "source": [
    "# 문제\n",
    "\n",
    "my_func_list = []\n",
    "\n",
    "\n",
    "def register(func):\n",
    "    my_func_list.append(func)\n",
    "    return func\n",
    "\n",
    "\n",
    "@register\n",
    "def say_apple():\n",
    "    print(\"사과는 맛있어\")\n",
    "\n",
    "\n",
    "@register\n",
    "def say_banana():\n",
    "    print(\"바나나는 길어\")\n",
    "\n",
    "\n",
    "@register\n",
    "def say_strawberry():\n",
    "    print(\"딸기가 좋아\")\n",
    "\n",
    "@register\n",
    "def say_orange():\n",
    "    print(\"노란 오렌지\")\n",
    "\n",
    "\n",
    "\n",
    "for f in my_func_list:\n",
    "    f()\n"
   ]
  },
  {
   "cell_type": "markdown",
   "metadata": {
    "pycharm": {
     "name": "#%% md\n"
    }
   },
   "source": [
    "[보충] 함수의 속성(function attributes)"
   ]
  },
  {
   "cell_type": "code",
   "execution_count": 16,
   "metadata": {
    "pycharm": {
     "name": "#%%\n"
    }
   },
   "outputs": [
    {
     "name": "stdout",
     "output_type": "stream",
     "text": [
      "123\n"
     ]
    }
   ],
   "source": [
    "def my_func():\n",
    "    print(my_func.a)\n",
    "\n",
    "my_func.a = 123 # function data attribute\n",
    "\n",
    "my_func()"
   ]
  },
  {
   "cell_type": "code",
   "execution_count": 17,
   "metadata": {
    "pycharm": {
     "name": "#%%\n"
    }
   },
   "outputs": [
    {
     "name": "stdout",
     "output_type": "stream",
     "text": [
      "사과는 맛있어\n",
      "바나나는 길어\n",
      "딸기가 좋아\n"
     ]
    }
   ],
   "source": [
    "# 함수 등록 데코레이터에서 함수 속성 사용하기\n",
    "\n",
    "def register(func):\n",
    "    register.my_func_list.append(func)\n",
    "    return func\n",
    "\n",
    "register.my_func_list = [] # 함수 속성 사용\n",
    "\n",
    "@register\n",
    "def say_apple():\n",
    "    print(\"사과는 맛있어\")\n",
    "\n",
    "@register\n",
    "def say_banana():\n",
    "    print(\"바나나는 길어\")\n",
    "\n",
    "@register\n",
    "def say_strawberry():\n",
    "    print(\"딸기가 좋아\")\n",
    "\n",
    "for f in register.my_func_list:\n",
    "    f()"
   ]
  },
  {
   "cell_type": "markdown",
   "metadata": {
    "pycharm": {
     "name": "#%% md\n"
    }
   },
   "source": [
    "##### [실습] 함수가 몇 번째 실행되고 있는지 출력하기"
   ]
  },
  {
   "cell_type": "code",
   "execution_count": 18,
   "metadata": {
    "pycharm": {
     "name": "#%%\n"
    }
   },
   "outputs": [
    {
     "name": "stdout",
     "output_type": "stream",
     "text": [
      "호출 1번째\n",
      "호출 2번째\n",
      "호출 3번째\n"
     ]
    }
   ],
   "source": [
    "# 문제\n",
    "\n",
    "def count_calls(func):\n",
    "    def wrapper_count_calls():\n",
    "        wrapper_count_calls.num_calls += 1\n",
    "        print(f\"호출 {wrapper_count_calls.num_calls}번째\")\n",
    "        return func()\n",
    "    wrapper_count_calls.num_calls = 0\n",
    "    return wrapper_count_calls\n",
    "\n",
    "@count_calls\n",
    "def my_func():\n",
    "    pass\n",
    "\n",
    "my_func()\n",
    "my_func()\n",
    "my_func()"
   ]
  },
  {
   "cell_type": "markdown",
   "metadata": {
    "pycharm": {
     "name": "#%% md\n"
    }
   },
   "source": [
    "##### [실습] 계산 결과를 기억해뒀다가 다시 사용하기"
   ]
  },
  {
   "cell_type": "code",
   "execution_count": 19,
   "metadata": {
    "pycharm": {
     "name": "#%%\n"
    }
   },
   "outputs": [
    {
     "name": "stdout",
     "output_type": "stream",
     "text": [
      "호출 1번째\n",
      "호출 2번째\n",
      "호출 3번째\n",
      "호출 4번째\n",
      "호출 5번째\n",
      "호출 6번째\n",
      "호출 7번째\n",
      "호출 8번째\n",
      "호출 9번째\n",
      "호출 10번째\n",
      "호출 11번째\n",
      "호출 12번째\n",
      "호출 13번째\n",
      "호출 14번째\n",
      "호출 15번째\n",
      "호출 16번째\n",
      "호출 17번째\n",
      "호출 18번째\n",
      "호출 19번째\n",
      "호출 20번째\n",
      "호출 21번째\n",
      "호출 22번째\n",
      "호출 23번째\n",
      "호출 24번째\n",
      "호출 25번째\n",
      "8\n"
     ]
    }
   ],
   "source": [
    "# cache를 적용하지 않은 경우\n",
    "\n",
    "def count_calls(func):\n",
    "    def wrapper_count_calls(num):\n",
    "        wrapper_count_calls.num_calls += 1\n",
    "        print(f\"호출 {wrapper_count_calls.num_calls}번째\")\n",
    "        return func(num)\n",
    "    wrapper_count_calls.num_calls = 0 # function attribute 초기화\n",
    "    return wrapper_count_calls\n",
    "\n",
    "@count_calls\n",
    "def fibonacci(num):\n",
    "    if num < 2:\n",
    "        return num\n",
    "    return fibonacci(num - 1) + fibonacci(num - 2)\n",
    "\n",
    "print(fibonacci(6))"
   ]
  },
  {
   "cell_type": "code",
   "execution_count": 20,
   "metadata": {
    "pycharm": {
     "name": "#%%\n"
    }
   },
   "outputs": [
    {
     "name": "stdout",
     "output_type": "stream",
     "text": [
      "호출 1번째\n",
      "호출 2번째\n",
      "호출 3번째\n",
      "호출 4번째\n",
      "호출 5번째\n",
      "호출 6번째\n",
      "호출 7번째\n",
      "호출 8번째\n",
      "호출 9번째\n",
      "호출 10번째\n",
      "호출 11번째\n",
      "55\n"
     ]
    }
   ],
   "source": [
    "# 문제: cache를 적용한 경우\n",
    "\n",
    "def count_calls(func):\n",
    "    def wrapper_count_calls(num):\n",
    "        wrapper_count_calls.num_calls += 1\n",
    "        print(f\"호출 {wrapper_count_calls.num_calls}번째\")\n",
    "        return func(num)\n",
    "    wrapper_count_calls.num_calls = 0 # function attribute 초기화\n",
    "    return wrapper_count_calls\n",
    "\n",
    "def my_cache(func):\n",
    "    def wrapper_cache(num):\n",
    "        if num not in wrapper_cache.cache:\n",
    "            wrapper_cache.cache[num] = func(num)\n",
    "        return wrapper_cache.cache[num]\n",
    "    wrapper_cache.cache = dict()\n",
    "    return wrapper_cache\n",
    "\n",
    "@my_cache\n",
    "@count_calls\n",
    "def fibonacci(num):\n",
    "    if num < 2:\n",
    "        return num\n",
    "    return fibonacci(num - 1) + fibonacci(num - 2)\n",
    "\n",
    "print(fibonacci(10))"
   ]
  },
  {
   "cell_type": "code",
   "execution_count": 21,
   "metadata": {
    "pycharm": {
     "name": "#%%\n"
    }
   },
   "outputs": [
    {
     "name": "stdout",
     "output_type": "stream",
     "text": [
      "호출 1번째\n",
      "호출 2번째\n",
      "호출 3번째\n",
      "호출 4번째\n",
      "호출 5번째\n",
      "호출 6번째\n",
      "호출 7번째\n",
      "8\n"
     ]
    }
   ],
   "source": [
    "# LRU(Least Recently Used) cache\n",
    "\n",
    "import functools\n",
    "\n",
    "def count_calls(func):\n",
    "    def wrapper_count_calls(num):\n",
    "        wrapper_count_calls.num_calls += 1\n",
    "        print(f\"호출 {wrapper_count_calls.num_calls}번째\")\n",
    "        return func(num)\n",
    "    wrapper_count_calls.num_calls = 0 # function attribute 초기화\n",
    "    return wrapper_count_calls\n",
    "\n",
    "@functools.lru_cache()\n",
    "@count_calls\n",
    "def fibonacci(num):\n",
    "    if num < 2:\n",
    "        return num\n",
    "    return fibonacci(num - 1) + fibonacci(num - 2)\n",
    "\n",
    "print(fibonacci(6))"
   ]
  },
  {
   "cell_type": "markdown",
   "metadata": {
    "pycharm": {
     "name": "#%% md\n"
    }
   },
   "source": [
    "### 데코레이터와 클래스\n"
   ]
  },
  {
   "cell_type": "markdown",
   "metadata": {
    "pycharm": {
     "name": "#%% md\n"
    }
   },
   "source": [
    "데코레이터를 클래스에 사용할 수도 있습니다."
   ]
  },
  {
   "cell_type": "code",
   "execution_count": 22,
   "metadata": {
    "pycharm": {
     "name": "#%%\n"
    }
   },
   "outputs": [
    {
     "name": "stdout",
     "output_type": "stream",
     "text": [
      "실행 시간: 0.5155996000000016\n",
      "2376918433696\n",
      "2376918433696\n"
     ]
    }
   ],
   "source": [
    "import time\n",
    "\n",
    "def my_timer(cls_to_wrap):\n",
    "    def wrapper_timer():\n",
    "        start_time = time.perf_counter()\n",
    "        i = cls_to_wrap()\n",
    "        print(\"실행 시간:\", time.perf_counter() - start_time)\n",
    "        print(id(i))\n",
    "        return i\n",
    "    return wrapper_timer\n",
    "\n",
    "@my_timer\n",
    "class MyClass:\n",
    "    def __init__(self):\n",
    "        time.sleep(0.5)        \n",
    "\n",
    "    def my_method(self):\n",
    "        time.sleep(1.0)\n",
    "\n",
    "i = MyClass() # 실행 시간: 0.5147913999389857\n",
    "print(id(i))\n",
    "\n",
    "i.my_method() # ?"
   ]
  },
  {
   "cell_type": "markdown",
   "metadata": {
    "pycharm": {
     "name": "#%% md\n"
    }
   },
   "source": [
    "### [실습] 싱글턴(Singleton) 만들기"
   ]
  },
  {
   "cell_type": "code",
   "execution_count": 23,
   "metadata": {
    "pycharm": {
     "name": "#%%\n"
    }
   },
   "outputs": [
    {
     "name": "stdout",
     "output_type": "stream",
     "text": [
      "__init__() 호출\n",
      "1 1\n",
      "2376917962080 2376917962080\n"
     ]
    }
   ],
   "source": [
    "# 싱글톤(Singleton)\n",
    "import functools\n",
    "\n",
    "def singleton(my_class):\n",
    "    @functools.wraps(my_class)\n",
    "    def wrapper_singleton(*args, **kwargs):\n",
    "        if not wrapper_singleton.instance:\n",
    "            wrapper_singleton.instance = my_class(*args, **kwargs)\n",
    "        return wrapper_singleton.instance\n",
    "\n",
    "    wrapper_singleton.instance = None\n",
    "    return wrapper_singleton\n",
    "\n",
    "\n",
    "@singleton\n",
    "class MyClass:\n",
    "    def __init__(self, a):\n",
    "        print(\"__init__() 호출\") # 한 번만 호출\n",
    "        self.a = a\n",
    "\n",
    "i1 = MyClass(1)\n",
    "i2 = MyClass(2) # i2 = i1\n",
    "\n",
    "print(i1.a, i2.a) # 둘 다 1\n",
    "print(id(i1), id(i2))"
   ]
  },
  {
   "cell_type": "markdown",
   "metadata": {
    "pycharm": {
     "name": "#%% md\n"
    }
   },
   "source": [
    "클래스로 데코레이터를 만들 수도 있습니다. ```__call__()```이 필요합니다."
   ]
  },
  {
   "cell_type": "code",
   "execution_count": 24,
   "metadata": {
    "pycharm": {
     "name": "#%%\n"
    }
   },
   "outputs": [
    {
     "name": "stdout",
     "output_type": "stream",
     "text": [
      "2376935033296\n",
      "2376935033296\n",
      "실행 전\n",
      "함수 실행!\n",
      "실행 후\n",
      "my_func 설명\n"
     ]
    }
   ],
   "source": [
    "import functools\n",
    "\n",
    "class ClassDecorator:\n",
    "    \"\"\"ClassDecorator 설명\"\"\"\n",
    "\n",
    "    def __init__(self, func_to_wrap):\n",
    "        print(id(self))\n",
    "        functools.update_wrapper(self, func_to_wrap)\n",
    "        self.func = func_to_wrap\n",
    "\n",
    "    def __call__(self):\n",
    "        print(\"실행 전\")\n",
    "        self.func()\n",
    "        print(\"실행 후\")\n",
    "\n",
    "@ClassDecorator\n",
    "def my_func():\n",
    "    \"\"\"my_func 설명\"\"\"\n",
    "    print(\"함수 실행!\")\n",
    "\n",
    "print(id(my_func))\n",
    "\n",
    "my_func()\n",
    "\n",
    "print(my_func.__doc__)"
   ]
  },
  {
   "cell_type": "code",
   "execution_count": 25,
   "metadata": {
    "pycharm": {
     "name": "#%%\n"
    }
   },
   "outputs": [
    {
     "name": "stdout",
     "output_type": "stream",
     "text": [
      "CALL\n"
     ]
    }
   ],
   "source": [
    "class MyClass:\n",
    "    def __call__(self):\n",
    "        print(\"CALL\")\n",
    "\n",
    "t = MyClass()\n",
    "t()"
   ]
  },
  {
   "cell_type": "markdown",
   "metadata": {
    "pycharm": {
     "name": "#%% md\n"
    }
   },
   "source": [
    "메써드에도 데코레이터를 사용할 수 있습니다. 자동으로 들어가는 ```self```를 주의하세요."
   ]
  },
  {
   "cell_type": "code",
   "execution_count": 26,
   "metadata": {
    "pycharm": {
     "name": "#%%\n"
    }
   },
   "outputs": [
    {
     "name": "stdout",
     "output_type": "stream",
     "text": [
      "실행 전\n",
      "my_method() 실행\n",
      "실행 후\n"
     ]
    }
   ],
   "source": [
    "# 인수로 self 하나만 넘겨주는 경우\n",
    "\n",
    "def my_decorator(func_to_wrap):\n",
    "\n",
    "    def my_wrapper(self): \n",
    "        print(\"실행 전\")\n",
    "        func_to_wrap(self)\n",
    "        print(\"실행 후\")\n",
    "\n",
    "    return my_wrapper\n",
    "\n",
    "class MyClass():\n",
    "\n",
    "    @my_decorator\n",
    "    def my_method(self):\n",
    "        print(\"my_method() 실행\")\n",
    "\n",
    "i = MyClass()\n",
    "\n",
    "i.my_method()"
   ]
  },
  {
   "cell_type": "code",
   "execution_count": 27,
   "metadata": {
    "pycharm": {
     "name": "#%%\n"
    }
   },
   "outputs": [
    {
     "name": "stdout",
     "output_type": "stream",
     "text": [
      "실행 전\n",
      "my_method() 실행\n",
      "실행 후\n"
     ]
    }
   ],
   "source": [
    "# 가변인수를 사용하면 더 편리합니다.\n",
    "\n",
    "def my_decorator(func_to_wrap):\n",
    "\n",
    "    def my_wrapper(*args, **kwargs): \n",
    "        print(\"실행 전\")\n",
    "        func_to_wrap(*args, **kwargs)\n",
    "        print(\"실행 후\")\n",
    "\n",
    "    return my_wrapper\n",
    "\n",
    "class MyClass():\n",
    "\n",
    "    @my_decorator\n",
    "    def my_method(self):\n",
    "        print(\"my_method() 실행\")\n",
    "\n",
    "i = MyClass()\n",
    "\n",
    "i.my_method()"
   ]
  },
  {
   "cell_type": "markdown",
   "metadata": {
    "pycharm": {
     "name": "#%% md\n"
    }
   },
   "source": [
    "[복습] 메써드에 적용할 수 있는 데코레이터들\n",
    "- @classmethod\n",
    "- @staticmethod\n",
    "- @property\n",
    "\n"
   ]
  },
  {
   "cell_type": "code",
   "execution_count": 28,
   "metadata": {
    "pycharm": {
     "name": "#%%\n"
    }
   },
   "outputs": [
    {
     "name": "stdout",
     "output_type": "stream",
     "text": [
      "my_static_method()\n",
      "my_class_method(), 바나나\n",
      "my_inst_method()\n",
      "message() 호출\n",
      "my_inst_method()\n"
     ]
    }
   ],
   "source": [
    "class MyClass:\n",
    "\n",
    "    _fruit = \"바나나\"\n",
    "\n",
    "    def __init__(self, message):\n",
    "        self._message = message # instance variable\n",
    "\n",
    "    def my_inst_method(self):\n",
    "        print(\"my_inst_method()\")\n",
    "\n",
    "    @classmethod\n",
    "    def my_class_method(cls): # self 대신 cls\n",
    "        print(f\"my_class_method(), {cls._fruit}\")\n",
    "\n",
    "    @staticmethod\n",
    "    def my_static_method(): # self도 없고 cls도 없음\n",
    "        print(\"my_static_method()\")\n",
    "\n",
    "    @property\n",
    "    def message(self): # getter\n",
    "        return self._message\n",
    "\n",
    "    @message.setter\n",
    "    def message(self, message): # setter\n",
    "        print(\"message() 호출\")\n",
    "        self._message = message\n",
    "\n",
    "i = MyClass(\"달아요\")\n",
    "\n",
    "i.my_static_method()\n",
    "i.my_class_method()\n",
    "i.my_inst_method()\n",
    "\n",
    "# 내부적으로 message() 메써드 호출\n",
    "i.message = \"길어요\"\n",
    "\n",
    "i.my_inst_method()"
   ]
  },
  {
   "cell_type": "code",
   "execution_count": null,
   "metadata": {},
   "outputs": [],
   "source": []
  },
  {
   "cell_type": "code",
   "execution_count": null,
   "metadata": {},
   "outputs": [],
   "source": []
  },
  {
   "cell_type": "code",
   "execution_count": null,
   "metadata": {},
   "outputs": [],
   "source": []
  }
 ],
 "metadata": {
  "interpreter": {
   "hash": "42a14d59eccc2cdc52c51d56ea294d65f97f1dfd3a73fcd38c54c12d09c244d3"
  },
  "kernelspec": {
   "display_name": "Python 3 (ipykernel)",
   "language": "python",
   "name": "python3"
  },
  "language_info": {
   "codemirror_mode": {
    "name": "ipython",
    "version": 3
   },
   "file_extension": ".py",
   "mimetype": "text/x-python",
   "name": "python",
   "nbconvert_exporter": "python",
   "pygments_lexer": "ipython3",
   "version": "3.9.12"
  }
 },
 "nbformat": 4,
 "nbformat_minor": 2
}
