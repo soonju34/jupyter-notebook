{
 "cells": [
  {
   "cell_type": "markdown",
   "id": "d3daf2a3",
   "metadata": {},
   "source": [
    "# 계산기 만들기"
   ]
  },
  {
   "cell_type": "code",
   "execution_count": 1,
   "id": "d30e3486",
   "metadata": {},
   "outputs": [],
   "source": [
    "from tkinter import *\n",
    "\n",
    "window = Tk()\n",
    "\n",
    "window.title(\"My Calculator\")\n",
    "\n",
    "display = Label(window, text=\"0\", font=(\"Arial\", 25), width=22, bg=\"white\")\n",
    "display.grid(row=0, column=0, columnspan=4)\n",
    "\n",
    "button_texts = [\n",
    "    [\"C\", \"/\", \"//\", \"-\"],\n",
    "    [\"7\", \"8\", \"9\", \"+\"],\n",
    "    [\"4\", \"5\", \"6\", \"*\"],\n",
    "    [\"1\", \"2\", \"3\", \"%\"],\n",
    "    [\"0\", \"**\", \".\", \"=\"],\n",
    "]\n",
    "\n",
    "last_op = ''\n",
    "\n",
    "def button_click(key):\n",
    "    global  last_op\n",
    "    if key == \"=\":\n",
    "        try:\n",
    "            result = str(eval(display[\"text\"]))\n",
    "        except:\n",
    "            display[\"text\"] = \"ERROR\"\n",
    "        else:\n",
    "            display[\"text\"] = result\n",
    "\n",
    "    elif key == \"C\":\n",
    "        display[\"text\"] = \"0\"\n",
    "    elif display[\"text\"] in (\"ERROR\", \"0\"):\n",
    "        display[\"text\"] = key\n",
    "    elif last_op == \"=\" and key in (str(i) for i in range(0,10)): #(\"0\",\"1\", \"2\", \"3\",\"4\", \"5\", \"6\",\"7\", \"8\", \"9\") :\n",
    "        display[\"text\"] = key\n",
    "        last_op = \"\"\n",
    "    else:\n",
    "        display[\"text\"] += key\n",
    "        \n",
    "    last_op = key\n",
    "\n",
    "\n",
    "for r, row in enumerate(button_texts):\n",
    "    for c, btn in enumerate(row):\n",
    "        Button(\n",
    "            window,\n",
    "            text=btn,\n",
    "            font=(\"Arial\",25),\n",
    "            width=5,\n",
    "            height=2,\n",
    "            command=lambda key=btn: button_click(\n",
    "                key\n",
    "            ),\n",
    "        ).grid(row=r +1, column=c, rowspan=1, columnspan=1)\n",
    "\n",
    "\n",
    "window.mainloop()"
   ]
  },
  {
   "cell_type": "code",
   "execution_count": null,
   "id": "8845a7c0",
   "metadata": {},
   "outputs": [],
   "source": []
  }
 ],
 "metadata": {
  "kernelspec": {
   "display_name": "Python 3 (ipykernel)",
   "language": "python",
   "name": "python3"
  },
  "language_info": {
   "codemirror_mode": {
    "name": "ipython",
    "version": 3
   },
   "file_extension": ".py",
   "mimetype": "text/x-python",
   "name": "python",
   "nbconvert_exporter": "python",
   "pygments_lexer": "ipython3",
   "version": "3.10.4"
  }
 },
 "nbformat": 4,
 "nbformat_minor": 5
}
