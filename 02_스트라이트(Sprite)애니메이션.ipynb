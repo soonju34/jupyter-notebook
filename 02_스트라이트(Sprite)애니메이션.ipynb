{
 "cells": [
  {
   "cell_type": "markdown",
   "metadata": {
    "pycharm": {
     "name": "#%% md\n"
    }
   },
   "source": [
    "# 산타런(Santa Run) 만들기\n",
    "\n",
    "게임의 기본 흐름\n",
    "- 시작 메뉴\n",
    "- 게임 진행\n",
    "- 종료\n",
    "\n",
    "게임 구성\n",
    "- 메인 캐릭터, 배경 지형, 점프\n",
    "- 아이템 생성 및 득점\n",
    "- 장애물 생성, 총알 발사, 파괴 효과\n",
    "- 배경 음악, 효과음"
   ]
  },
  {
   "cell_type": "markdown",
   "metadata": {
    "pycharm": {
     "name": "#%% md\n"
    }
   },
   "source": [
    "# 스프라이트 애니메이션"
   ]
  },
  {
   "cell_type": "markdown",
   "metadata": {
    "pycharm": {
     "name": "#%% md\n"
    }
   },
   "source": [
    "### 에셋(Assets) 다운로드\n",
    "\n",
    "- [산타 다운로드](https://www.gameart2d.com/santa-claus-free-sprites.html), [배경과 타일 다운로드](https://www.gameart2d.com/winter-platformer-game-tileset.html), [선물상자(총알)](https://opengameart.org/content/present-gift-box-reward-seasonal), [캔디(아이템)](https://opengameart.org/content/candy-pack-1)  \n",
    "- [타이틀 배경 음악](https://freesound.org/people/CarlosCarty/sounds/454786/), [게임 배경 음악](https://pixabay.com/music/christmas-jingle-bells-violin-loop-8645/), [얼음 깨지는 소리](https://freesound.org/people/Lynx_5969/sounds/422669/), [배드 엔딩 효과음](https://freesound.org/people/yottasounds/sounds/174464/), [해피 엔딩 효과음](https://freesound.org/people/LittleRobotSoundFactory/sounds/270402/)\n",
    "- [무료스프라이트](https://www.gameart2d.com/freebies.html)\n",
    "\n",
    "파일을 읽어들일 때는 경로를 주의하세요\n",
    "\n"
   ]
  },
  {
   "cell_type": "markdown",
   "metadata": {
    "pycharm": {
     "name": "#%% md\n"
    }
   },
   "source": [
    "### 스트라이트([Sprite](https://en.wikipedia.org/wiki/Sprite_(computer_graphics))) 그리기\n",
    "\n"
   ]
  },
  {
   "cell_type": "markdown",
   "metadata": {
    "pycharm": {
     "name": "#%% md\n"
    }
   },
   "source": [
    "##### 산타 그리기"
   ]
  },
  {
   "cell_type": "code",
   "execution_count": 1,
   "metadata": {
    "pycharm": {
     "name": "#%%\n"
    }
   },
   "outputs": [
    {
     "name": "stdout",
     "output_type": "stream",
     "text": [
      "pygame 2.1.2 (SDL 2.0.18, Python 3.10.4)\n",
      "Hello from the pygame community. https://www.pygame.org/contribute.html\n"
     ]
    }
   ],
   "source": [
    "import pygame\n",
    "\n",
    "pygame.init()\n",
    "\n",
    "screen = pygame.display.set_mode((1024, 768))  # 윈도우 크기\n",
    "clock = pygame.time.Clock()\n",
    "\n",
    "# 이미지 읽어들여서 surface로 변환\n",
    "santa = pygame.image.load(\"pygame_res/santasprites/png/Run (1).png\").convert_alpha()\n",
    "w, h = santa.get_size()\n",
    "santa = pygame.transform.scale(santa, (w // 4, h // 4)) # 크기 조절\n",
    "#print(santa.get_size()) # (233, 160)\n",
    "santa_rect = santa.get_rect().move(240, 440) # 산타의 시작 위치\n",
    "\n",
    "running = True\n",
    "\n",
    "while running:\n",
    "\n",
    "    for event in pygame.event.get():\n",
    "        if event.type == pygame.QUIT:\n",
    "            running = False\n",
    "\n",
    "    \"\"\"화면에 그리기\"\"\"\n",
    "\n",
    "    # 배경 색\n",
    "    screen.fill((255, 255, 255))\n",
    "\n",
    "    # 스프라이트 그리기\n",
    "    screen.blit(santa, santa_rect) \n",
    "    #screen.blit(santa, (240, 440)) # 위치를 직접 지정해줄 수도 있어요\n",
    "\n",
    "    # 테두리 사각형 그리기 (디버깅용)\n",
    "    pygame.draw.rect(\n",
    "        screen, color=(0, 0, 255), rect=santa_rect, width=2\n",
    "    )\n",
    "\n",
    "    pygame.display.flip()\n",
    "\n",
    "    clock.tick(30)\n",
    "\n",
    "pygame.quit()"
   ]
  },
  {
   "cell_type": "markdown",
   "metadata": {
    "pycharm": {
     "name": "#%% md\n"
    }
   },
   "source": [
    "##### [실습] 스프라이트 애니메이션\n",
    "여러 스프라이트를 번갈아 가면서 사용"
   ]
  },
  {
   "cell_type": "code",
   "execution_count": 4,
   "metadata": {
    "pycharm": {
     "name": "#%%\n"
    }
   },
   "outputs": [],
   "source": [
    "# 풀이\n",
    "import pygame\n",
    "\n",
    "pygame.init()\n",
    "\n",
    "screen = pygame.display.set_mode((1024, 768))  # 윈도우 크기\n",
    "clock = pygame.time.Clock()\n",
    "\n",
    "santa_sprites = []\n",
    "\n",
    "for i in range(1, 12):\n",
    "    img = pygame.image.load(f\"pygame_res/santasprites/png/run ({i}).png\")\n",
    "    img = img.convert_alpha()\n",
    "    w, h = img.get_size()\n",
    "    img = pygame.transform.scale(img, (w // 4, h // 4))\n",
    "    santa_sprites.append(img)\n",
    "\n",
    "santa_sprites_id = 0\n",
    "\n",
    "running = True\n",
    "\n",
    "while running:\n",
    "\n",
    "    for event in pygame.event.get():\n",
    "        if event.type == pygame.QUIT:\n",
    "            running = False\n",
    "\n",
    "    \"\"\"업데이트\"\"\"\n",
    "    santa_sprites_id += 0.3\n",
    "    santa_sprites_id %= len(santa_sprites)\n",
    "\n",
    "    \"\"\"화면에 그리기\"\"\"\n",
    "\n",
    "    screen.fill((255, 255, 255))\n",
    "\n",
    "    screen.blit(santa_sprites[int(santa_sprites_id)], (240,440))\n",
    "    pygame.display.flip()\n",
    "\n",
    "    clock.tick(30)\n",
    "\n",
    "pygame.quit()"
   ]
  },
  {
   "cell_type": "markdown",
   "metadata": {
    "pycharm": {
     "name": "#%% md\n"
    }
   },
   "source": [
    "##### [실습] 키보드로 산타 움직이기"
   ]
  },
  {
   "cell_type": "code",
   "execution_count": 8,
   "metadata": {
    "pycharm": {
     "name": "#%%\n"
    }
   },
   "outputs": [],
   "source": [
    "# 풀이\n",
    "\n",
    "import pygame\n",
    "from pygame.locals import *\n",
    "\n",
    "pygame.init()\n",
    "\n",
    "screen = pygame.display.set_mode((1024, 768))  # 윈도우 크기\n",
    "clock = pygame.time.Clock()\n",
    "\n",
    "# 이미지 읽어들여서 surface로 변환\n",
    "santa = pygame.image.load(\"pygame_res/santasprites/png/Run (1).png\").convert_alpha()\n",
    "w, h = santa.get_size()\n",
    "santa = pygame.transform.scale(santa, (w // 4, h // 4)) # 크기 조절\n",
    "santa_rect = santa.get_rect().move(240, 440)\n",
    "#print(santa.get_size()) # (233, 160)\n",
    "santa_speed = 5\n",
    "running = True\n",
    "\n",
    "while running:\n",
    "\n",
    "    for event in pygame.event.get():\n",
    "        if event.type == pygame.QUIT:\n",
    "            running = False\n",
    "\n",
    "    \"\"\"업데이트\"\"\"\n",
    "    keys = pygame.key.get_pressed()\n",
    "    if keys[K_LEFT]:\n",
    "        santa_rect = santa_rect.move(-santa_speed, 0)\n",
    "    if keys[K_RIGHT]:\n",
    "        santa_rect = santa_rect.move(santa_speed, 0)\n",
    "    if keys[K_DOWN]:\n",
    "        santa_rect = santa_rect.move(0, santa_speed)\n",
    "    if keys[K_UP]:\n",
    "        santa_rect = santa_rect.move(0, -santa_speed)\n",
    "\n",
    "\n",
    "    \"\"\"화면에 그리기\"\"\"\n",
    "\n",
    "    # 배경 색\n",
    "    screen.fill((255, 255, 255))\n",
    "\n",
    "    # 스프라이트 그리기\n",
    "    screen.blit(santa, santa_rect)\n",
    "\n",
    "    # 테두리 사각형 그리기\n",
    "    pygame.draw.rect(\n",
    "        screen, color=(0, 0, 255), rect=santa_rect, width=2\n",
    "    )\n",
    "\n",
    "    pygame.display.flip()\n",
    "\n",
    "    clock.tick(30)\n",
    "\n",
    "pygame.quit()"
   ]
  },
  {
   "cell_type": "markdown",
   "metadata": {
    "pycharm": {
     "name": "#%% md\n"
    }
   },
   "source": [
    "##### 배경 그리기\n",
    "\n",
    "커다란 배경 이미지 그려보기"
   ]
  },
  {
   "cell_type": "code",
   "execution_count": 9,
   "metadata": {
    "pycharm": {
     "name": "#%%\n"
    }
   },
   "outputs": [],
   "source": [
    "import pygame\n",
    "\n",
    "pygame.init()\n",
    "\n",
    "screen = pygame.display.set_mode((1024, 768))  # 윈도우 크기\n",
    "clock = pygame.time.Clock()\n",
    "\n",
    "# 배경 이미지\n",
    "background = pygame.image.load(\"pygame_res/wintertileset/png/BG/BG.png\").convert()\n",
    "#print(background.get_size()) # (1800, 893) 스크린보다 약간 크지만 수정 없이 사용\n",
    "\n",
    "running = True\n",
    "\n",
    "while running:\n",
    "\n",
    "    for event in pygame.event.get():\n",
    "        if event.type == pygame.QUIT:\n",
    "            running = False\n",
    "\n",
    "    \"\"\"업데이트\"\"\"\n",
    "\n",
    "    \"\"\"화면에 그리기\"\"\"\n",
    "\n",
    "    # 배경 색\n",
    "    screen.fill((255, 255, 255))\n",
    "\n",
    "    # 스프라이트 그리기\n",
    "    screen.blit(background, (0, 0)) \n",
    "\n",
    "    pygame.display.flip()\n",
    "\n",
    "    clock.tick(30)\n",
    "\n",
    "pygame.quit()"
   ]
  },
  {
   "cell_type": "markdown",
   "metadata": {
    "pycharm": {
     "name": "#%% md\n"
    }
   },
   "source": [
    "##### [실습] 무한 스크롤 효과\n",
    "\n",
    "오른쪽 끝과 왼쪽 끝이 자연스럽게 연결되는 이미지를 사용해서 무한히 스크롤 되는 효과 만들기"
   ]
  },
  {
   "cell_type": "markdown",
   "metadata": {
    "pycharm": {
     "name": "#%% md\n"
    }
   },
   "source": []
  },
  {
   "cell_type": "code",
   "execution_count": 10,
   "metadata": {
    "pycharm": {
     "name": "#%%\n"
    }
   },
   "outputs": [],
   "source": [
    "# 오른쪽이 끊기는 경우\n",
    "\n",
    "import pygame\n",
    "\n",
    "pygame.init()\n",
    "\n",
    "screen = pygame.display.set_mode((1024, 768))  # 윈도우 크기\n",
    "clock = pygame.time.Clock()\n",
    "\n",
    "# 배경 이미지\n",
    "background = pygame.image.load(\"pygame_res/wintertileset/png/BG/BG.png\").convert()\n",
    "\n",
    "bgx = 0 # background left x\n",
    "\n",
    "running = True\n",
    "\n",
    "while running:\n",
    "\n",
    "    for event in pygame.event.get():\n",
    "        if event.type == pygame.QUIT:\n",
    "            running = False\n",
    "\n",
    "    \"\"\"업데이트\"\"\"\n",
    "    bgx -= 10\n",
    "\n",
    "    \"\"\"화면에 그리기\"\"\"\n",
    "\n",
    "    # 배경 색\n",
    "    screen.fill((255, 255, 255))\n",
    "\n",
    "    # 스프라이트 그리기\n",
    "    screen.blit(background, dest = (bgx, 0))\n",
    "\n",
    "\n",
    "    pygame.display.flip()\n",
    "\n",
    "    clock.tick(30)\n",
    "\n",
    "pygame.quit()"
   ]
  },
  {
   "cell_type": "markdown",
   "metadata": {
    "pycharm": {
     "name": "#%% md\n"
    }
   },
   "source": [
    "오른쪽에 이미지를 하나 더 그려서 이어붙이기"
   ]
  },
  {
   "cell_type": "code",
   "execution_count": 11,
   "metadata": {
    "pycharm": {
     "name": "#%%\n"
    }
   },
   "outputs": [],
   "source": [
    "# 풀이\n",
    "import pygame\n",
    "\n",
    "pygame.init()\n",
    "\n",
    "screen = pygame.display.set_mode((1024, 768))  # 윈도우 크기\n",
    "clock = pygame.time.Clock()\n",
    "\n",
    "# 배경 이미지\n",
    "background = pygame.image.load(\"pygame_res/wintertileset/png/BG/BG.png\").convert()\n",
    "\n",
    "bgx = 0 # background x\n",
    "\n",
    "running = True\n",
    "\n",
    "while running:\n",
    "\n",
    "    for event in pygame.event.get():\n",
    "        if event.type == pygame.QUIT:\n",
    "            running = False\n",
    "\n",
    "    \"\"\"업데이트\"\"\"\n",
    "    bgx += 10\n",
    "    bgx %= background.get_width()\n",
    "\n",
    "    \"\"\"화면에 그리기\"\"\"\n",
    "\n",
    "    # 배경 색\n",
    "    screen.fill((255, 255, 255))\n",
    "\n",
    "    # 스프라이트 그리기\n",
    "    screen.blit(background, dest = (-bgx, 0))\n",
    "    screen.blit(background, dest = (-bgx + background.get_width(), 0))\n",
    "\n",
    "    pygame.display.flip()\n",
    "\n",
    "    clock.tick(30)\n",
    "\n",
    "pygame.quit()"
   ]
  },
  {
   "cell_type": "markdown",
   "metadata": {
    "pycharm": {
     "name": "#%% md\n"
    }
   },
   "source": [
    "##### [실습] 바닥 타일(Tile) 그리기\n",
    "\n"
   ]
  },
  {
   "cell_type": "code",
   "execution_count": 12,
   "metadata": {
    "pycharm": {
     "name": "#%%\n"
    }
   },
   "outputs": [],
   "source": [
    "# 실습용 코드\n",
    "import pygame\n",
    "\n",
    "pygame.init()\n",
    "\n",
    "screen = pygame.display.set_mode((1024, 500))  # 윈도우 크기\n",
    "clock = pygame.time.Clock()\n",
    "\n",
    "tile2 = pygame.image.load(\"pygame_res/wintertileset/png/Tiles/2.png\").convert_alpha()\n",
    "tile2 = pygame.transform.scale(tile2, (64, 64)) # 적당한 크기로 조정\n",
    "tile5 = pygame.image.load(\"pygame_res/wintertileset/png/Tiles/5.png\").convert_alpha()\n",
    "tile5 = pygame.transform.scale(tile5, (64, 64))\n",
    "\n",
    "background = pygame.image.load(\"pygame_res/wintertileset/png/BG/BG.png\").convert()\n",
    "\n",
    "running = True\n",
    "\n",
    "while running:\n",
    "\n",
    "    for event in pygame.event.get():\n",
    "        if event.type == pygame.QUIT:\n",
    "            running = False\n",
    "\n",
    "    \"\"\"화면에 그리기\"\"\"\n",
    "\n",
    "    screen.fill((255, 255, 255))\n",
    "\n",
    "    # 바닥 타일 그리기\n",
    "\n",
    "        \n",
    "    # 타일의 테두리 그리기\n",
    "    for i in range(0, 16):\n",
    "        for j in range(0, 12):\n",
    "            pygame.draw.rect(screen, (0, 0, 255), tile2.get_rect().move(i * 64, 64 * j), width=1)\n",
    "    \n",
    "    # Flip the display\n",
    "    pygame.display.flip()\n",
    "\n",
    "    clock.tick(30)\n",
    "\n",
    "pygame.quit()"
   ]
  },
  {
   "cell_type": "code",
   "execution_count": null,
   "metadata": {
    "pycharm": {
     "name": "#%%\n"
    }
   },
   "outputs": [],
   "source": [
    "# 풀이\n",
    "import pygame\n",
    "\n",
    "pygame.init()\n",
    "\n",
    "screen = pygame.display.set_mode((1024, 768))  # 윈도우 크기\n",
    "clock = pygame.time.Clock()\n",
    "\n",
    "tile2 = pygame.image.load(\"wintertileset/png/Tiles/2.png\").convert_alpha()\n",
    "tile2 = pygame.transform.scale(tile2, (64, 64)) # 적당한 크기로 조정\n",
    "tile5 = pygame.image.load(\"wintertileset/png/Tiles/5.png\").convert_alpha()\n",
    "tile5 = pygame.transform.scale(tile5, (64, 64))\n",
    "\n",
    "background = pygame.image.load(\"wintertileset/png/BG/BG.png\").convert()\n",
    "\n",
    "running = True\n",
    "\n",
    "while running:\n",
    "\n",
    "    for event in pygame.event.get():\n",
    "        if event.type == pygame.QUIT:\n",
    "            running = False\n",
    "\n",
    "    \"\"\"화면에 그리기\"\"\"\n",
    "\n",
    "    screen.fill((255, 255, 255))\n",
    "\n",
    "    # 바닥 타일 그리기\n",
    "    for i in range(0,16):\n",
    "        screen.blit(tile2, [i * 64, 64 * 9])\n",
    "        screen.blit(tile5, [i * 64, 64 * 10])\n",
    "        screen.blit(tile5, [i * 64, 64 * 11])\n",
    "\n",
    "\n",
    "    # 타일의 테두리 그리기\n",
    "    for i in range(0, 16):\n",
    "        for j in range(0, 12):\n",
    "            pygame.draw.rect(screen, (0, 0, 255), tile2.get_rect().move(i * 64, 64 * j), width=1)\n",
    "\n",
    "    # Flip the display\n",
    "    pygame.display.flip()\n",
    "\n",
    "    clock.tick(30)\n",
    "\n",
    "pygame.quit()"
   ]
  },
  {
   "cell_type": "markdown",
   "metadata": {
    "pycharm": {
     "name": "#%% md\n"
    }
   },
   "source": [
    "##### [실습] 산타가 달려가는 효과\n",
    "\n",
    "배경 속도가 타일 속도보다 느리게"
   ]
  },
  {
   "cell_type": "code",
   "execution_count": 8,
   "metadata": {
    "pycharm": {
     "name": "#%%\n"
    }
   },
   "outputs": [],
   "source": [
    "import pygame\n",
    "\n",
    "pygame.init()\n",
    "\n",
    "screen = pygame.display.set_mode((1024, 768))  # 윈도우 크기\n",
    "clock = pygame.time.Clock()\n",
    "\n",
    "\n",
    "running = True\n",
    "\n",
    "while running:\n",
    "\n",
    "    for event in pygame.event.get():\n",
    "        if event.type == pygame.QUIT:\n",
    "            running = False\n",
    "\n",
    "    \"\"\"업데이트\"\"\"\n",
    "\n",
    "\n",
    "    \"\"\"그리기 시작\"\"\"\n",
    "\n",
    "    screen.fill((255, 255, 255))\n",
    "\n",
    "    \n",
    "\n",
    "    pygame.display.flip()\n",
    "\n",
    "    clock.tick(30)\n",
    "\n",
    "pygame.quit()"
   ]
  },
  {
   "cell_type": "code",
   "execution_count": 15,
   "metadata": {
    "pycharm": {
     "name": "#%%\n"
    }
   },
   "outputs": [],
   "source": [
    "#풀이\n",
    "\n",
    "import pygame\n",
    "\n",
    "pygame.init()\n",
    "\n",
    "screen = pygame.display.set_mode((1024, 768))  # 윈도우 크기\n",
    "clock = pygame.time.Clock()\n",
    "\n",
    "# 산타 스프라이트 불러오기\n",
    "santa_sprites = []\n",
    "\n",
    "for i in range(1, 12):\n",
    "    img = pygame.image.load(f\"pygame_res/santasprites/png/run ({i}).png\")\n",
    "    img = img.convert_alpha()\n",
    "    w, h = img.get_size()\n",
    "    img = pygame.transform.scale(img, (w // 4, h // 4))\n",
    "    santa_sprites.append(img)\n",
    "\n",
    "santa_sprites_id = 0\n",
    "\n",
    "# 배경 타일 자원 읽기 불러오기\n",
    "tile2 = pygame.image.load(\"pygame_res/wintertileset/png/Tiles/2.png\").convert_alpha()\n",
    "tile2 = pygame.transform.scale(tile2, (64, 64)) # 적당한 크기로 조정\n",
    "tile5 = pygame.image.load(\"pygame_res/wintertileset/png/Tiles/5.png\").convert_alpha()\n",
    "tile5 = pygame.transform.scale(tile5, (64, 64))\n",
    "\n",
    "background = pygame.image.load(\"pygame_res/wintertileset/png/BG/BG.png\").convert()\n",
    "\n",
    "bgx = 0 # background x\n",
    "gx = 0 # groung tile x\n",
    "\n",
    "running = True\n",
    "\n",
    "while running:\n",
    "\n",
    "    for event in pygame.event.get():\n",
    "        if event.type == pygame.QUIT:\n",
    "            running = False\n",
    "\n",
    "\n",
    "    bgx += 10\n",
    "    bgx %= background.get_width()\n",
    "\n",
    "    gx += 5.0\n",
    "    gx %= tile2.get_width()\n",
    "\n",
    "    # 산타 그리기\n",
    "    santa_sprites_id += 0.9\n",
    "    santa_sprites_id %= len(santa_sprites)\n",
    "\n",
    "    # 배경 색\n",
    "    screen.fill((255, 255, 255))\n",
    "\n",
    "    # 스프라이트 그리기\n",
    "    screen.blit(background, dest = (-bgx, 0))\n",
    "    screen.blit(background, dest = (-bgx + background.get_width(), 0))\n",
    "\n",
    "    for i in range(0,17):\n",
    "        screen.blit(tile2, [-gx + i * 64, 64 * 9])\n",
    "        screen.blit(tile5, [-gx + i * 64, 64 * 10])\n",
    "        screen.blit(tile5, [-gx + i * 64, 64 * 11])\n",
    "\n",
    "\n",
    "\n",
    "    screen.blit(santa_sprites[int(santa_sprites_id)], (240,440))\n",
    "\n",
    "\n",
    "    pygame.display.flip()\n",
    "\n",
    "    clock.tick(30)\n",
    "\n",
    "pygame.quit()"
   ]
  },
  {
   "cell_type": "code",
   "execution_count": 21,
   "metadata": {
    "pycharm": {
     "name": "#%%\n"
    }
   },
   "outputs": [],
   "source": []
  },
  {
   "cell_type": "code",
   "execution_count": null,
   "metadata": {
    "pycharm": {
     "name": "#%%\n"
    }
   },
   "outputs": [],
   "source": []
  }
 ],
 "metadata": {
  "interpreter": {
   "hash": "8018e705143a54fe8977c076a25f32bbbfeba551799f40fa3d5ac4e2da245feb"
  },
  "kernelspec": {
   "display_name": "Python 3 (ipykernel)",
   "language": "python",
   "name": "python3"
  },
  "language_info": {
   "codemirror_mode": {
    "name": "ipython",
    "version": 3
   },
   "file_extension": ".py",
   "mimetype": "text/x-python",
   "name": "python",
   "nbconvert_exporter": "python",
   "pygments_lexer": "ipython3",
   "version": "3.10.4"
  }
 },
 "nbformat": 4,
 "nbformat_minor": 2
}
