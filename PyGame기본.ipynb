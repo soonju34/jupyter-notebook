{
 "cells": [
  {
   "cell_type": "markdown",
   "metadata": {
    "pycharm": {
     "name": "#%% md\n"
    }
   },
   "source": [
    "# 게임 프로그래밍\n",
    "\n",
    "게임 프로그래밍의 기본 요소들\n",
    "- 시작, 게임, 종료\n",
    "- 그래픽, 사운드, 사용자 입력(키보드, 마우스)\n",
    "- 물체 이동/회전, 충돌 감지, 충돌 반응\n",
    "- 게임 진행 (아이템 생성, 점수, 종료 조건)\n",
    "- 텍스트 출력"
   ]
  },
  {
   "cell_type": "markdown",
   "metadata": {
    "pycharm": {
     "name": "#%% md\n"
    }
   },
   "source": [
    "### [PyGame](https://www.pygame.org/news)의 기본적인 사용 방법\n",
    "\n",
    "```\n",
    "pip install pygame\n",
    "```"
   ]
  },
  {
   "cell_type": "code",
   "execution_count": 1,
   "metadata": {},
   "outputs": [
    {
     "name": "stdout",
     "output_type": "stream",
     "text": [
      "Collecting pygame\n",
      "  Downloading pygame-2.1.2-cp310-cp310-win_amd64.whl (8.4 MB)\n",
      "Installing collected packages: pygame\n",
      "Successfully installed pygame-2.1.2\n"
     ]
    }
   ],
   "source": [
    "!pip install pygame"
   ]
  },
  {
   "cell_type": "markdown",
   "metadata": {
    "pycharm": {
     "name": "#%% md\n"
    }
   },
   "source": [
    "창 띄우기, 기본 도형 그리기, [Screen Coordinates](https://slideplayer.com/slide/13820419/), FPS(Frames Per Second)"
   ]
  },
  {
   "cell_type": "code",
   "execution_count": 1,
   "metadata": {
    "pycharm": {
     "name": "#%%\n"
    },
    "scrolled": true
   },
   "outputs": [
    {
     "name": "stdout",
     "output_type": "stream",
     "text": [
      "pygame 2.1.2 (SDL 2.0.18, Python 3.10.4)\n",
      "Hello from the pygame community. https://www.pygame.org/contribute.html\n"
     ]
    }
   ],
   "source": [
    "import pygame\n",
    "\n",
    "pygame.init()\n",
    "\n",
    "pygame.display.set_caption('My Game')\n",
    "screen = pygame.display.set_mode((1024, 768)) # 윈도우 크기\n",
    "\n",
    "clock = pygame.time.Clock() # FPS 조절에 사용\n",
    "\n",
    "running = True\n",
    "while running:\n",
    "\n",
    "    for event in pygame.event.get():\n",
    "        if event.type == pygame.QUIT: # 창을 닫으면 종료\n",
    "            running = False\n",
    "\n",
    "    screen.fill((255, 255, 255)) # 배경 색\n",
    "    \n",
    "    pygame.draw.circle(screen, (0, 0, 255), (250, 250), 75) # 원 그리기\n",
    "\n",
    "    pygame.draw.rect(screen, (255, 0, 0), pygame.Rect(600, 300, 300, 180)) # 사각형 그리기\n",
    "\n",
    "    # 폴리곤으로 삼각형 그리기\n",
    "    # [실습] 직각삼각형으로 바꿔보세요\n",
    "    pygame.draw.polygon(screen, color=(255,255,0), points=[(200,600), (600,600), (300,400)])\n",
    "\n",
    "    pygame.display.flip() # 더블 버퍼링\n",
    "\n",
    "    clock.tick(30)\n",
    "\n",
    "pygame.quit()"
   ]
  },
  {
   "cell_type": "markdown",
   "metadata": {},
   "source": [
    "#### [실습]직각삼각형(광기(1))"
   ]
  },
  {
   "cell_type": "code",
   "execution_count": 3,
   "metadata": {},
   "outputs": [
    {
     "name": "stdout",
     "output_type": "stream",
     "text": [
      "직각삼각형아닙니다\n"
     ]
    }
   ],
   "source": [
    "import pygame\n",
    "import math\n",
    "import random\n",
    "pygame.init()\n",
    "\n",
    "pygame.display.set_caption('My Game')\n",
    "screen = pygame.display.set_mode((1024, 768)) # 윈도우 크기\n",
    "\n",
    "clock = pygame.time.Clock() # FPS 조절에 사용\n",
    "running = True\n",
    "while running:\n",
    "    theta = random.randint(1,360)\n",
    "    if theta != 180:\n",
    "        x = 400+200*math.cos(math.radians(theta))\n",
    "        y = 600+200*math.sin(math.radians(theta))\n",
    "    else:\n",
    "        print(\"직각삼각형아닙니다\")\n",
    "        \n",
    "    for event in pygame.event.get():\n",
    "        if event.type == pygame.QUIT: # 창을 닫으면 종료\n",
    "            running = False\n",
    "\n",
    "    screen.fill((255, 255, 255)) # 배경 색\n",
    "    pygame.draw.polygon(screen, color=(255,255,0), points=[(200,600), (600,600), (x,y)])\n",
    "    pygame.display.flip()\n",
    "    \n",
    "    clock.tick(30)\n",
    "pygame.quit()"
   ]
  },
  {
   "cell_type": "markdown",
   "metadata": {
    "pycharm": {
     "name": "#%% md\n"
    }
   },
   "source": [
    "2D 그래픽스 - 이동, Rect()"
   ]
  },
  {
   "cell_type": "code",
   "execution_count": 8,
   "metadata": {
    "pycharm": {
     "name": "#%%\n"
    }
   },
   "outputs": [],
   "source": [
    "import pygame\n",
    "from pygame.locals import *\n",
    "pygame.init()\n",
    "\n",
    "screen = pygame.display.set_mode((1024, 768)) # 윈도우 크기\n",
    "\n",
    "rect = pygame.Rect(0, 0, 300, 200)\n",
    "\n",
    "running = True\n",
    "while running:\n",
    "\n",
    "    for event in pygame.event.get():\n",
    "        if event.type == pygame.QUIT:\n",
    "            running = False\n",
    "\n",
    "    # Update\n",
    "\n",
    "    # 상자 위치 바꾸기\n",
    "    #rect.centerx = 1024//2\n",
    "    #rect.center = (1024//2, 768//2)\n",
    "    #rect.topleft = (1024//2, 768//2)\n",
    "    #rect.bottomright = (1024//2, 768//2)    \n",
    "    #rect = rect.move(1, 1)\n",
    "    #rect.move(1, 1)\n",
    "    #rect.move_ip(1, 1) # in-place\n",
    "\n",
    "    # Rendering\n",
    "    screen.fill((255, 255, 255)) # 배경 색\n",
    "    pygame.draw.rect(screen, (255, 0, 0), rect) \n",
    "    \n",
    "    pygame.display.flip()\n",
    "\n",
    "pygame.quit()"
   ]
  },
  {
   "cell_type": "markdown",
   "metadata": {
    "pycharm": {
     "name": "#%% md\n"
    }
   },
   "source": [
    "화면에 글씨 출력"
   ]
  },
  {
   "cell_type": "code",
   "execution_count": 12,
   "metadata": {
    "pycharm": {
     "name": "#%%\n"
    }
   },
   "outputs": [],
   "source": [
    "import pygame\n",
    "from pygame.locals import *\n",
    "pygame.init()\n",
    "\n",
    "screen = pygame.display.set_mode((1024, 768)) # 윈도우 크기\n",
    "font = pygame.font.SysFont(\"system\", 100)\n",
    "\n",
    "running = True\n",
    "while running:\n",
    "\n",
    "    for event in pygame.event.get():\n",
    "        if event.type == pygame.QUIT:\n",
    "            running = False\n",
    "\n",
    "    screen.fill((255, 255, 255)) # 배경 색\n",
    "\n",
    "    # [실습] 텍스트가 그려지는 위치를 바꿔보세요\n",
    "    text = font.render(\"Hi\", True, (128, 0, 0))  #색깔\n",
    "    screen.blit(text, (50, 50))  # 좌표\n",
    "\n",
    "    # 중앙에 배치\n",
    "    text = font.render(\"Hello\", True, (0, 0, 0))\n",
    "    screen_width, screen_height = screen.get_size()   # 중앙 배치 할때 꼭잇어야함 안그러면 아래것처럼 나옴 ㅋㅋㅋ\n",
    "    text_rect = text.get_rect(center=(screen_width/2, screen_height/2))\n",
    "    screen.blit(text, text_rect) # Block transfer\n",
    "\n",
    "    pygame.display.flip()\n",
    "\n",
    "pygame.quit()"
   ]
  },
  {
   "cell_type": "markdown",
   "metadata": {},
   "source": [
    "#### [실습] 텍스트 위치 바꾸기(광기(2))"
   ]
  },
  {
   "cell_type": "code",
   "execution_count": 3,
   "metadata": {},
   "outputs": [],
   "source": [
    "import pygame\n",
    "from pygame.locals import *\n",
    "import random\n",
    "pygame.init()\n",
    "\n",
    "screen = pygame.display.set_mode((1024, 768)) # 윈도우 크기\n",
    "font = pygame.font.SysFont(\"system\", 100)\n",
    "\n",
    "running = True\n",
    "while running:\n",
    "\n",
    "    for event in pygame.event.get():\n",
    "        if event.type == pygame.QUIT:\n",
    "            running = False\n",
    "\n",
    "    screen.fill((255, 255, 255)) # 배경 색\n",
    "    x = random.randint(0,1024)\n",
    "    y = random.randint(0,768)\n",
    "    text = font.render(\"Hi\", True, (128, 0, 0))\n",
    "    screen.blit(text, (x,y))  # 좌표\n",
    "\n",
    "    # 중앙에 배치\n",
    "    text = font.render(\"Hello\", True, (0, 0, 0))\n",
    "    screen_width = random.randint(0,1024)\n",
    "    screen_height = random.randint(0,768)\n",
    "    text_rect = text.get_rect(center=(screen_width/2, screen_height/2))\n",
    "    screen.blit(text, text_rect) # Block transfer\n",
    "\n",
    "    pygame.display.flip()\n",
    "\n",
    "pygame.quit()"
   ]
  },
  {
   "cell_type": "markdown",
   "metadata": {
    "pycharm": {
     "name": "#%% md\n"
    }
   },
   "source": [
    "키보드"
   ]
  },
  {
   "cell_type": "code",
   "execution_count": null,
   "metadata": {
    "pycharm": {
     "name": "#%%\n"
    }
   },
   "outputs": [],
   "source": [
    "import pygame\n",
    "from pygame.locals import (\n",
    "    K_SPACE,\n",
    "    KEYDOWN,\n",
    "    KEYUP,\n",
    ")\n",
    "\n",
    "pygame.init()\n",
    "\n",
    "screen = pygame.display.set_mode((1024, 768)) # 윈도우 크기\n",
    "\n",
    "rect = pygame.Rect(0, 0, 150, 100)\n",
    "rect.center = 1024//2, 768//2\n",
    "\n",
    "running = True\n",
    "while running:\n",
    "\n",
    "    # [실습] 스페이스 말고 왼쪽 콘트롤 키로 바꿔보세요.\n",
    "    for event in pygame.event.get():\n",
    "        if event.type == pygame.QUIT:\n",
    "            running = False\n",
    "        elif event.type == KEYDOWN: # 누르는 이벤트\n",
    "            if event.key == K_SPACE:\n",
    "                print(\"Left key pressed\")\n",
    "        elif event.type == KEYUP: # 손을 떼는 이벤트\n",
    "            if event.key == K_SPACE:\n",
    "                print(\"Left key up\")\n",
    "\n",
    "    screen.fill((255, 255, 255)) # 배경 색\n",
    "\n",
    "    pygame.draw.rect(screen, (0, 0, 255), rect)\n",
    "    # Flip the display\n",
    "    pygame.display.flip()\n",
    "\n",
    "pygame.quit()"
   ]
  },
  {
   "cell_type": "markdown",
   "metadata": {},
   "source": [
    "#### [실습](http://www.pygame.org/docs/ref/key.html)스페이스말고 왼쪽 콘트를 키로 바꾸기"
   ]
  },
  {
   "cell_type": "code",
   "execution_count": 8,
   "metadata": {},
   "outputs": [],
   "source": [
    "import pygame\n",
    "from pygame.locals import (\n",
    "    K_SPACE,\n",
    "    KEYDOWN,\n",
    "    KEYUP,\n",
    ")\n",
    "\n",
    "pygame.init()\n",
    "\n",
    "screen = pygame.display.set_mode((1024, 768)) # 윈도우 크기\n",
    "\n",
    "rect = pygame.Rect(0, 0, 150, 100)\n",
    "rect.center = 1024//2, 768//2\n",
    "\n",
    "running = True\n",
    "while running:\n",
    "\n",
    "    # [실습] 스페이스 말고 왼쪽 콘트롤 키로 바꿔보세요.\n",
    "    for event in pygame.event.get():\n",
    "        if event.type == pygame.QUIT:\n",
    "            running = False\n",
    "        elif event.type == KEYDOWN: # 누르는 이벤트\n",
    "            if event.key == KMOD_LCTRL:\n",
    "                print(\"Left key pressed\")\n",
    "        elif event.type == KEYUP: # 손을 떼는 이벤트\n",
    "            if event.key == KMOD_LCTRL:\n",
    "                print(\"Left key up\")\n",
    "\n",
    "    screen.fill((255, 255, 255)) # 배경 색\n",
    "\n",
    "    pygame.draw.rect(screen, (0, 0, 255), rect)\n",
    "    # Flip the display\n",
    "    pygame.display.flip()\n",
    "\n",
    "pygame.quit()"
   ]
  },
  {
   "cell_type": "markdown",
   "metadata": {
    "pycharm": {
     "name": "#%% md\n"
    }
   },
   "source": [
    "키보드로 상자 움직이기"
   ]
  },
  {
   "cell_type": "code",
   "execution_count": 4,
   "metadata": {
    "pycharm": {
     "name": "#%%\n"
    }
   },
   "outputs": [],
   "source": [
    "import pygame\n",
    "from pygame.locals import *\n",
    "\n",
    "pygame.init()\n",
    "\n",
    "screen = pygame.display.set_mode((1024, 768)) # 윈도우 크기\n",
    "\n",
    "rect = pygame.Rect(0, 0, 150, 100)\n",
    "rect.center = 1024//2, 768//2\n",
    "\n",
    "running = True\n",
    "while running:\n",
    "\n",
    "    for event in pygame.event.get():\n",
    "        if event.type == pygame.QUIT:\n",
    "            running = False\n",
    "\n",
    "    # 연속 이동\n",
    "    # [실습] 움직이는 양(offset)과 FPS를 바꿔보세요. FPS에 따라서 체감 속도가 달라집니다.\n",
    "    keys = pygame.key.get_pressed()\n",
    "    if keys[K_LEFT]:\n",
    "        rect = rect.move(-2, 0)\n",
    "    if keys[K_RIGHT]:\n",
    "        rect = rect.move(2, 0)\n",
    "    if keys[K_DOWN]:\n",
    "        rect = rect.move(0, 2)\n",
    "    if keys[K_UP]:\n",
    "        rect = rect.move(0, -2)\n",
    "\n",
    "    screen.fill((255, 255, 255)) # 배경 색\n",
    "\n",
    "    pygame.draw.rect(screen, (0, 0, 255), rect)\n",
    "    # Flip the display\n",
    "    pygame.display.flip()\n",
    "\n",
    "pygame.quit()"
   ]
  },
  {
   "cell_type": "markdown",
   "metadata": {
    "pycharm": {
     "name": "#%% md\n"
    }
   },
   "source": [
    "[실습] 가장 자리 밖으로 못나가게 막기"
   ]
  },
  {
   "cell_type": "code",
   "execution_count": 7,
   "metadata": {
    "pycharm": {
     "name": "#%%\n"
    }
   },
   "outputs": [
    {
     "name": "stdout",
     "output_type": "stream",
     "text": [
      "150\n",
      "100\n"
     ]
    }
   ],
   "source": [
    "import pygame\n",
    "from pygame.locals import *\n",
    "\n",
    "pygame.init()\n",
    "screen = pygame.display.set_mode((1024,768)) # 윈도우 크기\n",
    "\n",
    "rect = pygame.Rect(0, 0, 150, 100)\n",
    "\n",
    "print(rect.right) # 150 not 149\n",
    "print(rect.bottom)\n",
    "# 상자의 x방향 범위는 0에서 149지만 right는 149보다 하나 큰 값인 150입니다.\n",
    "# 상자의 y방향 범위도 0에서 99지만 bottom은 99보다 하나 더 큰 100입니다.\n",
    "\n",
    "rect.center = 1024//2, 768//2\n",
    "\n",
    "running = True\n",
    "while running:\n",
    "\n",
    "    for event in pygame.event.get():\n",
    "        if event.type == pygame.QUIT:\n",
    "            running = False\n",
    "\n",
    "    width, height = screen.get_size()\n",
    "    keys = pygame.key.get_pressed()\n",
    "    if keys[K_LEFT]:\n",
    "        if rect.left >=0:\n",
    "            rect = rect.move(-1, 0)\n",
    "\n",
    "    if keys[K_RIGHT]:\n",
    "        if rect.right <=width:\n",
    "            rect = rect.move(1, 0)\n",
    "\n",
    "    if keys[K_DOWN]:\n",
    "        if rect.bottom <= height:\n",
    "            rect = rect.move(0, 1)\n",
    "\n",
    "    if keys[K_UP]:\n",
    "        if rect.top >= 0:\n",
    "            rect = rect.move(0, -1)\n",
    "        \n",
    "    screen.fill((255, 255, 255)) # 배경 색\n",
    "    pygame.draw.rect(screen, (0, 0, 255), rect)\n",
    "    pygame.display.flip()\n",
    "\n",
    "pygame.quit()"
   ]
  },
  {
   "cell_type": "markdown",
   "metadata": {
    "pycharm": {
     "name": "#%% md\n"
    }
   },
   "source": [
    "마우스"
   ]
  },
  {
   "cell_type": "code",
   "execution_count": null,
   "metadata": {
    "pycharm": {
     "name": "#%%\n"
    }
   },
   "outputs": [],
   "source": [
    "import pygame\n",
    "from pygame.locals import *\n",
    "pygame.init()\n",
    "\n",
    "screen = pygame.display.set_mode((1024, 768)) # 윈도우 크기\n",
    "font = pygame.font.SysFont(\"system\", 48)\n",
    "\n",
    "running = True\n",
    "while running:\n",
    "\n",
    "    for event in pygame.event.get():\n",
    "        if event.type == pygame.QUIT:\n",
    "            running = False\n",
    "\n",
    "    screen.fill((255, 255, 255)) # 배경 색\n",
    "    text = font.render(str(pygame.mouse.get_pos()), True, (0, 0, 0))\n",
    "    screen.blit(text, (700, 10))\n",
    "\n",
    "    pygame.display.flip()\n",
    "\n",
    "pygame.quit()"
   ]
  },
  {
   "cell_type": "markdown",
   "metadata": {
    "pycharm": {
     "name": "#%% md\n"
    }
   },
   "source": [
    "충돌 - 사각형과 점"
   ]
  },
  {
   "cell_type": "code",
   "execution_count": null,
   "metadata": {
    "pycharm": {
     "name": "#%%\n"
    }
   },
   "outputs": [],
   "source": [
    "import pygame\n",
    "from pygame.locals import *\n",
    "pygame.init()\n",
    "\n",
    "screen = pygame.display.set_mode((1024, 768)) # 윈도우 크기\n",
    "font = pygame.font.SysFont(\"system\", 48)\n",
    "\n",
    "running = True\n",
    "lmousedown = False\n",
    "while running:\n",
    "\n",
    "    for event in pygame.event.get():\n",
    "        if event.type == pygame.QUIT:\n",
    "            running = False\n",
    "        \n",
    "    if pygame.mouse.get_pressed()[0]:\n",
    "        lmousedown = True\n",
    "    else:\n",
    "        lmousedown = False \n",
    "\n",
    "    screen.fill((255, 255, 255)) # 배경 색\n",
    "    \n",
    "    rect = pygame.Rect(300, 300, 200, 100)\n",
    "\n",
    "    point = pygame.mouse.get_pos()\n",
    "    collided = rect.collidepoint(point)\n",
    "    \n",
    "    pygame.draw.rect(screen, (255, 0, 0) if collided else (0, 255, 255), rect)\n",
    "\n",
    "    if lmousedown and collided:\n",
    "        pygame.draw.rect(screen, (0, 255, 0), rect, width = 5)\n",
    "\n",
    "    text = font.render(str(pygame.mouse.get_pos()), True, (0, 0, 0))\n",
    "    screen.blit(text, (700, 10))\n",
    "    pygame.display.flip()\n",
    "\n",
    "pygame.quit()"
   ]
  },
  {
   "cell_type": "markdown",
   "metadata": {
    "pycharm": {
     "name": "#%% md\n"
    }
   },
   "source": [
    "충돌 - 사각형과 사각형"
   ]
  },
  {
   "cell_type": "code",
   "execution_count": null,
   "metadata": {
    "pycharm": {
     "name": "#%%\n"
    }
   },
   "outputs": [],
   "source": [
    "import pygame\n",
    "from pygame.locals import *\n",
    "pygame.init()\n",
    "\n",
    "screen = pygame.display.set_mode((1024, 768)) # 윈도우 크기\n",
    "font = pygame.font.SysFont(\"system\", 48)\n",
    "\n",
    "rect_mouse = pygame.Rect(0, 0, 120, 75)\n",
    "\n",
    "running = True\n",
    "while running:\n",
    "\n",
    "    for event in pygame.event.get():\n",
    "        if event.type == pygame.QUIT:\n",
    "            running = False\n",
    "\n",
    "    screen.fill((255, 255, 255)) # 배경 색\n",
    "    \n",
    "    rect = pygame.Rect(300, 300, 200, 100)\n",
    "\n",
    "    rect_mouse.center = pygame.mouse.get_pos()\n",
    "    collided = rect.colliderect(rect_mouse)\n",
    "    pygame.draw.rect(screen, (255, 0, 0) if collided else (0, 255, 255), rect)\n",
    "    pygame.draw.rect(screen, (255, 0, 0) if collided else (0, 255, 255), rect_mouse)\n",
    "\n",
    "    text = font.render(str(pygame.mouse.get_pos()), True, (0, 0, 0))\n",
    "    screen.blit(text, (700, 10))\n",
    "    pygame.display.flip()\n",
    "\n",
    "pygame.quit()"
   ]
  },
  {
   "cell_type": "markdown",
   "metadata": {
    "pycharm": {
     "name": "#%% md\n"
    }
   },
   "source": [
    "### [실습] 드래그앤드랍(Drag and Drop)"
   ]
  },
  {
   "cell_type": "code",
   "execution_count": 9,
   "metadata": {
    "pycharm": {
     "name": "#%%\n"
    }
   },
   "outputs": [],
   "source": [
    "import pygame\n",
    "from pygame.locals import *\n",
    "pygame.init()\n",
    "\n",
    "screen = pygame.display.set_mode((1024, 768)) # 윈도우 크기\n",
    "font = pygame.font.SysFont(\"system\", 48)\n",
    "clock = pygame.time.Clock() # FPS 조절에 사용\n",
    "\n",
    "running = True\n",
    "lmousedown = False\n",
    "mouse_x = None\n",
    "mouse_y = None\n",
    "rect_x = None\n",
    "rect_y = None\n",
    "drag = False\n",
    "\n",
    "rect = pygame.Rect(300, 300, 200, 100)\n",
    "\n",
    "while running:\n",
    "\n",
    "    for event in pygame.event.get():\n",
    "        if event.type == pygame.QUIT:\n",
    "            running = False\n",
    "    \n",
    "    lmousedown = pygame.mouse.get_pressed()[0]   # 왼쪽 버튼\n",
    "    point = pygame.mouse.get_pos()   # 마우스 좌표\n",
    "    collided = rect.collidepoint(point)  # 충돌시 true\n",
    "    \n",
    "    #드래그 시작\n",
    "    if not drag and lmousedown and collided:\n",
    "        drag = True\n",
    "        mouse_x, mouse_y = point\n",
    "        rect_x, rect_y =rect.center\n",
    "        \n",
    "    #드래그 종료\n",
    "    if not lmousedown:\n",
    "        drag = False\n",
    "        mouse_x, mouse_y = None, None\n",
    "        rect_x, rect_y = None, None\n",
    "    # 중요\n",
    "    # 이거안해도 실행은 됨 좀 색다를꺼임\n",
    "    if drag:\n",
    "        rect.centerx = point[0] - mouse_x + rect_x\n",
    "        rect.centery = point[1] - mouse_y + rect_y\n",
    "\n",
    "    pass\n",
    "\n",
    "    screen.fill((255, 255, 255)) # 배경 색      \n",
    "    pygame.draw.rect(screen, (255, 0, 0) if drag else (0, 255, 255), rect)\n",
    "    text = font.render(str(pygame.mouse.get_pos()), True, (0, 0, 0))\n",
    "    screen.blit(text, (700, 10))\n",
    "    pygame.display.flip()\n",
    "\n",
    "    clock.tick(30)\n",
    "\n",
    "pygame.quit()"
   ]
  },
  {
   "cell_type": "code",
   "execution_count": null,
   "metadata": {},
   "outputs": [],
   "source": []
  }
 ],
 "metadata": {
  "interpreter": {
   "hash": "8018e705143a54fe8977c076a25f32bbbfeba551799f40fa3d5ac4e2da245feb"
  },
  "kernelspec": {
   "display_name": "Python 3 (ipykernel)",
   "language": "python",
   "name": "python3"
  },
  "language_info": {
   "codemirror_mode": {
    "name": "ipython",
    "version": 3
   },
   "file_extension": ".py",
   "mimetype": "text/x-python",
   "name": "python",
   "nbconvert_exporter": "python",
   "pygments_lexer": "ipython3",
   "version": "3.10.4"
  }
 },
 "nbformat": 4,
 "nbformat_minor": 2
}
