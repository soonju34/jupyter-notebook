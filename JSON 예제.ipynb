{
 "cells": [
  {
   "cell_type": "markdown",
   "id": "9ec4c3bf",
   "metadata": {},
   "source": [
    "## [JSON](https://docs.python.org/ko/3/library/json.html) 예제\n",
    "\n",
    "### JSON (JavaScript Object Notation)\n",
    "\n",
    "+ JavaScript Object Notation라는 의미의 축약어로 데이터를 저장하거나 전송할 때 많이 사용되는 경량의 DATA 교환 형식\n",
    "+ Javascript에서 객체를 만들 때 사용하는 표현식을 의미한다.\n",
    "+ JSON 표현식은 사람과 기계 모두 이해하기 쉬우며 용량이 작아서, 최근에는 JSON이 XML을 대체해서 데이터 전송 등에 많이 사용한다.\n",
    "+ JSON은 데이터 포맷일 뿐이며 어떠한 통신 방법도, 프로그래밍 문법도 아닌 단순히 데이터를 표시하는 표현 방법일 뿐이다.\n",
    "\n",
    "### JSON 특징\n",
    "\n",
    "+ 서버와 클라이언트 간의 교류에서 일반적으로 많이 사용된다.\n",
    "+ 자바스크립트 객체 표기법과 아주 유사하다.\n",
    "+ 자바스크립트를 이용하여 JSON 형식의 문서를 쉽게 자바스크립트 객체로 변환할 수 있는 이점이 있다.\n",
    "+ JSON 문서 형식은 자바스크립트 객체의 형식을 기반으로 만들어졌다.\n",
    "+ 자바스크립트의 문법과 굉장히 유사하지만 텍스트 형식일 뿐이다.\n",
    "+ 다른 프로그래밍 언어를 이용해서도 쉽게 만들 수 있다.\n",
    "+ 특정 언어에 종속되지 않으며, 대부분의 프로그래밍 언어에서 JSON 포맷의 데이터를 핸들링 할 수 있는 라이브러리를 제공한다.\n",
    "\n",
    "### XML vs JSON\n",
    "\n",
    "데이터를 나타낼 수 있는 방식은 여러가지가 있지만, 대표적인 것이 XML이고, 이후 가장 많이 사용되는 것이 아마도 JSON일 것이다.\n",
    "\n",
    "#### XML\n",
    "+ 데이터 값 양쪽으로 태그가 있다.\n",
    "(HTML을 근본으로 했기에 태그라는 것이 없을 수가 없는데, 그 태그를 줄인다 해도 최소한 표현하려면 양쪽에 몇글자씩이 있어야 한다.)\n",
    "\n",
    "#### JSON\n",
    "+ 태그로 표현하기 보다는 중괄호({}) 같은 형식으로 하고, 값을 ','로 나열하기에 그 표현이 간단하다."
   ]
  },
  {
   "cell_type": "code",
   "execution_count": 1,
   "id": "3c75f87d",
   "metadata": {},
   "outputs": [
    {
     "name": "stdout",
     "output_type": "stream",
     "text": [
      "[\n",
      "  \"the answer\",\n",
      "  42.1,\n",
      "  {\n",
      "    \"a\": 1\n",
      "  }\n",
      "]\n",
      "<class 'list'>\n",
      "<class 'str'> <class 'float'> <class 'dict'>\n",
      "['the answer', 42.1, {'a': 1}]\n"
     ]
    }
   ],
   "source": [
    "import json\n",
    "\n",
    "value = [\"the answer\", 42.1, {\"a\": 1}]\n",
    "\n",
    "# dumps를 이용해서 문자열로 표현, dumps() 함수: Python 객체를 JSON 문자열로 변환\n",
    "print(json.dumps(value, indent=2))\n",
    "\n",
    "with open(\"my_data.json\", \"wt\") as f:\n",
    "    # dump()를 이용해서 파일에 저장\n",
    "    json.dump(value, f, indent=2)\n",
    "\n",
    "with open(\"my_data.json\", \"rt\") as f:\n",
    "    # load()로 읽어오기\n",
    "    value = json.load(f)\n",
    "\n",
    "print(type(value))\n",
    "\n",
    "print(type(value[0]), type(value[1]), type(value[2]))\n",
    "print(value)"
   ]
  },
  {
   "cell_type": "markdown",
   "id": "b3ac153a",
   "metadata": {},
   "source": [
    "[전국통합식품영양성분정보(원재료성식품)표준데이터](https://www.data.go.kr/data/15100065/standard.do)"
   ]
  },
  {
   "cell_type": "code",
   "execution_count": 2,
   "id": "73c1cf60",
   "metadata": {},
   "outputs": [
    {
     "name": "stdout",
     "output_type": "stream",
     "text": [
      "['the answer', 42.1, {'a': 1}]\n"
     ]
    }
   ],
   "source": [
    "#-*- coding: utf-8 -*-\n",
    "import json\n",
    "\n",
    "with open(\"my_data.json\", \"rt\", encoding=\"UTF-8\") as f:\n",
    "    # load()로 읽어오기\n",
    "    value = json.load(f)\n",
    "\n",
    "print(value)"
   ]
  },
  {
   "cell_type": "markdown",
   "id": "5f71bf45",
   "metadata": {},
   "source": [
    "### dump를 이용하여 이쁘게 출력하기"
   ]
  },
  {
   "cell_type": "code",
   "execution_count": 3,
   "id": "7bc02a4f",
   "metadata": {},
   "outputs": [
    {
     "name": "stdout",
     "output_type": "stream",
     "text": [
      "[\n",
      "   \"the answer\",\n",
      "   42.1,\n",
      "   {\n",
      "      \"a\": 1\n",
      "   }\n",
      "]\n"
     ]
    }
   ],
   "source": [
    "import json\n",
    "\n",
    "with open(\"my_data.json\", \"rt\", encoding=\"UTF-8\") as f:\n",
    "    # load()로 읽어오기\n",
    "    value = json.load(f)\n",
    "\n",
    "print(json.dumps(value, ensure_ascii=False, indent=3))"
   ]
  },
  {
   "cell_type": "markdown",
   "id": "1b7906ec",
   "metadata": {},
   "source": [
    "### 실습문제\n",
    "\n",
    "```\n",
    "아래의 실행결과를 참고하여 json 을 읽어서 표시하시오\n",
    "\n",
    "빅데이터 전문가 취업의 문이 활짝~! https://sanhak.changwon.ac.kr/ 2018.12.21.\n",
    "빅데이터전문가 빠른 온라인 취득법 https://www.changwon.ac.kr/lifelong/main.do 2019.01.19.\n",
    "```"
   ]
  },
  {
   "cell_type": "code",
   "execution_count": 43,
   "id": "24b557e0",
   "metadata": {},
   "outputs": [
    {
     "name": "stdout",
     "output_type": "stream",
     "text": [
      "빅데이터 전문가 취업의 문이 활짝~!           https://sanhak.changwon.ac.kr/                     2018.12.21.\n",
      "빅데이터전문가 빠른 온라인 취득법             https://www.changwon.ac.kr/lifelong/main.do        2019.01.19.\n"
     ]
    }
   ],
   "source": [
    "import json\n",
    "\n",
    "text = '''\n",
    "{\n",
    "    \"search\": {\n",
    "        \"title\": \"빅데이터 검색 결과\",\n",
    "        \"url\": \"http://naver.com/?search=빅데이터\",\n",
    "        \"postList\": [\n",
    "            {\n",
    "                \"title\": \"빅데이터 전문가 취업의 문이 활짝~!\",\n",
    "                \"url\": \"https://sanhak.changwon.ac.kr/\",\n",
    "                \"date\": \"2018.12.21.\"\n",
    "            },\n",
    "            {\n",
    "                \"title\": \"빅데이터전문가 빠른 온라인 취득법\",\n",
    "                \"url\": \"https://www.changwon.ac.kr/lifelong/main.do\",\n",
    "                \"date\": \"2019.01.19.\"\n",
    "            }\n",
    "        ]\n",
    "    }\n",
    "}\n",
    "'''\n",
    "\n",
    "d = json.loads(text) #JSON 파서\n",
    "#print(json.dumps(d, ensure_ascii=False, indent=3))\n",
    "d2 = d['search'][\"postList\"]        #젤 위 키\n",
    "#print(d2)\n",
    "for post in d['search'][\"postList\"] :\n",
    "    print(f\"{post['title']:<30} {post['url'] :<50} {post['date']}\")\n"
   ]
  },
  {
   "cell_type": "code",
   "execution_count": 36,
   "id": "b4be134b",
   "metadata": {},
   "outputs": [
    {
     "data": {
      "text/plain": [
       "list"
      ]
     },
     "execution_count": 36,
     "metadata": {},
     "output_type": "execute_result"
    }
   ],
   "source": [
    "type(d2)"
   ]
  },
  {
   "cell_type": "code",
   "execution_count": 38,
   "id": "28de5a0a",
   "metadata": {},
   "outputs": [
    {
     "data": {
      "text/plain": [
       "dict_values"
      ]
     },
     "execution_count": 38,
     "metadata": {},
     "output_type": "execute_result"
    }
   ],
   "source": [
    "d3 = d2[0].values()\n",
    "type(d3)"
   ]
  }
 ],
 "metadata": {
  "kernelspec": {
   "display_name": "Python 3 (ipykernel)",
   "language": "python",
   "name": "python3"
  },
  "language_info": {
   "codemirror_mode": {
    "name": "ipython",
    "version": 3
   },
   "file_extension": ".py",
   "mimetype": "text/x-python",
   "name": "python",
   "nbconvert_exporter": "python",
   "pygments_lexer": "ipython3",
   "version": "3.10.4"
  }
 },
 "nbformat": 4,
 "nbformat_minor": 5
}
