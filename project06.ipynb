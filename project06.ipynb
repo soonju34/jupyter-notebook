{
 "cells": [
  {
   "cell_type": "markdown",
   "id": "a56c4e54",
   "metadata": {},
   "source": [
    "# 행렬 문자열 조작"
   ]
  },
  {
   "cell_type": "code",
   "execution_count": 1,
   "id": "7282f3ed",
   "metadata": {},
   "outputs": [],
   "source": [
    "b= [[10,20], [30,40],[50,60]]"
   ]
  },
  {
   "cell_type": "code",
   "execution_count": 2,
   "id": "74c746d5",
   "metadata": {},
   "outputs": [
    {
     "name": "stdout",
     "output_type": "stream",
     "text": [
      "10 20\n",
      "30 40\n",
      "50 60\n"
     ]
    }
   ],
   "source": [
    "for x,y in b:\n",
    "    print(x,y)"
   ]
  },
  {
   "cell_type": "code",
   "execution_count": 3,
   "id": "077bdbf4",
   "metadata": {},
   "outputs": [
    {
     "name": "stdout",
     "output_type": "stream",
     "text": [
      "10\n",
      "20\n",
      "30\n",
      "40\n",
      "50\n",
      "60\n"
     ]
    }
   ],
   "source": [
    "for i in b:                # i -> [10,20] 덩어리\n",
    "    for j in i:            # j -> [0][0] .... [2][1]\n",
    "        print(j)"
   ]
  },
  {
   "cell_type": "code",
   "execution_count": 5,
   "id": "2c461944",
   "metadata": {},
   "outputs": [
    {
     "name": "stdout",
     "output_type": "stream",
     "text": [
      "10 20 \n",
      "30 40 \n",
      "50 60 \n"
     ]
    }
   ],
   "source": [
    "b= [[10,20], [30,40],[50,60]]\n",
    "\n",
    "for i in b:\n",
    "    for j in i:\n",
    "        print(j, end = ' ')\n",
    "    print()"
   ]
  },
  {
   "cell_type": "code",
   "execution_count": 8,
   "id": "10bab863",
   "metadata": {},
   "outputs": [
    {
     "name": "stdout",
     "output_type": "stream",
     "text": [
      "10 20 \n",
      "30 40 \n",
      "50 60 \n"
     ]
    }
   ],
   "source": [
    "b= [[10,20], [30,40],[50,60]]\n",
    "for i in range(len(b)):\n",
    "    for j in range(len(b[i])):\n",
    "        print(b[i][j], end =' ')\n",
    "    print()"
   ]
  },
  {
   "cell_type": "code",
   "execution_count": 10,
   "id": "60b110d7",
   "metadata": {},
   "outputs": [
    {
     "name": "stdout",
     "output_type": "stream",
     "text": [
      "10 20\n",
      "30 40\n",
      "50 60\n"
     ]
    }
   ],
   "source": [
    "b= [[10,20], [30,40],[50,60]]     # while 문은 잘 쓰지 않는다\n",
    "i = 0\n",
    "while i <len(b):\n",
    "    x,y = b[i]\n",
    "    print(x,y)\n",
    "    i+=1"
   ]
  },
  {
   "cell_type": "code",
   "execution_count": 11,
   "id": "111e6f4d",
   "metadata": {},
   "outputs": [
    {
     "name": "stdout",
     "output_type": "stream",
     "text": [
      "[[0, 0], [0, 0], [0, 0]]\n"
     ]
    }
   ],
   "source": [
    "a = []\n",
    "for i in range(3):\n",
    "    line =[]\n",
    "    for j in range(2):\n",
    "        line.append(0)\n",
    "    a.append(line)\n",
    "print(a)"
   ]
  },
  {
   "cell_type": "code",
   "execution_count": 12,
   "id": "fbcd58e0",
   "metadata": {},
   "outputs": [
    {
     "name": "stdout",
     "output_type": "stream",
     "text": [
      "[[0, 1, 2], [0, 1, 2]]\n"
     ]
    }
   ],
   "source": [
    "a = []\n",
    "for i in range(2):\n",
    "    line= []\n",
    "    for j in range(3):\n",
    "        line.append(j)\n",
    "    a.append(line)\n",
    "print(a)"
   ]
  },
  {
   "cell_type": "markdown",
   "id": "e7626c62",
   "metadata": {},
   "source": [
    "#### 리스트 컨프리헨션?"
   ]
  },
  {
   "cell_type": "code",
   "execution_count": 13,
   "id": "1a4e0279",
   "metadata": {},
   "outputs": [],
   "source": [
    "a = [[0 for j in range(2)] for i in range(3)]"
   ]
  },
  {
   "cell_type": "code",
   "execution_count": 14,
   "id": "73fa9474",
   "metadata": {},
   "outputs": [
    {
     "data": {
      "text/plain": [
       "[[0, 0], [0, 0], [0, 0]]"
      ]
     },
     "execution_count": 14,
     "metadata": {},
     "output_type": "execute_result"
    }
   ],
   "source": [
    "a"
   ]
  },
  {
   "cell_type": "code",
   "execution_count": 15,
   "id": "7dd8ddff",
   "metadata": {},
   "outputs": [
    {
     "data": {
      "text/plain": [
       "[[0, 0], [0, 0], [0, 0]]"
      ]
     },
     "execution_count": 15,
     "metadata": {},
     "output_type": "execute_result"
    }
   ],
   "source": [
    "a = [[0] * 2 for i in range(3)]\n",
    "a"
   ]
  },
  {
   "cell_type": "markdown",
   "id": "196b0f84",
   "metadata": {},
   "source": [
    "#### 참조 데이블"
   ]
  },
  {
   "cell_type": "code",
   "execution_count": 1,
   "id": "d317adcf",
   "metadata": {},
   "outputs": [
    {
     "data": {
      "text/plain": [
       "'1ppl2'"
      ]
     },
     "execution_count": 1,
     "metadata": {},
     "output_type": "execute_result"
    }
   ],
   "source": [
    "table = str.maketrans('aeiou', '12345')\n",
    "'apple'.translate(table)"
   ]
  },
  {
   "cell_type": "markdown",
   "id": "6f62c6ae",
   "metadata": {},
   "source": [
    "#### 응용 버전 빈칸 없애서 문자열 만들기"
   ]
  },
  {
   "cell_type": "code",
   "execution_count": 9,
   "id": "96993e87",
   "metadata": {},
   "outputs": [
    {
     "name": "stdout",
     "output_type": "stream",
     "text": [
      "['apple,pear,grape,pineapple']\n"
     ]
    }
   ],
   "source": [
    "a = 'apple,      pear,    grape,    pineapple'\n",
    "result = a.replace(' ', '').split(', ')\n",
    "print(result)"
   ]
  },
  {
   "cell_type": "code",
   "execution_count": null,
   "id": "7777ea6c",
   "metadata": {},
   "outputs": [],
   "source": []
  },
  {
   "cell_type": "code",
   "execution_count": 10,
   "id": "299a602d",
   "metadata": {},
   "outputs": [
    {
     "ename": "ValueError",
     "evalue": "substring not found",
     "output_type": "error",
     "traceback": [
      "\u001b[1;31m---------------------------------------------------------------------------\u001b[0m",
      "\u001b[1;31mValueError\u001b[0m                                Traceback (most recent call last)",
      "Input \u001b[1;32mIn [10]\u001b[0m, in \u001b[0;36m<cell line: 1>\u001b[1;34m()\u001b[0m\n\u001b[1;32m----> 1\u001b[0m \u001b[38;5;124;43m'\u001b[39;49m\u001b[38;5;124;43mapple, pear, grape, pineapple, orange\u001b[39;49m\u001b[38;5;124;43m'\u001b[39;49m\u001b[38;5;241;43m.\u001b[39;49m\u001b[43mindex\u001b[49m\u001b[43m(\u001b[49m\u001b[38;5;124;43m'\u001b[39;49m\u001b[38;5;124;43mxy\u001b[39;49m\u001b[38;5;124;43m'\u001b[39;49m\u001b[43m)\u001b[49m\n",
      "\u001b[1;31mValueError\u001b[0m: substring not found"
     ]
    }
   ],
   "source": [
    "'apple, pear, grape, pineapple, orange'.index('xy')"
   ]
  },
  {
   "cell_type": "code",
   "execution_count": 20,
   "id": "d396322e",
   "metadata": {},
   "outputs": [
    {
     "name": "stdout",
     "output_type": "stream",
     "text": [
      "찾을 단어를 영문자로 입력하세요 xp\n",
      "찾을 수 없습니다\n"
     ]
    }
   ],
   "source": [
    "find_str =input('찾을 단어를 영문자로 입력하세요 ').strip()\n",
    "try:\n",
    "    \n",
    "    'apple, pear, grape, pineapple, orange'.index(find_str)\n",
    "except ValueError:\n",
    "    print(\"찾을 수 없습니다\")    "
   ]
  },
  {
   "cell_type": "code",
   "execution_count": null,
   "id": "69873e73",
   "metadata": {},
   "outputs": [],
   "source": []
  }
 ],
 "metadata": {
  "kernelspec": {
   "display_name": "Python 3 (ipykernel)",
   "language": "python",
   "name": "python3"
  },
  "language_info": {
   "codemirror_mode": {
    "name": "ipython",
    "version": 3
   },
   "file_extension": ".py",
   "mimetype": "text/x-python",
   "name": "python",
   "nbconvert_exporter": "python",
   "pygments_lexer": "ipython3",
   "version": "3.10.4"
  }
 },
 "nbformat": 4,
 "nbformat_minor": 5
}
